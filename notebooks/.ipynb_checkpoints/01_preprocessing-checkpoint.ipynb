{
 "cells": [
  {
   "cell_type": "code",
   "execution_count": 1,
   "id": "experienced-cleaners",
   "metadata": {},
   "outputs": [],
   "source": [
    "# Constants\n",
    "DATA_PATH   = \"../data/raw/survey_results_public.csv\"\n",
    "EXPORT_PATH = \"../data/processed/1_preprocessed_df.pkl\"\n",
    "\n",
    "REPLACE_DICT = {\n",
    "    'YearsCodePro': {'Less than 1 year': 0, 'More than 50 years': 51}, \n",
    "    'YearsCode':    {'Less than 1 year': 0, 'More than 50 years': 51}}\n"
   ]
  },
  {
   "cell_type": "code",
   "execution_count": 2,
   "id": "auburn-converter",
   "metadata": {},
   "outputs": [],
   "source": [
    "# Load packages\n",
    "import pandas as pd \n",
    "import numpy as np\n",
    "import logging\n",
    "import pickle"
   ]
  },
  {
   "cell_type": "markdown",
   "id": "491271e0",
   "metadata": {},
   "source": [
    "--------------------------"
   ]
  },
  {
   "cell_type": "markdown",
   "id": "21d45d53",
   "metadata": {},
   "source": [
    "# Functoins"
   ]
  },
  {
   "cell_type": "code",
   "execution_count": 3,
   "id": "085b90cc",
   "metadata": {},
   "outputs": [],
   "source": [
    "def split_answers(data_series, delimiter):\n",
    "    \"\"\"\n",
    "    Split a single string or answer to multiable strings in \n",
    "    a list each one representing an answer\n",
    "    \n",
    "    INPUT:\n",
    "        data_series : every series in the df if it is splitable\n",
    "        delimiter : the semicolin we split on\n",
    "        \n",
    "    RETURNS: (pd.Series): If column contains \n",
    "    \n",
    "    \"\"\"\n",
    "    def is_splitable(pd_series, delimiter):\n",
    "        \"\"\"\n",
    "        This should return boolean value if the series have a semi colin in it or not (should be splitted) \n",
    "        \"\"\"\n",
    "        return pd_series.str.contains(delimiter)\n",
    "    \n",
    "    def split_answer(pd_series, delimiter):\n",
    "        \"\"\"Function to split answers\"\"\"\n",
    "        return pd_series.str.split(delimiter)\n",
    "    \n",
    "    #-------------------------------\n",
    "    \n",
    "    # Check if multiple answers exist - if none: return original \n",
    "    splitable_answers = is_splitable(data_series,delimiter)\n",
    "    if not splitable_answers.any():\n",
    "        return data_series\n",
    "        \n",
    "    # Else split each value to a list\n",
    "    modified_answers = split_answer(data_series,delimiter)\n",
    "    \n",
    "    # replacing the null values with an empty list\n",
    "    mask = modified_answers.isnull()\n",
    "    modified_answers.loc[mask] = modified_answers.loc[mask].apply(lambda x : [])\n",
    "    \n",
    "    return modified_answers"
   ]
  },
  {
   "cell_type": "markdown",
   "id": "medical-repair",
   "metadata": {},
   "source": [
    "# Processing "
   ]
  },
  {
   "cell_type": "markdown",
   "id": "polyphonic-rhythm",
   "metadata": {},
   "source": [
    "## Preprocess Data "
   ]
  },
  {
   "cell_type": "code",
   "execution_count": 4,
   "id": "floppy-nursing",
   "metadata": {},
   "outputs": [],
   "source": [
    "raw_df = pd.read_csv(DATA_PATH)\n",
    "df = raw_df.copy()"
   ]
  },
  {
   "cell_type": "markdown",
   "id": "dedicated-tomorrow",
   "metadata": {},
   "source": [
    "### 1.  Replace Values and parse"
   ]
  },
  {
   "cell_type": "code",
   "execution_count": 5,
   "id": "fundamental-webster",
   "metadata": {},
   "outputs": [],
   "source": [
    "for col, replacement in REPLACE_DICT.items():\n",
    "    df[col] = df[col].replace(replacement).astype(np.float32)"
   ]
  },
  {
   "cell_type": "markdown",
   "id": "interstate-visit",
   "metadata": {},
   "source": [
    "### 2. Split multiple answers"
   ]
  },
  {
   "cell_type": "code",
   "execution_count": 6,
   "id": "570c8b6b",
   "metadata": {},
   "outputs": [],
   "source": [
    "object_cols = df.select_dtypes(include=\"object\").columns.tolist()\n",
    "for col in object_cols:\n",
    "    df[col] = split_answers(df[col], \";\")"
   ]
  },
  {
   "cell_type": "markdown",
   "id": "0f583665",
   "metadata": {},
   "source": [
    "------------------"
   ]
  },
  {
   "cell_type": "markdown",
   "id": "04505b74",
   "metadata": {},
   "source": [
    "## Visually verify results "
   ]
  },
  {
   "cell_type": "code",
   "execution_count": 13,
   "id": "4ba1e736",
   "metadata": {},
   "outputs": [
    {
     "name": "stdout",
     "output_type": "stream",
     "text": [
      "Developer, full-stack;DevOps specialist\n",
      "['Developer, full-stack', 'DevOps specialist']\n"
     ]
    }
   ],
   "source": [
    "i = df.sample().index[0]\n",
    "print(raw_df[\"DevType\"].iloc[i])\n",
    "print(df[\"DevType\"].iloc[i])"
   ]
  },
  {
   "cell_type": "code",
   "execution_count": 11,
   "id": "82462314",
   "metadata": {},
   "outputs": [
    {
     "name": "stdout",
     "output_type": "stream",
     "text": [
      "10\n",
      "10.0\n"
     ]
    }
   ],
   "source": [
    "i = df.sample(1).index[0]\n",
    "print(raw_df['YearsCodePro'].iloc[i])\n",
    "print(df['YearsCodePro'].iloc[i])"
   ]
  },
  {
   "cell_type": "markdown",
   "id": "tough-riding",
   "metadata": {},
   "source": [
    "# Export Data "
   ]
  },
  {
   "cell_type": "code",
   "execution_count": 9,
   "id": "documentary-click",
   "metadata": {},
   "outputs": [],
   "source": [
    "df.to_pickle(EXPORT_PATH)"
   ]
  },
  {
   "cell_type": "markdown",
   "id": "cc92987a",
   "metadata": {},
   "source": [
    "----------------------"
   ]
  }
 ],
 "metadata": {
  "language_info": {
   "codemirror_mode": {
    "name": "ipython",
    "version": 3
   },
   "file_extension": ".py",
   "mimetype": "text/x-python",
   "name": "python",
   "nbconvert_exporter": "python",
   "pygments_lexer": "ipython3",
   "version": "3.9.7"
  }
 },
 "nbformat": 4,
 "nbformat_minor": 5
}
