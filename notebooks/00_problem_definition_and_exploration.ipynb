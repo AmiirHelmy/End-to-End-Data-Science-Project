{
 "cells": [
  {
   "cell_type": "markdown",
   "id": "95325a70",
   "metadata": {},
   "source": [
    "# End-to-end Data Science project"
   ]
  },
  {
   "cell_type": "markdown",
   "id": "abe39712",
   "metadata": {},
   "source": [
    "## Problem statement\n",
    "Our (fictional) client is an IT educational institute. They have reached out to us has reach out with the following: “IT jobs and technologies keep evolving quickly. This makes our field to be one of the most interesting out there. But on the other hand, such fast development confuses our students. They do not know which skills they need to learn for which job. “Do I need to learn C++ to be a Data Scientist?” “Do DevOps and System admins use the same technologies?” “I really like JavaScript; can I use it in Data Analytics?” Those are some of the questions that our students ask. Could you please develop a data-driven solution for our students to answer such questions? They mostly want to understand the relationships between the jobs and the technologies."
   ]
  },
  {
   "cell_type": "markdown",
   "id": "ee5cd657",
   "metadata": {},
   "source": [
    "## Data Exploration"
   ]
  },
  {
   "cell_type": "code",
   "execution_count": 1,
   "id": "47c7c894-1a88-4f34-80ca-464a1dd5756d",
   "metadata": {},
   "outputs": [],
   "source": [
    "DATA_PATH = '../data/raw/survey_results_public.csv'"
   ]
  },
  {
   "cell_type": "code",
   "execution_count": 2,
   "id": "68e56afa-50d9-466b-8732-9edf54ac7a3c",
   "metadata": {},
   "outputs": [],
   "source": [
    "import pandas as pd \n",
    "import numpy as np\n",
    "pd.options.display.max_rows = 10000"
   ]
  },
  {
   "cell_type": "code",
   "execution_count": 3,
   "id": "14daa600-f678-4720-bd25-f39707264609",
   "metadata": {},
   "outputs": [
    {
     "data": {
      "text/plain": [
       "(83439, 48)"
      ]
     },
     "execution_count": 3,
     "metadata": {},
     "output_type": "execute_result"
    }
   ],
   "source": [
    "# Read data and print shape\n",
    "raw_df = pd.read_csv(DATA_PATH)\n",
    "raw_df.shape"
   ]
  },
  {
   "cell_type": "code",
   "execution_count": 15,
   "id": "bf00315d",
   "metadata": {},
   "outputs": [
    {
     "data": {
      "text/plain": [
       "ResponseId                                                                  30089\n",
       "MainBranch                                         I am a developer by profession\n",
       "Employment                      Independent contractor, freelancer, or self-em...\n",
       "Country                                                                     Egypt\n",
       "US_State                                                                      NaN\n",
       "UK_Country                                                                    NaN\n",
       "EdLevel                                        Professional degree (JD, MD, etc.)\n",
       "Age1stCode                                                          18 - 24 years\n",
       "LearnCode                       Friend or family member;Online Courses or Cert...\n",
       "YearsCode                                                                       4\n",
       "YearsCodePro                                                                   17\n",
       "DevType                         Developer, mobile;Developer, front-end;Develop...\n",
       "OrgSize                                                        10 to 19 employees\n",
       "Currency                                                      EGP\\tEgyptian pound\n",
       "CompTotal                                                                     NaN\n",
       "CompFreq                                                                  Monthly\n",
       "LanguageHaveWorkedWith                 C#;C++;Crystal;HTML/CSS;JavaScript;SQL;VBA\n",
       "LanguageWantToWorkWith                            Dart;Java;Kotlin;Node.js;Python\n",
       "DatabaseHaveWorkedWith                          Microsoft SQL Server;MySQL;SQLite\n",
       "DatabaseWantToWorkWith                 Firebase;IBM DB2;MongoDB;Oracle;PostgreSQL\n",
       "PlatformHaveWorkedWith                                            Microsoft Azure\n",
       "PlatformWantToWorkWith          AWS;Google Cloud Platform;IBM Cloud or Watson;...\n",
       "WebframeHaveWorkedWith                                     ASP.NET;Express;jQuery\n",
       "WebframeWantToWorkWith          Angular;Angular.js;ASP.NET Core ;Django;Larave...\n",
       "MiscTechHaveWorkedWith                              .NET Framework;Flutter;Hadoop\n",
       "MiscTechWantToWorkWith                    .NET Core / .NET 5;Cordova;React Native\n",
       "ToolsTechHaveWorkedWith                                        Docker;Git;Xamarin\n",
       "ToolsTechWantToWorkWith                              Docker;Git;Terraform;Xamarin\n",
       "NEWCollabToolsHaveWorkedWith    Android Studio;Eclipse;IntelliJ;NetBeans;Neovi...\n",
       "NEWCollabToolsWantToWorkWith    Android Studio;PyCharm;Visual Studio;Visual St...\n",
       "OpSys                                                                     Windows\n",
       "NEWStuck                        Call a coworker or friend;Visit Stack Overflow...\n",
       "NEWSOSites                                                         Stack Overflow\n",
       "SOVisitFreq                                                  A few times per week\n",
       "SOAccount                                                 Not sure/can't remember\n",
       "SOPartFreq                                                                    NaN\n",
       "SOComm                                                                   Not sure\n",
       "NEWOtherComms                                                                  No\n",
       "Age                                                               35-44 years old\n",
       "Gender                                                                        Man\n",
       "Trans                                                                          No\n",
       "Sexuality                                                Prefer to self-describe:\n",
       "Ethnicity                                                          Middle Eastern\n",
       "Accessibility                                                   None of the above\n",
       "MentalHealth                                                    None of the above\n",
       "SurveyLength                                                Appropriate in length\n",
       "SurveyEase                                             Neither easy nor difficult\n",
       "ConvertedCompYearly                                                           NaN\n",
       "Name: 30088, dtype: object"
      ]
     },
     "execution_count": 15,
     "metadata": {},
     "output_type": "execute_result"
    }
   ],
   "source": [
    "raw_df.sample(1).iloc[0]"
   ]
  },
  {
   "cell_type": "markdown",
   "id": "ba6fec6e",
   "metadata": {},
   "source": [
    "### Noticed some columns that need to be processed for our analysis\n",
    "* Each value in columns like devtyp column need to be separeted by the semicolumn"
   ]
  },
  {
   "cell_type": "code",
   "execution_count": 16,
   "id": "c71ebd56",
   "metadata": {},
   "outputs": [
    {
     "name": "stdout",
     "output_type": "stream",
     "text": [
      "<class 'pandas.core.frame.DataFrame'>\n",
      "RangeIndex: 83439 entries, 0 to 83438\n",
      "Data columns (total 48 columns):\n",
      " #   Column                        Non-Null Count  Dtype  \n",
      "---  ------                        --------------  -----  \n",
      " 0   ResponseId                    83439 non-null  int64  \n",
      " 1   MainBranch                    83439 non-null  object \n",
      " 2   Employment                    83323 non-null  object \n",
      " 3   Country                       83439 non-null  object \n",
      " 4   US_State                      14920 non-null  object \n",
      " 5   UK_Country                    4418 non-null   object \n",
      " 6   EdLevel                       83126 non-null  object \n",
      " 7   Age1stCode                    83243 non-null  object \n",
      " 8   LearnCode                     82963 non-null  object \n",
      " 9   YearsCode                     81641 non-null  object \n",
      " 10  YearsCodePro                  61216 non-null  object \n",
      " 11  DevType                       66484 non-null  object \n",
      " 12  OrgSize                       60726 non-null  object \n",
      " 13  Currency                      61080 non-null  object \n",
      " 14  CompTotal                     47183 non-null  float64\n",
      " 15  CompFreq                      52150 non-null  object \n",
      " 16  LanguageHaveWorkedWith        82357 non-null  object \n",
      " 17  LanguageWantToWorkWith        76821 non-null  object \n",
      " 18  DatabaseHaveWorkedWith        69546 non-null  object \n",
      " 19  DatabaseWantToWorkWith        58299 non-null  object \n",
      " 20  PlatformHaveWorkedWith        52135 non-null  object \n",
      " 21  PlatformWantToWorkWith        41619 non-null  object \n",
      " 22  WebframeHaveWorkedWith        61707 non-null  object \n",
      " 23  WebframeWantToWorkWith        52095 non-null  object \n",
      " 24  MiscTechHaveWorkedWith        47055 non-null  object \n",
      " 25  MiscTechWantToWorkWith        38021 non-null  object \n",
      " 26  ToolsTechHaveWorkedWith       72537 non-null  object \n",
      " 27  ToolsTechWantToWorkWith       65480 non-null  object \n",
      " 28  NEWCollabToolsHaveWorkedWith  81234 non-null  object \n",
      " 29  NEWCollabToolsWantToWorkWith  73022 non-null  object \n",
      " 30  OpSys                         83294 non-null  object \n",
      " 31  NEWStuck                      83052 non-null  object \n",
      " 32  NEWSOSites                    83171 non-null  object \n",
      " 33  SOVisitFreq                   82413 non-null  object \n",
      " 34  SOAccount                     82525 non-null  object \n",
      " 35  SOPartFreq                    67553 non-null  object \n",
      " 36  SOComm                        82319 non-null  object \n",
      " 37  NEWOtherComms                 82828 non-null  object \n",
      " 38  Age                           82407 non-null  object \n",
      " 39  Gender                        82286 non-null  object \n",
      " 40  Trans                         80678 non-null  object \n",
      " 41  Sexuality                     73366 non-null  object \n",
      " 42  Ethnicity                     79464 non-null  object \n",
      " 43  Accessibility                 77603 non-null  object \n",
      " 44  MentalHealth                  76920 non-null  object \n",
      " 45  SurveyLength                  81711 non-null  object \n",
      " 46  SurveyEase                    81948 non-null  object \n",
      " 47  ConvertedCompYearly           46844 non-null  float64\n",
      "dtypes: float64(2), int64(1), object(45)\n",
      "memory usage: 30.6+ MB\n"
     ]
    }
   ],
   "source": [
    "# print general information of the dataframe\n",
    "raw_df.info()"
   ]
  },
  {
   "cell_type": "markdown",
   "id": "257206dd",
   "metadata": {},
   "source": [
    "### Observations\n",
    "* some columns that are parsed as object while it supposed to be float"
   ]
  },
  {
   "cell_type": "code",
   "execution_count": 22,
   "id": "7ce304c7",
   "metadata": {},
   "outputs": [
    {
     "name": "stdout",
     "output_type": "stream",
     "text": [
      "YearsCodePro\n",
      "[nan, '10', '4', '5', '6', '2', '30', '9', '18', '12', '21', '1', '16', 'Less than 1 year', '15', '3', '35', '7', '8', '17', '14', '26', '25', '20', '50', '34', '11', '24', '22', '13', '31', '23', '39', '41', '27', '28', '19', '33', 'More than 50 years', '37', '29', '32', '43', '40', '38', '45', '42', '46', '36', '44', '47', '48', '49']\n",
      "----------------------------------------------------------------------\n",
      "\n",
      "YearsCode\n",
      "[nan, '7', '17', '3', '4', '6', '16', '12', '15', '10', '40', '9', '26', '14', '39', '20', '8', '19', '5', 'Less than 1 year', '22', '2', '1', '34', '21', '13', '25', '24', '30', '31', '18', '38', 'More than 50 years', '27', '41', '42', '35', '23', '28', '11', '37', '44', '43', '36', '33', '45', '29', '50', '46', '32', '47', '49', '48']\n",
      "----------------------------------------------------------------------\n",
      "\n"
     ]
    }
   ],
   "source": [
    "# Invistegate some quistionable columns\n",
    "cols = [\"YearsCodePro\",\"YearsCode\"]\n",
    "\n",
    "for col in cols:\n",
    "    print(col)\n",
    "    print(raw_df[col].unique().tolist())\n",
    "    print(\"-\"*70)\n",
    "    print()"
   ]
  },
  {
   "cell_type": "markdown",
   "id": "95e6e894",
   "metadata": {},
   "source": [
    "As we can see here these columns \"YearsCodePro\" & \"YearsCode\" have some values that needs our intervention as it cant be float "
   ]
  },
  {
   "cell_type": "markdown",
   "id": "31087431",
   "metadata": {},
   "source": [
    "## Summing up what we need to be preprocessed \n",
    "* Parse columns that need to be changed to float.\n",
    "* Replace values of \"YearsCodePro\" & \"YearsCode\" columns."
   ]
  }
 ],
 "metadata": {
  "kernelspec": {
   "display_name": "Python 3 (ipykernel)",
   "language": "python",
   "name": "python3"
  },
  "language_info": {
   "codemirror_mode": {
    "name": "ipython",
    "version": 3
   },
   "file_extension": ".py",
   "mimetype": "text/x-python",
   "name": "python",
   "nbconvert_exporter": "python",
   "pygments_lexer": "ipython3",
   "version": "3.9.7"
  }
 },
 "nbformat": 4,
 "nbformat_minor": 5
}
