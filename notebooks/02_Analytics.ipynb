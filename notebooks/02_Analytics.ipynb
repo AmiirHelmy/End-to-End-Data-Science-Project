{
 "cells": [
  {
   "cell_type": "markdown",
   "id": "2b1d6f01",
   "metadata": {},
   "source": [
    "# Analytics & Descriptive statistics"
   ]
  },
  {
   "cell_type": "markdown",
   "id": "08d1eaa4",
   "metadata": {},
   "source": [
    "Some question we will try to answer from the dataset related to our specific analysis\n",
    "* Total number of answers in the questionnaire\n",
    "* Geographical distributions\n",
    "* If there is missing answers \n",
    "* SKILLS\n",
    "    * Frequency of each skill\n",
    "    * How are skills correlated with each others \n",
    "* JOPS \n",
    "    * Freauency of each job\n",
    "    * How are jops related to each others \n",
    "* Ralation between the skills and the jobs\n",
    "* What is the the specificty of each skill to a job "
   ]
  },
  {
   "cell_type": "code",
   "execution_count": 1,
   "id": "26b245d9-5a7d-404d-bb97-7e8379f4b88b",
   "metadata": {},
   "outputs": [],
   "source": [
    "DF_PATH = \"../data/processed/1_preprocessed_df.pkl\"\n",
    "ROLES_PATH = \"../data/raw/roles_short_names.csv\" \n",
    "FIG_DIR = \"../reports/figures\"\n",
    "\n",
    "NA_STRING = 'Not Specified'\n",
    "TRANSPARENT_STRING = 'rgba(0, 0, 0, 0)'\n",
    "\n",
    "# Columns we choose to work with that is related to our analysis \n",
    "ROLE_COLS      = ['DevType']\n",
    "TECH_COLS      = ['LanguageHaveWorkedWith',\n",
    "                  'DatabaseHaveWorkedWith',\n",
    "                  'PlatformHaveWorkedWith',\n",
    "                  'WebframeHaveWorkedWith',\n",
    "                  'MiscTechHaveWorkedWith',\n",
    "                  'ToolsTechHaveWorkedWith',\n",
    "                  'NEWCollabToolsHaveWorkedWith']"
   ]
  },
  {
   "cell_type": "code",
   "execution_count": 2,
   "id": "c55f2ea6-1abe-4451-b5b3-6bfdd1335a03",
   "metadata": {},
   "outputs": [],
   "source": [
    "# Load packages\n",
    "import pandas as pd \n",
    "import numpy as np\n",
    "import logging\n",
    "import pickle\n",
    "import os\n",
    "\n",
    "import plotly \n",
    "import plotly.graph_objects as go\n",
    "from plotly.subplots import make_subplots\n",
    "import plotly.express as px\n",
    "import plotly.figure_factory as ff\n",
    "\n",
    "from sklearn.manifold import TSNE\n",
    "from sklearn.preprocessing import MultiLabelBinarizer\n",
    "from sklearn.preprocessing import StandardScaler\n",
    "from sklearn.preprocessing import RobustScaler\n",
    "from sklearn.preprocessing import MinMaxScaler\n",
    "from sklearn.pipeline import make_pipeline\n",
    "from sklearn.cluster import AgglomerativeClustering\n",
    "\n",
    "from matplotlib import pyplot as plt\n",
    "from scipy.cluster.hierarchy import dendrogram\n",
    "\n",
    "# To display all columns and rows\n",
    "pd.options.display.max_rows = 10000\n",
    "pd.options.display.max_columns = 10000\n",
    "\n"
   ]
  },
  {
   "cell_type": "markdown",
   "id": "bb4c520d-7e43-4d3e-a0d3-5c3b621bf394",
   "metadata": {},
   "source": [
    "_________"
   ]
  },
  {
   "cell_type": "markdown",
   "id": "78f0cae1-bd59-4946-9dc9-09cc9e42b7fa",
   "metadata": {},
   "source": [
    "## Read data and preprocess"
   ]
  },
  {
   "cell_type": "code",
   "execution_count": 3,
   "id": "55d4f27d-d61f-4a44-a56c-0ef612d12b49",
   "metadata": {},
   "outputs": [],
   "source": [
    "# Read Data \n",
    "raw_df = pd.read_pickle(DF_PATH)\n",
    "roles_names = pd.read_csv(ROLES_PATH, sep=';')"
   ]
  },
  {
   "cell_type": "markdown",
   "id": "bd5919d3",
   "metadata": {},
   "source": [
    "At first we will encode the data."
   ]
  },
  {
   "cell_type": "code",
   "execution_count": 4,
   "id": "18564b03",
   "metadata": {},
   "outputs": [],
   "source": [
    "df = raw_df.copy()\n",
    "encoded_dfs = {}\n",
    "\n",
    "# Insiantiating the banarizer\n",
    "banarizer = MultiLabelBinarizer()\n",
    "\n",
    "for col in ROLE_COLS + TECH_COLS:\n",
    "    encoded_df = pd.DataFrame(banarizer.fit_transform(df[col]),\n",
    "                              columns = banarizer.classes_,\n",
    "                              index = df[col].index)\n",
    "    encoded_dfs[col] = encoded_df"
   ]
  },
  {
   "cell_type": "code",
   "execution_count": 25,
   "id": "b88312b6",
   "metadata": {},
   "outputs": [
    {
     "data": {
      "text/html": [
       "<div>\n",
       "<style scoped>\n",
       "    .dataframe tbody tr th:only-of-type {\n",
       "        vertical-align: middle;\n",
       "    }\n",
       "\n",
       "    .dataframe tbody tr th {\n",
       "        vertical-align: top;\n",
       "    }\n",
       "\n",
       "    .dataframe thead tr th {\n",
       "        text-align: left;\n",
       "    }\n",
       "</style>\n",
       "<table border=\"1\" class=\"dataframe\">\n",
       "  <thead>\n",
       "    <tr>\n",
       "      <th></th>\n",
       "      <th colspan=\"25\" halign=\"left\">DevType</th>\n",
       "      <th colspan=\"38\" halign=\"left\">LanguageHaveWorkedWith</th>\n",
       "      <th colspan=\"14\" halign=\"left\">DatabaseHaveWorkedWith</th>\n",
       "      <th colspan=\"7\" halign=\"left\">PlatformHaveWorkedWith</th>\n",
       "      <th colspan=\"18\" halign=\"left\">WebframeHaveWorkedWith</th>\n",
       "      <th colspan=\"13\" halign=\"left\">MiscTechHaveWorkedWith</th>\n",
       "      <th colspan=\"14\" halign=\"left\">ToolsTechHaveWorkedWith</th>\n",
       "      <th colspan=\"21\" halign=\"left\">NEWCollabToolsHaveWorkedWith</th>\n",
       "    </tr>\n",
       "    <tr>\n",
       "      <th></th>\n",
       "      <th>Academic researcher</th>\n",
       "      <th>Data or business analyst</th>\n",
       "      <th>Data scientist or machine learning specialist</th>\n",
       "      <th>Database administrator</th>\n",
       "      <th>Designer</th>\n",
       "      <th>DevOps specialist</th>\n",
       "      <th>Developer, QA or test</th>\n",
       "      <th>Developer, back-end</th>\n",
       "      <th>Developer, desktop or enterprise applications</th>\n",
       "      <th>Developer, embedded applications or devices</th>\n",
       "      <th>Developer, front-end</th>\n",
       "      <th>Developer, full-stack</th>\n",
       "      <th>Developer, game or graphics</th>\n",
       "      <th>Developer, mobile</th>\n",
       "      <th>Educator</th>\n",
       "      <th>Engineer, data</th>\n",
       "      <th>Engineer, site reliability</th>\n",
       "      <th>Engineering manager</th>\n",
       "      <th>Marketing or sales professional</th>\n",
       "      <th>Other (please specify):</th>\n",
       "      <th>Product manager</th>\n",
       "      <th>Scientist</th>\n",
       "      <th>Senior Executive (C-Suite, VP, etc.)</th>\n",
       "      <th>Student</th>\n",
       "      <th>System administrator</th>\n",
       "      <th>APL</th>\n",
       "      <th>Assembly</th>\n",
       "      <th>Bash/Shell</th>\n",
       "      <th>C</th>\n",
       "      <th>C#</th>\n",
       "      <th>C++</th>\n",
       "      <th>COBOL</th>\n",
       "      <th>Clojure</th>\n",
       "      <th>Crystal</th>\n",
       "      <th>Dart</th>\n",
       "      <th>Delphi</th>\n",
       "      <th>Elixir</th>\n",
       "      <th>Erlang</th>\n",
       "      <th>F#</th>\n",
       "      <th>Go</th>\n",
       "      <th>Groovy</th>\n",
       "      <th>HTML/CSS</th>\n",
       "      <th>Haskell</th>\n",
       "      <th>Java</th>\n",
       "      <th>JavaScript</th>\n",
       "      <th>Julia</th>\n",
       "      <th>Kotlin</th>\n",
       "      <th>LISP</th>\n",
       "      <th>Matlab</th>\n",
       "      <th>Node.js</th>\n",
       "      <th>Objective-C</th>\n",
       "      <th>PHP</th>\n",
       "      <th>Perl</th>\n",
       "      <th>PowerShell</th>\n",
       "      <th>Python</th>\n",
       "      <th>R</th>\n",
       "      <th>Ruby</th>\n",
       "      <th>Rust</th>\n",
       "      <th>SQL</th>\n",
       "      <th>Scala</th>\n",
       "      <th>Swift</th>\n",
       "      <th>TypeScript</th>\n",
       "      <th>VBA</th>\n",
       "      <th>Cassandra</th>\n",
       "      <th>Couchbase</th>\n",
       "      <th>DynamoDB</th>\n",
       "      <th>Elasticsearch</th>\n",
       "      <th>Firebase</th>\n",
       "      <th>IBM DB2</th>\n",
       "      <th>MariaDB</th>\n",
       "      <th>Microsoft SQL Server</th>\n",
       "      <th>MongoDB</th>\n",
       "      <th>MySQL</th>\n",
       "      <th>Oracle</th>\n",
       "      <th>PostgreSQL</th>\n",
       "      <th>Redis</th>\n",
       "      <th>SQLite</th>\n",
       "      <th>AWS</th>\n",
       "      <th>DigitalOcean</th>\n",
       "      <th>Google Cloud Platform</th>\n",
       "      <th>Heroku</th>\n",
       "      <th>IBM Cloud or Watson</th>\n",
       "      <th>Microsoft Azure</th>\n",
       "      <th>Oracle Cloud Infrastructure</th>\n",
       "      <th>ASP.NET</th>\n",
       "      <th>ASP.NET Core</th>\n",
       "      <th>Angular</th>\n",
       "      <th>Angular.js</th>\n",
       "      <th>Django</th>\n",
       "      <th>Drupal</th>\n",
       "      <th>Express</th>\n",
       "      <th>FastAPI</th>\n",
       "      <th>Flask</th>\n",
       "      <th>Gatsby</th>\n",
       "      <th>Laravel</th>\n",
       "      <th>React.js</th>\n",
       "      <th>Ruby on Rails</th>\n",
       "      <th>Spring</th>\n",
       "      <th>Svelte</th>\n",
       "      <th>Symfony</th>\n",
       "      <th>Vue.js</th>\n",
       "      <th>jQuery</th>\n",
       "      <th>.NET Core / .NET 5</th>\n",
       "      <th>.NET Framework</th>\n",
       "      <th>Apache Spark</th>\n",
       "      <th>Cordova</th>\n",
       "      <th>Flutter</th>\n",
       "      <th>Hadoop</th>\n",
       "      <th>Keras</th>\n",
       "      <th>NumPy</th>\n",
       "      <th>Pandas</th>\n",
       "      <th>Qt</th>\n",
       "      <th>React Native</th>\n",
       "      <th>TensorFlow</th>\n",
       "      <th>Torch/PyTorch</th>\n",
       "      <th>Ansible</th>\n",
       "      <th>Chef</th>\n",
       "      <th>Deno</th>\n",
       "      <th>Docker</th>\n",
       "      <th>Flow</th>\n",
       "      <th>Git</th>\n",
       "      <th>Kubernetes</th>\n",
       "      <th>Pulumi</th>\n",
       "      <th>Puppet</th>\n",
       "      <th>Terraform</th>\n",
       "      <th>Unity 3D</th>\n",
       "      <th>Unreal Engine</th>\n",
       "      <th>Xamarin</th>\n",
       "      <th>Yarn</th>\n",
       "      <th>Android Studio</th>\n",
       "      <th>Atom</th>\n",
       "      <th>Eclipse</th>\n",
       "      <th>Emacs</th>\n",
       "      <th>IPython/Jupyter</th>\n",
       "      <th>IntelliJ</th>\n",
       "      <th>Neovim</th>\n",
       "      <th>NetBeans</th>\n",
       "      <th>Notepad++</th>\n",
       "      <th>PHPStorm</th>\n",
       "      <th>PyCharm</th>\n",
       "      <th>RStudio</th>\n",
       "      <th>Rider</th>\n",
       "      <th>RubyMine</th>\n",
       "      <th>Sublime Text</th>\n",
       "      <th>TextMate</th>\n",
       "      <th>Vim</th>\n",
       "      <th>Visual Studio</th>\n",
       "      <th>Visual Studio Code</th>\n",
       "      <th>Webstorm</th>\n",
       "      <th>Xcode</th>\n",
       "    </tr>\n",
       "  </thead>\n",
       "  <tbody>\n",
       "    <tr>\n",
       "      <th>0</th>\n",
       "      <td>0</td>\n",
       "      <td>0</td>\n",
       "      <td>0</td>\n",
       "      <td>0</td>\n",
       "      <td>0</td>\n",
       "      <td>0</td>\n",
       "      <td>0</td>\n",
       "      <td>0</td>\n",
       "      <td>0</td>\n",
       "      <td>0</td>\n",
       "      <td>0</td>\n",
       "      <td>0</td>\n",
       "      <td>0</td>\n",
       "      <td>1</td>\n",
       "      <td>0</td>\n",
       "      <td>0</td>\n",
       "      <td>0</td>\n",
       "      <td>0</td>\n",
       "      <td>0</td>\n",
       "      <td>0</td>\n",
       "      <td>0</td>\n",
       "      <td>0</td>\n",
       "      <td>0</td>\n",
       "      <td>0</td>\n",
       "      <td>0</td>\n",
       "      <td>0</td>\n",
       "      <td>0</td>\n",
       "      <td>0</td>\n",
       "      <td>0</td>\n",
       "      <td>0</td>\n",
       "      <td>1</td>\n",
       "      <td>0</td>\n",
       "      <td>0</td>\n",
       "      <td>0</td>\n",
       "      <td>0</td>\n",
       "      <td>0</td>\n",
       "      <td>0</td>\n",
       "      <td>0</td>\n",
       "      <td>0</td>\n",
       "      <td>0</td>\n",
       "      <td>0</td>\n",
       "      <td>1</td>\n",
       "      <td>0</td>\n",
       "      <td>0</td>\n",
       "      <td>1</td>\n",
       "      <td>0</td>\n",
       "      <td>0</td>\n",
       "      <td>0</td>\n",
       "      <td>0</td>\n",
       "      <td>0</td>\n",
       "      <td>1</td>\n",
       "      <td>1</td>\n",
       "      <td>0</td>\n",
       "      <td>0</td>\n",
       "      <td>0</td>\n",
       "      <td>0</td>\n",
       "      <td>0</td>\n",
       "      <td>0</td>\n",
       "      <td>0</td>\n",
       "      <td>0</td>\n",
       "      <td>1</td>\n",
       "      <td>0</td>\n",
       "      <td>0</td>\n",
       "      <td>0</td>\n",
       "      <td>0</td>\n",
       "      <td>0</td>\n",
       "      <td>0</td>\n",
       "      <td>0</td>\n",
       "      <td>0</td>\n",
       "      <td>0</td>\n",
       "      <td>0</td>\n",
       "      <td>0</td>\n",
       "      <td>0</td>\n",
       "      <td>0</td>\n",
       "      <td>1</td>\n",
       "      <td>0</td>\n",
       "      <td>1</td>\n",
       "      <td>0</td>\n",
       "      <td>0</td>\n",
       "      <td>0</td>\n",
       "      <td>0</td>\n",
       "      <td>0</td>\n",
       "      <td>0</td>\n",
       "      <td>0</td>\n",
       "      <td>0</td>\n",
       "      <td>0</td>\n",
       "      <td>0</td>\n",
       "      <td>0</td>\n",
       "      <td>0</td>\n",
       "      <td>0</td>\n",
       "      <td>0</td>\n",
       "      <td>0</td>\n",
       "      <td>0</td>\n",
       "      <td>0</td>\n",
       "      <td>1</td>\n",
       "      <td>0</td>\n",
       "      <td>0</td>\n",
       "      <td>0</td>\n",
       "      <td>0</td>\n",
       "      <td>1</td>\n",
       "      <td>0</td>\n",
       "      <td>0</td>\n",
       "      <td>0</td>\n",
       "      <td>0</td>\n",
       "      <td>0</td>\n",
       "      <td>0</td>\n",
       "      <td>0</td>\n",
       "      <td>0</td>\n",
       "      <td>0</td>\n",
       "      <td>0</td>\n",
       "      <td>0</td>\n",
       "      <td>0</td>\n",
       "      <td>0</td>\n",
       "      <td>0</td>\n",
       "      <td>0</td>\n",
       "      <td>0</td>\n",
       "      <td>0</td>\n",
       "      <td>0</td>\n",
       "      <td>0</td>\n",
       "      <td>0</td>\n",
       "      <td>0</td>\n",
       "      <td>0</td>\n",
       "      <td>0</td>\n",
       "      <td>0</td>\n",
       "      <td>0</td>\n",
       "      <td>0</td>\n",
       "      <td>0</td>\n",
       "      <td>0</td>\n",
       "      <td>0</td>\n",
       "      <td>0</td>\n",
       "      <td>0</td>\n",
       "      <td>0</td>\n",
       "      <td>0</td>\n",
       "      <td>0</td>\n",
       "      <td>0</td>\n",
       "      <td>0</td>\n",
       "      <td>0</td>\n",
       "      <td>0</td>\n",
       "      <td>1</td>\n",
       "      <td>0</td>\n",
       "      <td>0</td>\n",
       "      <td>0</td>\n",
       "      <td>0</td>\n",
       "      <td>0</td>\n",
       "      <td>0</td>\n",
       "      <td>0</td>\n",
       "      <td>0</td>\n",
       "      <td>0</td>\n",
       "      <td>0</td>\n",
       "      <td>1</td>\n",
       "    </tr>\n",
       "    <tr>\n",
       "      <th>1</th>\n",
       "      <td>0</td>\n",
       "      <td>0</td>\n",
       "      <td>0</td>\n",
       "      <td>0</td>\n",
       "      <td>0</td>\n",
       "      <td>0</td>\n",
       "      <td>0</td>\n",
       "      <td>0</td>\n",
       "      <td>0</td>\n",
       "      <td>0</td>\n",
       "      <td>0</td>\n",
       "      <td>0</td>\n",
       "      <td>0</td>\n",
       "      <td>0</td>\n",
       "      <td>0</td>\n",
       "      <td>0</td>\n",
       "      <td>0</td>\n",
       "      <td>0</td>\n",
       "      <td>0</td>\n",
       "      <td>0</td>\n",
       "      <td>0</td>\n",
       "      <td>0</td>\n",
       "      <td>0</td>\n",
       "      <td>0</td>\n",
       "      <td>0</td>\n",
       "      <td>0</td>\n",
       "      <td>0</td>\n",
       "      <td>0</td>\n",
       "      <td>0</td>\n",
       "      <td>0</td>\n",
       "      <td>0</td>\n",
       "      <td>0</td>\n",
       "      <td>0</td>\n",
       "      <td>0</td>\n",
       "      <td>0</td>\n",
       "      <td>0</td>\n",
       "      <td>0</td>\n",
       "      <td>0</td>\n",
       "      <td>0</td>\n",
       "      <td>0</td>\n",
       "      <td>0</td>\n",
       "      <td>0</td>\n",
       "      <td>0</td>\n",
       "      <td>0</td>\n",
       "      <td>1</td>\n",
       "      <td>0</td>\n",
       "      <td>0</td>\n",
       "      <td>0</td>\n",
       "      <td>0</td>\n",
       "      <td>0</td>\n",
       "      <td>0</td>\n",
       "      <td>0</td>\n",
       "      <td>0</td>\n",
       "      <td>0</td>\n",
       "      <td>1</td>\n",
       "      <td>0</td>\n",
       "      <td>0</td>\n",
       "      <td>0</td>\n",
       "      <td>0</td>\n",
       "      <td>0</td>\n",
       "      <td>0</td>\n",
       "      <td>0</td>\n",
       "      <td>0</td>\n",
       "      <td>0</td>\n",
       "      <td>0</td>\n",
       "      <td>0</td>\n",
       "      <td>0</td>\n",
       "      <td>0</td>\n",
       "      <td>0</td>\n",
       "      <td>0</td>\n",
       "      <td>0</td>\n",
       "      <td>0</td>\n",
       "      <td>0</td>\n",
       "      <td>0</td>\n",
       "      <td>1</td>\n",
       "      <td>0</td>\n",
       "      <td>0</td>\n",
       "      <td>0</td>\n",
       "      <td>0</td>\n",
       "      <td>0</td>\n",
       "      <td>0</td>\n",
       "      <td>0</td>\n",
       "      <td>0</td>\n",
       "      <td>0</td>\n",
       "      <td>0</td>\n",
       "      <td>0</td>\n",
       "      <td>1</td>\n",
       "      <td>0</td>\n",
       "      <td>0</td>\n",
       "      <td>0</td>\n",
       "      <td>0</td>\n",
       "      <td>0</td>\n",
       "      <td>1</td>\n",
       "      <td>0</td>\n",
       "      <td>0</td>\n",
       "      <td>0</td>\n",
       "      <td>0</td>\n",
       "      <td>0</td>\n",
       "      <td>0</td>\n",
       "      <td>0</td>\n",
       "      <td>1</td>\n",
       "      <td>0</td>\n",
       "      <td>0</td>\n",
       "      <td>0</td>\n",
       "      <td>0</td>\n",
       "      <td>1</td>\n",
       "      <td>0</td>\n",
       "      <td>0</td>\n",
       "      <td>0</td>\n",
       "      <td>0</td>\n",
       "      <td>0</td>\n",
       "      <td>0</td>\n",
       "      <td>0</td>\n",
       "      <td>0</td>\n",
       "      <td>0</td>\n",
       "      <td>0</td>\n",
       "      <td>0</td>\n",
       "      <td>0</td>\n",
       "      <td>1</td>\n",
       "      <td>0</td>\n",
       "      <td>1</td>\n",
       "      <td>0</td>\n",
       "      <td>0</td>\n",
       "      <td>0</td>\n",
       "      <td>0</td>\n",
       "      <td>0</td>\n",
       "      <td>0</td>\n",
       "      <td>0</td>\n",
       "      <td>1</td>\n",
       "      <td>1</td>\n",
       "      <td>0</td>\n",
       "      <td>0</td>\n",
       "      <td>0</td>\n",
       "      <td>0</td>\n",
       "      <td>1</td>\n",
       "      <td>0</td>\n",
       "      <td>0</td>\n",
       "      <td>1</td>\n",
       "      <td>0</td>\n",
       "      <td>1</td>\n",
       "      <td>0</td>\n",
       "      <td>0</td>\n",
       "      <td>0</td>\n",
       "      <td>0</td>\n",
       "      <td>0</td>\n",
       "      <td>0</td>\n",
       "      <td>0</td>\n",
       "      <td>0</td>\n",
       "      <td>0</td>\n",
       "      <td>0</td>\n",
       "    </tr>\n",
       "  </tbody>\n",
       "</table>\n",
       "</div>"
      ],
      "text/plain": [
       "              DevType                           \\\n",
       "  Academic researcher Data or business analyst   \n",
       "0                   0                        0   \n",
       "1                   0                        0   \n",
       "\n",
       "                                                                        \\\n",
       "  Data scientist or machine learning specialist Database administrator   \n",
       "0                                             0                      0   \n",
       "1                                             0                      0   \n",
       "\n",
       "                                                                        \\\n",
       "  Designer DevOps specialist Developer, QA or test Developer, back-end   \n",
       "0        0                 0                     0                   0   \n",
       "1        0                 0                     0                   0   \n",
       "\n",
       "                                                 \\\n",
       "  Developer, desktop or enterprise applications   \n",
       "0                                             0   \n",
       "1                                             0   \n",
       "\n",
       "                                                                    \\\n",
       "  Developer, embedded applications or devices Developer, front-end   \n",
       "0                                           0                    0   \n",
       "1                                           0                    0   \n",
       "\n",
       "                                                                       \\\n",
       "  Developer, full-stack Developer, game or graphics Developer, mobile   \n",
       "0                     0                           0                 1   \n",
       "1                     0                           0                 0   \n",
       "\n",
       "                                                                          \\\n",
       "  Educator Engineer, data Engineer, site reliability Engineering manager   \n",
       "0        0              0                          0                   0   \n",
       "1        0              0                          0                   0   \n",
       "\n",
       "                                                                           \\\n",
       "  Marketing or sales professional Other (please specify): Product manager   \n",
       "0                               0                       0               0   \n",
       "1                               0                       0               0   \n",
       "\n",
       "                                                                               \\\n",
       "  Scientist Senior Executive (C-Suite, VP, etc.) Student System administrator   \n",
       "0         0                                    0       0                    0   \n",
       "1         0                                    0       0                    0   \n",
       "\n",
       "  LanguageHaveWorkedWith                                                      \\\n",
       "                     APL Assembly Bash/Shell  C C# C++ COBOL Clojure Crystal   \n",
       "0                      0        0          0  0  0   1     0       0       0   \n",
       "1                      0        0          0  0  0   0     0       0       0   \n",
       "\n",
       "                                                                           \\\n",
       "  Dart Delphi Elixir Erlang F# Go Groovy HTML/CSS Haskell Java JavaScript   \n",
       "0    0      0      0      0  0  0      0        1       0    0          1   \n",
       "1    0      0      0      0  0  0      0        0       0    0          1   \n",
       "\n",
       "                                                                              \\\n",
       "  Julia Kotlin LISP Matlab Node.js Objective-C PHP Perl PowerShell Python  R   \n",
       "0     0      0    0      0       0           1   1    0          0      0  0   \n",
       "1     0      0    0      0       0           0   0    0          0      1  0   \n",
       "\n",
       "                                           DatabaseHaveWorkedWith            \\\n",
       "  Ruby Rust SQL Scala Swift TypeScript VBA              Cassandra Couchbase   \n",
       "0    0    0   0     0     1          0   0                      0         0   \n",
       "1    0    0   0     0     0          0   0                      0         0   \n",
       "\n",
       "                                                                        \\\n",
       "  DynamoDB Elasticsearch Firebase IBM DB2 MariaDB Microsoft SQL Server   \n",
       "0        0             0        0       0       0                    0   \n",
       "1        0             0        0       0       0                    0   \n",
       "\n",
       "                                               PlatformHaveWorkedWith  \\\n",
       "  MongoDB MySQL Oracle PostgreSQL Redis SQLite                    AWS   \n",
       "0       0     0      0          1     0      1                      0   \n",
       "1       0     0      0          1     0      0                      0   \n",
       "\n",
       "                                                                 \\\n",
       "  DigitalOcean Google Cloud Platform Heroku IBM Cloud or Watson   \n",
       "0            0                     0      0                   0   \n",
       "1            0                     0      0                   0   \n",
       "\n",
       "                                              WebframeHaveWorkedWith  \\\n",
       "  Microsoft Azure Oracle Cloud Infrastructure                ASP.NET   \n",
       "0               0                           0                      0   \n",
       "1               0                           0                      0   \n",
       "\n",
       "                                                                               \\\n",
       "  ASP.NET Core  Angular Angular.js Django Drupal Express FastAPI Flask Gatsby   \n",
       "0             0       0          0      0      0       0       0     0      0   \n",
       "1             0       1          0      0      0       0       0     1      0   \n",
       "\n",
       "                                                                      \\\n",
       "  Laravel React.js Ruby on Rails Spring Svelte Symfony Vue.js jQuery   \n",
       "0       1        0             0      0      0       1      0      0   \n",
       "1       0        0             0      0      0       0      1      0   \n",
       "\n",
       "  MiscTechHaveWorkedWith                                                     \\\n",
       "      .NET Core / .NET 5 .NET Framework Apache Spark Cordova Flutter Hadoop   \n",
       "0                      0              0            0       0       0      0   \n",
       "1                      0              0            0       1       0      0   \n",
       "\n",
       "                                                               \\\n",
       "  Keras NumPy Pandas Qt React Native TensorFlow Torch/PyTorch   \n",
       "0     0     0      0  0            0          0             0   \n",
       "1     0     0      0  0            0          0             0   \n",
       "\n",
       "  ToolsTechHaveWorkedWith                                                     \\\n",
       "                  Ansible Chef Deno Docker Flow Git Kubernetes Pulumi Puppet   \n",
       "0                       0    0    0      0    0   0          0      0      0   \n",
       "1                       0    0    0      1    0   1          0      0      0   \n",
       "\n",
       "                                                NEWCollabToolsHaveWorkedWith  \\\n",
       "  Terraform Unity 3D Unreal Engine Xamarin Yarn               Android Studio   \n",
       "0         0        0             0       0    0                            0   \n",
       "1         0        0             0       0    1                            1   \n",
       "\n",
       "                                                                         \\\n",
       "  Atom Eclipse Emacs IPython/Jupyter IntelliJ Neovim NetBeans Notepad++   \n",
       "0    0       0     0               0        0      0        0         0   \n",
       "1    0       0     0               0        1      0        0         1   \n",
       "\n",
       "                                                                     \\\n",
       "  PHPStorm PyCharm RStudio Rider RubyMine Sublime Text TextMate Vim   \n",
       "0        1       0       0     0        0            0        0   0   \n",
       "1        0       1       0     0        0            0        0   0   \n",
       "\n",
       "                                                   \n",
       "  Visual Studio Visual Studio Code Webstorm Xcode  \n",
       "0             0                  0        0     1  \n",
       "1             0                  0        0     0  "
      ]
     },
     "execution_count": 25,
     "metadata": {},
     "output_type": "execute_result"
    }
   ],
   "source": [
    "# Merge the encoded dataframes\n",
    "df = pd.concat(encoded_dfs, axis =1)\n",
    "df.head(2)"
   ]
  },
  {
   "cell_type": "markdown",
   "id": "f7912826",
   "metadata": {},
   "source": [
    "## Display jop frequancy"
   ]
  },
  {
   "cell_type": "code",
   "execution_count": 18,
   "id": "ad20f29d",
   "metadata": {
    "pycharm": {
     "name": "#%%\n"
    }
   },
   "outputs": [],
   "source": [
    "jobs_freq = df['DevType'].copy().sum().sort_values().reset_index()"
   ]
  },
  {
   "cell_type": "code",
   "execution_count": 19,
   "id": "a317de15",
   "metadata": {
    "pycharm": {
     "name": "#%%\n"
    }
   },
   "outputs": [
    {
     "data": {
      "text/html": [
       "<div>\n",
       "<style scoped>\n",
       "    .dataframe tbody tr th:only-of-type {\n",
       "        vertical-align: middle;\n",
       "    }\n",
       "\n",
       "    .dataframe tbody tr th {\n",
       "        vertical-align: top;\n",
       "    }\n",
       "\n",
       "    .dataframe thead th {\n",
       "        text-align: right;\n",
       "    }\n",
       "</style>\n",
       "<table border=\"1\" class=\"dataframe\">\n",
       "  <thead>\n",
       "    <tr style=\"text-align: right;\">\n",
       "      <th></th>\n",
       "      <th>index</th>\n",
       "      <th>0</th>\n",
       "    </tr>\n",
       "  </thead>\n",
       "  <tbody>\n",
       "    <tr>\n",
       "      <th>0</th>\n",
       "      <td>Marketing or sales professional</td>\n",
       "      <td>638</td>\n",
       "    </tr>\n",
       "    <tr>\n",
       "      <th>1</th>\n",
       "      <td>Scientist</td>\n",
       "      <td>2015</td>\n",
       "    </tr>\n",
       "    <tr>\n",
       "      <th>2</th>\n",
       "      <td>Senior Executive (C-Suite, VP, etc.)</td>\n",
       "      <td>2103</td>\n",
       "    </tr>\n",
       "    <tr>\n",
       "      <th>3</th>\n",
       "      <td>Developer, game or graphics</td>\n",
       "      <td>2112</td>\n",
       "    </tr>\n",
       "    <tr>\n",
       "      <th>4</th>\n",
       "      <td>Educator</td>\n",
       "      <td>2369</td>\n",
       "    </tr>\n",
       "    <tr>\n",
       "      <th>5</th>\n",
       "      <td>Engineer, site reliability</td>\n",
       "      <td>2448</td>\n",
       "    </tr>\n",
       "    <tr>\n",
       "      <th>6</th>\n",
       "      <td>Academic researcher</td>\n",
       "      <td>2899</td>\n",
       "    </tr>\n",
       "    <tr>\n",
       "      <th>7</th>\n",
       "      <td>Product manager</td>\n",
       "      <td>3074</td>\n",
       "    </tr>\n",
       "    <tr>\n",
       "      <th>8</th>\n",
       "      <td>Other (please specify):</td>\n",
       "      <td>3545</td>\n",
       "    </tr>\n",
       "    <tr>\n",
       "      <th>9</th>\n",
       "      <td>Developer, QA or test</td>\n",
       "      <td>3611</td>\n",
       "    </tr>\n",
       "    <tr>\n",
       "      <th>10</th>\n",
       "      <td>Data or business analyst</td>\n",
       "      <td>3792</td>\n",
       "    </tr>\n",
       "    <tr>\n",
       "      <th>11</th>\n",
       "      <td>Engineering manager</td>\n",
       "      <td>3810</td>\n",
       "    </tr>\n",
       "    <tr>\n",
       "      <th>12</th>\n",
       "      <td>Engineer, data</td>\n",
       "      <td>4176</td>\n",
       "    </tr>\n",
       "    <tr>\n",
       "      <th>13</th>\n",
       "      <td>Student</td>\n",
       "      <td>4187</td>\n",
       "    </tr>\n",
       "    <tr>\n",
       "      <th>14</th>\n",
       "      <td>Data scientist or machine learning specialist</td>\n",
       "      <td>4273</td>\n",
       "    </tr>\n",
       "    <tr>\n",
       "      <th>15</th>\n",
       "      <td>Developer, embedded applications or devices</td>\n",
       "      <td>4598</td>\n",
       "    </tr>\n",
       "    <tr>\n",
       "      <th>16</th>\n",
       "      <td>Designer</td>\n",
       "      <td>4611</td>\n",
       "    </tr>\n",
       "    <tr>\n",
       "      <th>17</th>\n",
       "      <td>Database administrator</td>\n",
       "      <td>5655</td>\n",
       "    </tr>\n",
       "    <tr>\n",
       "      <th>18</th>\n",
       "      <td>System administrator</td>\n",
       "      <td>6079</td>\n",
       "    </tr>\n",
       "    <tr>\n",
       "      <th>19</th>\n",
       "      <td>DevOps specialist</td>\n",
       "      <td>7058</td>\n",
       "    </tr>\n",
       "    <tr>\n",
       "      <th>20</th>\n",
       "      <td>Developer, mobile</td>\n",
       "      <td>9800</td>\n",
       "    </tr>\n",
       "    <tr>\n",
       "      <th>21</th>\n",
       "      <td>Developer, desktop or enterprise applications</td>\n",
       "      <td>11036</td>\n",
       "    </tr>\n",
       "    <tr>\n",
       "      <th>22</th>\n",
       "      <td>Developer, front-end</td>\n",
       "      <td>18231</td>\n",
       "    </tr>\n",
       "    <tr>\n",
       "      <th>23</th>\n",
       "      <td>Developer, back-end</td>\n",
       "      <td>29071</td>\n",
       "    </tr>\n",
       "    <tr>\n",
       "      <th>24</th>\n",
       "      <td>Developer, full-stack</td>\n",
       "      <td>32891</td>\n",
       "    </tr>\n",
       "  </tbody>\n",
       "</table>\n",
       "</div>"
      ],
      "text/plain": [
       "                                            index      0\n",
       "0                 Marketing or sales professional    638\n",
       "1                                       Scientist   2015\n",
       "2            Senior Executive (C-Suite, VP, etc.)   2103\n",
       "3                     Developer, game or graphics   2112\n",
       "4                                        Educator   2369\n",
       "5                      Engineer, site reliability   2448\n",
       "6                             Academic researcher   2899\n",
       "7                                 Product manager   3074\n",
       "8                         Other (please specify):   3545\n",
       "9                           Developer, QA or test   3611\n",
       "10                       Data or business analyst   3792\n",
       "11                            Engineering manager   3810\n",
       "12                                 Engineer, data   4176\n",
       "13                                        Student   4187\n",
       "14  Data scientist or machine learning specialist   4273\n",
       "15    Developer, embedded applications or devices   4598\n",
       "16                                       Designer   4611\n",
       "17                         Database administrator   5655\n",
       "18                           System administrator   6079\n",
       "19                              DevOps specialist   7058\n",
       "20                              Developer, mobile   9800\n",
       "21  Developer, desktop or enterprise applications  11036\n",
       "22                           Developer, front-end  18231\n",
       "23                            Developer, back-end  29071\n",
       "24                          Developer, full-stack  32891"
      ]
     },
     "execution_count": 19,
     "metadata": {},
     "output_type": "execute_result"
    }
   ],
   "source": [
    "jobs_freq"
   ]
  },
  {
   "cell_type": "markdown",
   "id": "137de4b6",
   "metadata": {},
   "source": [
    "As we can see from the table above there is a big differance between the maximum and minimum value,\n",
    "**So we have unbalanced classes**"
   ]
  },
  {
   "cell_type": "markdown",
   "id": "8735f262",
   "metadata": {},
   "source": [
    "## Display skills frequency"
   ]
  },
  {
   "cell_type": "code",
   "execution_count": 42,
   "id": "9b622425",
   "metadata": {},
   "outputs": [],
   "source": [
    "skills_freq = df.copy().drop(\"DevType\", axis=1).sum().reset_index()\n",
    "skills_freq.columns = ['group', 'skill', 'freq']"
   ]
  },
  {
   "cell_type": "code",
   "execution_count": 44,
   "id": "c1e5a05f",
   "metadata": {},
   "outputs": [
    {
     "data": {
      "text/html": [
       "<div>\n",
       "<style scoped>\n",
       "    .dataframe tbody tr th:only-of-type {\n",
       "        vertical-align: middle;\n",
       "    }\n",
       "\n",
       "    .dataframe tbody tr th {\n",
       "        vertical-align: top;\n",
       "    }\n",
       "\n",
       "    .dataframe thead th {\n",
       "        text-align: right;\n",
       "    }\n",
       "</style>\n",
       "<table border=\"1\" class=\"dataframe\">\n",
       "  <thead>\n",
       "    <tr style=\"text-align: right;\">\n",
       "      <th></th>\n",
       "      <th>group</th>\n",
       "      <th>skill</th>\n",
       "      <th>freq</th>\n",
       "    </tr>\n",
       "  </thead>\n",
       "  <tbody>\n",
       "    <tr>\n",
       "      <th>95</th>\n",
       "      <td>ToolsTechHaveWorkedWith</td>\n",
       "      <td>Git</td>\n",
       "      <td>68171</td>\n",
       "    </tr>\n",
       "    <tr>\n",
       "      <th>122</th>\n",
       "      <td>NEWCollabToolsHaveWorkedWith</td>\n",
       "      <td>Visual Studio Code</td>\n",
       "      <td>58026</td>\n",
       "    </tr>\n",
       "    <tr>\n",
       "      <th>19</th>\n",
       "      <td>LanguageHaveWorkedWith</td>\n",
       "      <td>JavaScript</td>\n",
       "      <td>53587</td>\n",
       "    </tr>\n",
       "    <tr>\n",
       "      <th>16</th>\n",
       "      <td>LanguageHaveWorkedWith</td>\n",
       "      <td>HTML/CSS</td>\n",
       "      <td>46259</td>\n",
       "    </tr>\n",
       "    <tr>\n",
       "      <th>29</th>\n",
       "      <td>LanguageHaveWorkedWith</td>\n",
       "      <td>Python</td>\n",
       "      <td>39792</td>\n",
       "    </tr>\n",
       "    <tr>\n",
       "      <th>33</th>\n",
       "      <td>LanguageHaveWorkedWith</td>\n",
       "      <td>SQL</td>\n",
       "      <td>38835</td>\n",
       "    </tr>\n",
       "    <tr>\n",
       "      <th>93</th>\n",
       "      <td>ToolsTechHaveWorkedWith</td>\n",
       "      <td>Docker</td>\n",
       "      <td>35644</td>\n",
       "    </tr>\n",
       "    <tr>\n",
       "      <th>47</th>\n",
       "      <td>DatabaseHaveWorkedWith</td>\n",
       "      <td>MySQL</td>\n",
       "      <td>35289</td>\n",
       "    </tr>\n",
       "    <tr>\n",
       "      <th>18</th>\n",
       "      <td>LanguageHaveWorkedWith</td>\n",
       "      <td>Java</td>\n",
       "      <td>29162</td>\n",
       "    </tr>\n",
       "    <tr>\n",
       "      <th>52</th>\n",
       "      <td>PlatformHaveWorkedWith</td>\n",
       "      <td>AWS</td>\n",
       "      <td>29138</td>\n",
       "    </tr>\n",
       "    <tr>\n",
       "      <th>49</th>\n",
       "      <td>DatabaseHaveWorkedWith</td>\n",
       "      <td>PostgreSQL</td>\n",
       "      <td>28424</td>\n",
       "    </tr>\n",
       "    <tr>\n",
       "      <th>24</th>\n",
       "      <td>LanguageHaveWorkedWith</td>\n",
       "      <td>Node.js</td>\n",
       "      <td>27975</td>\n",
       "    </tr>\n",
       "    <tr>\n",
       "      <th>121</th>\n",
       "      <td>NEWCollabToolsHaveWorkedWith</td>\n",
       "      <td>Visual Studio</td>\n",
       "      <td>26970</td>\n",
       "    </tr>\n",
       "    <tr>\n",
       "      <th>70</th>\n",
       "      <td>WebframeHaveWorkedWith</td>\n",
       "      <td>React.js</td>\n",
       "      <td>25296</td>\n",
       "    </tr>\n",
       "    <tr>\n",
       "      <th>36</th>\n",
       "      <td>LanguageHaveWorkedWith</td>\n",
       "      <td>TypeScript</td>\n",
       "      <td>24909</td>\n",
       "    </tr>\n",
       "    <tr>\n",
       "      <th>112</th>\n",
       "      <td>NEWCollabToolsHaveWorkedWith</td>\n",
       "      <td>Notepad++</td>\n",
       "      <td>24262</td>\n",
       "    </tr>\n",
       "    <tr>\n",
       "      <th>109</th>\n",
       "      <td>NEWCollabToolsHaveWorkedWith</td>\n",
       "      <td>IntelliJ</td>\n",
       "      <td>23467</td>\n",
       "    </tr>\n",
       "    <tr>\n",
       "      <th>4</th>\n",
       "      <td>LanguageHaveWorkedWith</td>\n",
       "      <td>C#</td>\n",
       "      <td>22984</td>\n",
       "    </tr>\n",
       "    <tr>\n",
       "      <th>51</th>\n",
       "      <td>DatabaseHaveWorkedWith</td>\n",
       "      <td>SQLite</td>\n",
       "      <td>22634</td>\n",
       "    </tr>\n",
       "    <tr>\n",
       "      <th>2</th>\n",
       "      <td>LanguageHaveWorkedWith</td>\n",
       "      <td>Bash/Shell</td>\n",
       "      <td>22385</td>\n",
       "    </tr>\n",
       "    <tr>\n",
       "      <th>76</th>\n",
       "      <td>WebframeHaveWorkedWith</td>\n",
       "      <td>jQuery</td>\n",
       "      <td>21693</td>\n",
       "    </tr>\n",
       "    <tr>\n",
       "      <th>5</th>\n",
       "      <td>LanguageHaveWorkedWith</td>\n",
       "      <td>C++</td>\n",
       "      <td>20057</td>\n",
       "    </tr>\n",
       "    <tr>\n",
       "      <th>120</th>\n",
       "      <td>NEWCollabToolsHaveWorkedWith</td>\n",
       "      <td>Vim</td>\n",
       "      <td>19752</td>\n",
       "    </tr>\n",
       "    <tr>\n",
       "      <th>46</th>\n",
       "      <td>DatabaseHaveWorkedWith</td>\n",
       "      <td>MongoDB</td>\n",
       "      <td>19479</td>\n",
       "    </tr>\n",
       "    <tr>\n",
       "      <th>45</th>\n",
       "      <td>DatabaseHaveWorkedWith</td>\n",
       "      <td>Microsoft SQL Server</td>\n",
       "      <td>18896</td>\n",
       "    </tr>\n",
       "    <tr>\n",
       "      <th>104</th>\n",
       "      <td>NEWCollabToolsHaveWorkedWith</td>\n",
       "      <td>Android Studio</td>\n",
       "      <td>18141</td>\n",
       "    </tr>\n",
       "    <tr>\n",
       "      <th>26</th>\n",
       "      <td>LanguageHaveWorkedWith</td>\n",
       "      <td>PHP</td>\n",
       "      <td>18130</td>\n",
       "    </tr>\n",
       "    <tr>\n",
       "      <th>3</th>\n",
       "      <td>LanguageHaveWorkedWith</td>\n",
       "      <td>C</td>\n",
       "      <td>17329</td>\n",
       "    </tr>\n",
       "    <tr>\n",
       "      <th>118</th>\n",
       "      <td>NEWCollabToolsHaveWorkedWith</td>\n",
       "      <td>Sublime Text</td>\n",
       "      <td>16714</td>\n",
       "    </tr>\n",
       "    <tr>\n",
       "      <th>54</th>\n",
       "      <td>PlatformHaveWorkedWith</td>\n",
       "      <td>Google Cloud Platform</td>\n",
       "      <td>16687</td>\n",
       "    </tr>\n",
       "    <tr>\n",
       "      <th>78</th>\n",
       "      <td>MiscTechHaveWorkedWith</td>\n",
       "      <td>.NET Framework</td>\n",
       "      <td>16620</td>\n",
       "    </tr>\n",
       "    <tr>\n",
       "      <th>57</th>\n",
       "      <td>PlatformHaveWorkedWith</td>\n",
       "      <td>Microsoft Azure</td>\n",
       "      <td>16540</td>\n",
       "    </tr>\n",
       "    <tr>\n",
       "      <th>84</th>\n",
       "      <td>MiscTechHaveWorkedWith</td>\n",
       "      <td>NumPy</td>\n",
       "      <td>16445</td>\n",
       "    </tr>\n",
       "    <tr>\n",
       "      <th>114</th>\n",
       "      <td>NEWCollabToolsHaveWorkedWith</td>\n",
       "      <td>PyCharm</td>\n",
       "      <td>15755</td>\n",
       "    </tr>\n",
       "    <tr>\n",
       "      <th>77</th>\n",
       "      <td>MiscTechHaveWorkedWith</td>\n",
       "      <td>.NET Core / .NET 5</td>\n",
       "      <td>15310</td>\n",
       "    </tr>\n",
       "    <tr>\n",
       "      <th>65</th>\n",
       "      <td>WebframeHaveWorkedWith</td>\n",
       "      <td>Express</td>\n",
       "      <td>15010</td>\n",
       "    </tr>\n",
       "    <tr>\n",
       "      <th>50</th>\n",
       "      <td>DatabaseHaveWorkedWith</td>\n",
       "      <td>Redis</td>\n",
       "      <td>14552</td>\n",
       "    </tr>\n",
       "    <tr>\n",
       "      <th>61</th>\n",
       "      <td>WebframeHaveWorkedWith</td>\n",
       "      <td>Angular</td>\n",
       "      <td>14471</td>\n",
       "    </tr>\n",
       "    <tr>\n",
       "      <th>85</th>\n",
       "      <td>MiscTechHaveWorkedWith</td>\n",
       "      <td>Pandas</td>\n",
       "      <td>13664</td>\n",
       "    </tr>\n",
       "    <tr>\n",
       "      <th>106</th>\n",
       "      <td>NEWCollabToolsHaveWorkedWith</td>\n",
       "      <td>Eclipse</td>\n",
       "      <td>12955</td>\n",
       "    </tr>\n",
       "    <tr>\n",
       "      <th>103</th>\n",
       "      <td>ToolsTechHaveWorkedWith</td>\n",
       "      <td>Yarn</td>\n",
       "      <td>12937</td>\n",
       "    </tr>\n",
       "    <tr>\n",
       "      <th>55</th>\n",
       "      <td>PlatformHaveWorkedWith</td>\n",
       "      <td>Heroku</td>\n",
       "      <td>12897</td>\n",
       "    </tr>\n",
       "    <tr>\n",
       "      <th>96</th>\n",
       "      <td>ToolsTechHaveWorkedWith</td>\n",
       "      <td>Kubernetes</td>\n",
       "      <td>12115</td>\n",
       "    </tr>\n",
       "    <tr>\n",
       "      <th>44</th>\n",
       "      <td>DatabaseHaveWorkedWith</td>\n",
       "      <td>MariaDB</td>\n",
       "      <td>12088</td>\n",
       "    </tr>\n",
       "    <tr>\n",
       "      <th>75</th>\n",
       "      <td>WebframeHaveWorkedWith</td>\n",
       "      <td>Vue.js</td>\n",
       "      <td>11954</td>\n",
       "    </tr>\n",
       "    <tr>\n",
       "      <th>60</th>\n",
       "      <td>WebframeHaveWorkedWith</td>\n",
       "      <td>ASP.NET Core</td>\n",
       "      <td>11404</td>\n",
       "    </tr>\n",
       "    <tr>\n",
       "      <th>42</th>\n",
       "      <td>DatabaseHaveWorkedWith</td>\n",
       "      <td>Firebase</td>\n",
       "      <td>11373</td>\n",
       "    </tr>\n",
       "    <tr>\n",
       "      <th>105</th>\n",
       "      <td>NEWCollabToolsHaveWorkedWith</td>\n",
       "      <td>Atom</td>\n",
       "      <td>10564</td>\n",
       "    </tr>\n",
       "    <tr>\n",
       "      <th>108</th>\n",
       "      <td>NEWCollabToolsHaveWorkedWith</td>\n",
       "      <td>IPython/Jupyter</td>\n",
       "      <td>10310</td>\n",
       "    </tr>\n",
       "    <tr>\n",
       "      <th>67</th>\n",
       "      <td>WebframeHaveWorkedWith</td>\n",
       "      <td>Flask</td>\n",
       "      <td>10174</td>\n",
       "    </tr>\n",
       "    <tr>\n",
       "      <th>59</th>\n",
       "      <td>WebframeHaveWorkedWith</td>\n",
       "      <td>ASP.NET</td>\n",
       "      <td>9918</td>\n",
       "    </tr>\n",
       "    <tr>\n",
       "      <th>53</th>\n",
       "      <td>PlatformHaveWorkedWith</td>\n",
       "      <td>DigitalOcean</td>\n",
       "      <td>9495</td>\n",
       "    </tr>\n",
       "    <tr>\n",
       "      <th>63</th>\n",
       "      <td>WebframeHaveWorkedWith</td>\n",
       "      <td>Django</td>\n",
       "      <td>9446</td>\n",
       "    </tr>\n",
       "    <tr>\n",
       "      <th>41</th>\n",
       "      <td>DatabaseHaveWorkedWith</td>\n",
       "      <td>Elasticsearch</td>\n",
       "      <td>9331</td>\n",
       "    </tr>\n",
       "    <tr>\n",
       "      <th>72</th>\n",
       "      <td>WebframeHaveWorkedWith</td>\n",
       "      <td>Spring</td>\n",
       "      <td>9177</td>\n",
       "    </tr>\n",
       "    <tr>\n",
       "      <th>124</th>\n",
       "      <td>NEWCollabToolsHaveWorkedWith</td>\n",
       "      <td>Xcode</td>\n",
       "      <td>9040</td>\n",
       "    </tr>\n",
       "    <tr>\n",
       "      <th>28</th>\n",
       "      <td>LanguageHaveWorkedWith</td>\n",
       "      <td>PowerShell</td>\n",
       "      <td>8871</td>\n",
       "    </tr>\n",
       "    <tr>\n",
       "      <th>48</th>\n",
       "      <td>DatabaseHaveWorkedWith</td>\n",
       "      <td>Oracle</td>\n",
       "      <td>8868</td>\n",
       "    </tr>\n",
       "    <tr>\n",
       "      <th>88</th>\n",
       "      <td>MiscTechHaveWorkedWith</td>\n",
       "      <td>TensorFlow</td>\n",
       "      <td>8034</td>\n",
       "    </tr>\n",
       "    <tr>\n",
       "      <th>14</th>\n",
       "      <td>LanguageHaveWorkedWith</td>\n",
       "      <td>Go</td>\n",
       "      <td>7879</td>\n",
       "    </tr>\n",
       "    <tr>\n",
       "      <th>62</th>\n",
       "      <td>WebframeHaveWorkedWith</td>\n",
       "      <td>Angular.js</td>\n",
       "      <td>7242</td>\n",
       "    </tr>\n",
       "    <tr>\n",
       "      <th>100</th>\n",
       "      <td>ToolsTechHaveWorkedWith</td>\n",
       "      <td>Unity 3D</td>\n",
       "      <td>7206</td>\n",
       "    </tr>\n",
       "    <tr>\n",
       "      <th>87</th>\n",
       "      <td>MiscTechHaveWorkedWith</td>\n",
       "      <td>React Native</td>\n",
       "      <td>7051</td>\n",
       "    </tr>\n",
       "    <tr>\n",
       "      <th>21</th>\n",
       "      <td>LanguageHaveWorkedWith</td>\n",
       "      <td>Kotlin</td>\n",
       "      <td>6866</td>\n",
       "    </tr>\n",
       "    <tr>\n",
       "      <th>81</th>\n",
       "      <td>MiscTechHaveWorkedWith</td>\n",
       "      <td>Flutter</td>\n",
       "      <td>6586</td>\n",
       "    </tr>\n",
       "    <tr>\n",
       "      <th>123</th>\n",
       "      <td>NEWCollabToolsHaveWorkedWith</td>\n",
       "      <td>Webstorm</td>\n",
       "      <td>6564</td>\n",
       "    </tr>\n",
       "    <tr>\n",
       "      <th>69</th>\n",
       "      <td>WebframeHaveWorkedWith</td>\n",
       "      <td>Laravel</td>\n",
       "      <td>6377</td>\n",
       "    </tr>\n",
       "    <tr>\n",
       "      <th>113</th>\n",
       "      <td>NEWCollabToolsHaveWorkedWith</td>\n",
       "      <td>PHPStorm</td>\n",
       "      <td>6096</td>\n",
       "    </tr>\n",
       "    <tr>\n",
       "      <th>111</th>\n",
       "      <td>NEWCollabToolsHaveWorkedWith</td>\n",
       "      <td>NetBeans</td>\n",
       "      <td>5839</td>\n",
       "    </tr>\n",
       "    <tr>\n",
       "      <th>32</th>\n",
       "      <td>LanguageHaveWorkedWith</td>\n",
       "      <td>Rust</td>\n",
       "      <td>5799</td>\n",
       "    </tr>\n",
       "    <tr>\n",
       "      <th>90</th>\n",
       "      <td>ToolsTechHaveWorkedWith</td>\n",
       "      <td>Ansible</td>\n",
       "      <td>5607</td>\n",
       "    </tr>\n",
       "    <tr>\n",
       "      <th>31</th>\n",
       "      <td>LanguageHaveWorkedWith</td>\n",
       "      <td>Ruby</td>\n",
       "      <td>5569</td>\n",
       "    </tr>\n",
       "    <tr>\n",
       "      <th>99</th>\n",
       "      <td>ToolsTechHaveWorkedWith</td>\n",
       "      <td>Terraform</td>\n",
       "      <td>5442</td>\n",
       "    </tr>\n",
       "    <tr>\n",
       "      <th>40</th>\n",
       "      <td>DatabaseHaveWorkedWith</td>\n",
       "      <td>DynamoDB</td>\n",
       "      <td>5137</td>\n",
       "    </tr>\n",
       "    <tr>\n",
       "      <th>9</th>\n",
       "      <td>LanguageHaveWorkedWith</td>\n",
       "      <td>Dart</td>\n",
       "      <td>4965</td>\n",
       "    </tr>\n",
       "    <tr>\n",
       "      <th>83</th>\n",
       "      <td>MiscTechHaveWorkedWith</td>\n",
       "      <td>Keras</td>\n",
       "      <td>4930</td>\n",
       "    </tr>\n",
       "    <tr>\n",
       "      <th>86</th>\n",
       "      <td>MiscTechHaveWorkedWith</td>\n",
       "      <td>Qt</td>\n",
       "      <td>4812</td>\n",
       "    </tr>\n",
       "    <tr>\n",
       "      <th>89</th>\n",
       "      <td>MiscTechHaveWorkedWith</td>\n",
       "      <td>Torch/PyTorch</td>\n",
       "      <td>4808</td>\n",
       "    </tr>\n",
       "    <tr>\n",
       "      <th>1</th>\n",
       "      <td>LanguageHaveWorkedWith</td>\n",
       "      <td>Assembly</td>\n",
       "      <td>4632</td>\n",
       "    </tr>\n",
       "    <tr>\n",
       "      <th>71</th>\n",
       "      <td>WebframeHaveWorkedWith</td>\n",
       "      <td>Ruby on Rails</td>\n",
       "      <td>4438</td>\n",
       "    </tr>\n",
       "    <tr>\n",
       "      <th>107</th>\n",
       "      <td>NEWCollabToolsHaveWorkedWith</td>\n",
       "      <td>Emacs</td>\n",
       "      <td>4327</td>\n",
       "    </tr>\n",
       "    <tr>\n",
       "      <th>35</th>\n",
       "      <td>LanguageHaveWorkedWith</td>\n",
       "      <td>Swift</td>\n",
       "      <td>4204</td>\n",
       "    </tr>\n",
       "    <tr>\n",
       "      <th>30</th>\n",
       "      <td>LanguageHaveWorkedWith</td>\n",
       "      <td>R</td>\n",
       "      <td>4185</td>\n",
       "    </tr>\n",
       "    <tr>\n",
       "      <th>110</th>\n",
       "      <td>NEWCollabToolsHaveWorkedWith</td>\n",
       "      <td>Neovim</td>\n",
       "      <td>4071</td>\n",
       "    </tr>\n",
       "    <tr>\n",
       "      <th>37</th>\n",
       "      <td>LanguageHaveWorkedWith</td>\n",
       "      <td>VBA</td>\n",
       "      <td>3847</td>\n",
       "    </tr>\n",
       "    <tr>\n",
       "      <th>23</th>\n",
       "      <td>LanguageHaveWorkedWith</td>\n",
       "      <td>Matlab</td>\n",
       "      <td>3846</td>\n",
       "    </tr>\n",
       "    <tr>\n",
       "      <th>80</th>\n",
       "      <td>MiscTechHaveWorkedWith</td>\n",
       "      <td>Cordova</td>\n",
       "      <td>3491</td>\n",
       "    </tr>\n",
       "    <tr>\n",
       "      <th>116</th>\n",
       "      <td>NEWCollabToolsHaveWorkedWith</td>\n",
       "      <td>Rider</td>\n",
       "      <td>3255</td>\n",
       "    </tr>\n",
       "    <tr>\n",
       "      <th>115</th>\n",
       "      <td>NEWCollabToolsHaveWorkedWith</td>\n",
       "      <td>RStudio</td>\n",
       "      <td>3200</td>\n",
       "    </tr>\n",
       "    <tr>\n",
       "      <th>102</th>\n",
       "      <td>ToolsTechHaveWorkedWith</td>\n",
       "      <td>Xamarin</td>\n",
       "      <td>2844</td>\n",
       "    </tr>\n",
       "    <tr>\n",
       "      <th>79</th>\n",
       "      <td>MiscTechHaveWorkedWith</td>\n",
       "      <td>Apache Spark</td>\n",
       "      <td>2833</td>\n",
       "    </tr>\n",
       "    <tr>\n",
       "      <th>68</th>\n",
       "      <td>WebframeHaveWorkedWith</td>\n",
       "      <td>Gatsby</td>\n",
       "      <td>2501</td>\n",
       "    </tr>\n",
       "    <tr>\n",
       "      <th>15</th>\n",
       "      <td>LanguageHaveWorkedWith</td>\n",
       "      <td>Groovy</td>\n",
       "      <td>2479</td>\n",
       "    </tr>\n",
       "    <tr>\n",
       "      <th>66</th>\n",
       "      <td>WebframeHaveWorkedWith</td>\n",
       "      <td>FastAPI</td>\n",
       "      <td>2447</td>\n",
       "    </tr>\n",
       "    <tr>\n",
       "      <th>74</th>\n",
       "      <td>WebframeHaveWorkedWith</td>\n",
       "      <td>Symfony</td>\n",
       "      <td>2427</td>\n",
       "    </tr>\n",
       "    <tr>\n",
       "      <th>101</th>\n",
       "      <td>ToolsTechHaveWorkedWith</td>\n",
       "      <td>Unreal Engine</td>\n",
       "      <td>2339</td>\n",
       "    </tr>\n",
       "    <tr>\n",
       "      <th>25</th>\n",
       "      <td>LanguageHaveWorkedWith</td>\n",
       "      <td>Objective-C</td>\n",
       "      <td>2310</td>\n",
       "    </tr>\n",
       "    <tr>\n",
       "      <th>82</th>\n",
       "      <td>MiscTechHaveWorkedWith</td>\n",
       "      <td>Hadoop</td>\n",
       "      <td>2155</td>\n",
       "    </tr>\n",
       "    <tr>\n",
       "      <th>34</th>\n",
       "      <td>LanguageHaveWorkedWith</td>\n",
       "      <td>Scala</td>\n",
       "      <td>2148</td>\n",
       "    </tr>\n",
       "    <tr>\n",
       "      <th>27</th>\n",
       "      <td>LanguageHaveWorkedWith</td>\n",
       "      <td>Perl</td>\n",
       "      <td>2028</td>\n",
       "    </tr>\n",
       "    <tr>\n",
       "      <th>38</th>\n",
       "      <td>DatabaseHaveWorkedWith</td>\n",
       "      <td>Cassandra</td>\n",
       "      <td>1873</td>\n",
       "    </tr>\n",
       "    <tr>\n",
       "      <th>17</th>\n",
       "      <td>LanguageHaveWorkedWith</td>\n",
       "      <td>Haskell</td>\n",
       "      <td>1749</td>\n",
       "    </tr>\n",
       "    <tr>\n",
       "      <th>73</th>\n",
       "      <td>WebframeHaveWorkedWith</td>\n",
       "      <td>Svelte</td>\n",
       "      <td>1735</td>\n",
       "    </tr>\n",
       "    <tr>\n",
       "      <th>10</th>\n",
       "      <td>LanguageHaveWorkedWith</td>\n",
       "      <td>Delphi</td>\n",
       "      <td>1731</td>\n",
       "    </tr>\n",
       "    <tr>\n",
       "      <th>7</th>\n",
       "      <td>LanguageHaveWorkedWith</td>\n",
       "      <td>Clojure</td>\n",
       "      <td>1552</td>\n",
       "    </tr>\n",
       "    <tr>\n",
       "      <th>64</th>\n",
       "      <td>WebframeHaveWorkedWith</td>\n",
       "      <td>Drupal</td>\n",
       "      <td>1508</td>\n",
       "    </tr>\n",
       "    <tr>\n",
       "      <th>43</th>\n",
       "      <td>DatabaseHaveWorkedWith</td>\n",
       "      <td>IBM DB2</td>\n",
       "      <td>1438</td>\n",
       "    </tr>\n",
       "    <tr>\n",
       "      <th>11</th>\n",
       "      <td>LanguageHaveWorkedWith</td>\n",
       "      <td>Elixir</td>\n",
       "      <td>1438</td>\n",
       "    </tr>\n",
       "    <tr>\n",
       "      <th>56</th>\n",
       "      <td>PlatformHaveWorkedWith</td>\n",
       "      <td>IBM Cloud or Watson</td>\n",
       "      <td>1373</td>\n",
       "    </tr>\n",
       "    <tr>\n",
       "      <th>98</th>\n",
       "      <td>ToolsTechHaveWorkedWith</td>\n",
       "      <td>Puppet</td>\n",
       "      <td>1313</td>\n",
       "    </tr>\n",
       "    <tr>\n",
       "      <th>117</th>\n",
       "      <td>NEWCollabToolsHaveWorkedWith</td>\n",
       "      <td>RubyMine</td>\n",
       "      <td>1219</td>\n",
       "    </tr>\n",
       "    <tr>\n",
       "      <th>39</th>\n",
       "      <td>DatabaseHaveWorkedWith</td>\n",
       "      <td>Couchbase</td>\n",
       "      <td>1106</td>\n",
       "    </tr>\n",
       "    <tr>\n",
       "      <th>22</th>\n",
       "      <td>LanguageHaveWorkedWith</td>\n",
       "      <td>LISP</td>\n",
       "      <td>1096</td>\n",
       "    </tr>\n",
       "    <tr>\n",
       "      <th>20</th>\n",
       "      <td>LanguageHaveWorkedWith</td>\n",
       "      <td>Julia</td>\n",
       "      <td>1068</td>\n",
       "    </tr>\n",
       "    <tr>\n",
       "      <th>92</th>\n",
       "      <td>ToolsTechHaveWorkedWith</td>\n",
       "      <td>Deno</td>\n",
       "      <td>1027</td>\n",
       "    </tr>\n",
       "    <tr>\n",
       "      <th>58</th>\n",
       "      <td>PlatformHaveWorkedWith</td>\n",
       "      <td>Oracle Cloud Infrastructure</td>\n",
       "      <td>1014</td>\n",
       "    </tr>\n",
       "    <tr>\n",
       "      <th>91</th>\n",
       "      <td>ToolsTechHaveWorkedWith</td>\n",
       "      <td>Chef</td>\n",
       "      <td>982</td>\n",
       "    </tr>\n",
       "    <tr>\n",
       "      <th>94</th>\n",
       "      <td>ToolsTechHaveWorkedWith</td>\n",
       "      <td>Flow</td>\n",
       "      <td>929</td>\n",
       "    </tr>\n",
       "    <tr>\n",
       "      <th>13</th>\n",
       "      <td>LanguageHaveWorkedWith</td>\n",
       "      <td>F#</td>\n",
       "      <td>804</td>\n",
       "    </tr>\n",
       "    <tr>\n",
       "      <th>119</th>\n",
       "      <td>NEWCollabToolsHaveWorkedWith</td>\n",
       "      <td>TextMate</td>\n",
       "      <td>678</td>\n",
       "    </tr>\n",
       "    <tr>\n",
       "      <th>12</th>\n",
       "      <td>LanguageHaveWorkedWith</td>\n",
       "      <td>Erlang</td>\n",
       "      <td>651</td>\n",
       "    </tr>\n",
       "    <tr>\n",
       "      <th>0</th>\n",
       "      <td>LanguageHaveWorkedWith</td>\n",
       "      <td>APL</td>\n",
       "      <td>536</td>\n",
       "    </tr>\n",
       "    <tr>\n",
       "      <th>8</th>\n",
       "      <td>LanguageHaveWorkedWith</td>\n",
       "      <td>Crystal</td>\n",
       "      <td>466</td>\n",
       "    </tr>\n",
       "    <tr>\n",
       "      <th>6</th>\n",
       "      <td>LanguageHaveWorkedWith</td>\n",
       "      <td>COBOL</td>\n",
       "      <td>437</td>\n",
       "    </tr>\n",
       "    <tr>\n",
       "      <th>97</th>\n",
       "      <td>ToolsTechHaveWorkedWith</td>\n",
       "      <td>Pulumi</td>\n",
       "      <td>368</td>\n",
       "    </tr>\n",
       "  </tbody>\n",
       "</table>\n",
       "</div>"
      ],
      "text/plain": [
       "                            group                        skill   freq\n",
       "95        ToolsTechHaveWorkedWith                          Git  68171\n",
       "122  NEWCollabToolsHaveWorkedWith           Visual Studio Code  58026\n",
       "19         LanguageHaveWorkedWith                   JavaScript  53587\n",
       "16         LanguageHaveWorkedWith                     HTML/CSS  46259\n",
       "29         LanguageHaveWorkedWith                       Python  39792\n",
       "33         LanguageHaveWorkedWith                          SQL  38835\n",
       "93        ToolsTechHaveWorkedWith                       Docker  35644\n",
       "47         DatabaseHaveWorkedWith                        MySQL  35289\n",
       "18         LanguageHaveWorkedWith                         Java  29162\n",
       "52         PlatformHaveWorkedWith                          AWS  29138\n",
       "49         DatabaseHaveWorkedWith                   PostgreSQL  28424\n",
       "24         LanguageHaveWorkedWith                      Node.js  27975\n",
       "121  NEWCollabToolsHaveWorkedWith                Visual Studio  26970\n",
       "70         WebframeHaveWorkedWith                     React.js  25296\n",
       "36         LanguageHaveWorkedWith                   TypeScript  24909\n",
       "112  NEWCollabToolsHaveWorkedWith                    Notepad++  24262\n",
       "109  NEWCollabToolsHaveWorkedWith                     IntelliJ  23467\n",
       "4          LanguageHaveWorkedWith                           C#  22984\n",
       "51         DatabaseHaveWorkedWith                       SQLite  22634\n",
       "2          LanguageHaveWorkedWith                   Bash/Shell  22385\n",
       "76         WebframeHaveWorkedWith                       jQuery  21693\n",
       "5          LanguageHaveWorkedWith                          C++  20057\n",
       "120  NEWCollabToolsHaveWorkedWith                          Vim  19752\n",
       "46         DatabaseHaveWorkedWith                      MongoDB  19479\n",
       "45         DatabaseHaveWorkedWith         Microsoft SQL Server  18896\n",
       "104  NEWCollabToolsHaveWorkedWith               Android Studio  18141\n",
       "26         LanguageHaveWorkedWith                          PHP  18130\n",
       "3          LanguageHaveWorkedWith                            C  17329\n",
       "118  NEWCollabToolsHaveWorkedWith                 Sublime Text  16714\n",
       "54         PlatformHaveWorkedWith        Google Cloud Platform  16687\n",
       "78         MiscTechHaveWorkedWith               .NET Framework  16620\n",
       "57         PlatformHaveWorkedWith              Microsoft Azure  16540\n",
       "84         MiscTechHaveWorkedWith                        NumPy  16445\n",
       "114  NEWCollabToolsHaveWorkedWith                      PyCharm  15755\n",
       "77         MiscTechHaveWorkedWith           .NET Core / .NET 5  15310\n",
       "65         WebframeHaveWorkedWith                      Express  15010\n",
       "50         DatabaseHaveWorkedWith                        Redis  14552\n",
       "61         WebframeHaveWorkedWith                      Angular  14471\n",
       "85         MiscTechHaveWorkedWith                       Pandas  13664\n",
       "106  NEWCollabToolsHaveWorkedWith                      Eclipse  12955\n",
       "103       ToolsTechHaveWorkedWith                         Yarn  12937\n",
       "55         PlatformHaveWorkedWith                       Heroku  12897\n",
       "96        ToolsTechHaveWorkedWith                   Kubernetes  12115\n",
       "44         DatabaseHaveWorkedWith                      MariaDB  12088\n",
       "75         WebframeHaveWorkedWith                       Vue.js  11954\n",
       "60         WebframeHaveWorkedWith                ASP.NET Core   11404\n",
       "42         DatabaseHaveWorkedWith                     Firebase  11373\n",
       "105  NEWCollabToolsHaveWorkedWith                         Atom  10564\n",
       "108  NEWCollabToolsHaveWorkedWith              IPython/Jupyter  10310\n",
       "67         WebframeHaveWorkedWith                        Flask  10174\n",
       "59         WebframeHaveWorkedWith                      ASP.NET   9918\n",
       "53         PlatformHaveWorkedWith                 DigitalOcean   9495\n",
       "63         WebframeHaveWorkedWith                       Django   9446\n",
       "41         DatabaseHaveWorkedWith                Elasticsearch   9331\n",
       "72         WebframeHaveWorkedWith                       Spring   9177\n",
       "124  NEWCollabToolsHaveWorkedWith                        Xcode   9040\n",
       "28         LanguageHaveWorkedWith                   PowerShell   8871\n",
       "48         DatabaseHaveWorkedWith                       Oracle   8868\n",
       "88         MiscTechHaveWorkedWith                   TensorFlow   8034\n",
       "14         LanguageHaveWorkedWith                           Go   7879\n",
       "62         WebframeHaveWorkedWith                   Angular.js   7242\n",
       "100       ToolsTechHaveWorkedWith                     Unity 3D   7206\n",
       "87         MiscTechHaveWorkedWith                 React Native   7051\n",
       "21         LanguageHaveWorkedWith                       Kotlin   6866\n",
       "81         MiscTechHaveWorkedWith                      Flutter   6586\n",
       "123  NEWCollabToolsHaveWorkedWith                     Webstorm   6564\n",
       "69         WebframeHaveWorkedWith                      Laravel   6377\n",
       "113  NEWCollabToolsHaveWorkedWith                     PHPStorm   6096\n",
       "111  NEWCollabToolsHaveWorkedWith                     NetBeans   5839\n",
       "32         LanguageHaveWorkedWith                         Rust   5799\n",
       "90        ToolsTechHaveWorkedWith                      Ansible   5607\n",
       "31         LanguageHaveWorkedWith                         Ruby   5569\n",
       "99        ToolsTechHaveWorkedWith                    Terraform   5442\n",
       "40         DatabaseHaveWorkedWith                     DynamoDB   5137\n",
       "9          LanguageHaveWorkedWith                         Dart   4965\n",
       "83         MiscTechHaveWorkedWith                        Keras   4930\n",
       "86         MiscTechHaveWorkedWith                           Qt   4812\n",
       "89         MiscTechHaveWorkedWith                Torch/PyTorch   4808\n",
       "1          LanguageHaveWorkedWith                     Assembly   4632\n",
       "71         WebframeHaveWorkedWith                Ruby on Rails   4438\n",
       "107  NEWCollabToolsHaveWorkedWith                        Emacs   4327\n",
       "35         LanguageHaveWorkedWith                        Swift   4204\n",
       "30         LanguageHaveWorkedWith                            R   4185\n",
       "110  NEWCollabToolsHaveWorkedWith                       Neovim   4071\n",
       "37         LanguageHaveWorkedWith                          VBA   3847\n",
       "23         LanguageHaveWorkedWith                       Matlab   3846\n",
       "80         MiscTechHaveWorkedWith                      Cordova   3491\n",
       "116  NEWCollabToolsHaveWorkedWith                        Rider   3255\n",
       "115  NEWCollabToolsHaveWorkedWith                      RStudio   3200\n",
       "102       ToolsTechHaveWorkedWith                      Xamarin   2844\n",
       "79         MiscTechHaveWorkedWith                 Apache Spark   2833\n",
       "68         WebframeHaveWorkedWith                       Gatsby   2501\n",
       "15         LanguageHaveWorkedWith                       Groovy   2479\n",
       "66         WebframeHaveWorkedWith                      FastAPI   2447\n",
       "74         WebframeHaveWorkedWith                      Symfony   2427\n",
       "101       ToolsTechHaveWorkedWith                Unreal Engine   2339\n",
       "25         LanguageHaveWorkedWith                  Objective-C   2310\n",
       "82         MiscTechHaveWorkedWith                       Hadoop   2155\n",
       "34         LanguageHaveWorkedWith                        Scala   2148\n",
       "27         LanguageHaveWorkedWith                         Perl   2028\n",
       "38         DatabaseHaveWorkedWith                    Cassandra   1873\n",
       "17         LanguageHaveWorkedWith                      Haskell   1749\n",
       "73         WebframeHaveWorkedWith                       Svelte   1735\n",
       "10         LanguageHaveWorkedWith                       Delphi   1731\n",
       "7          LanguageHaveWorkedWith                      Clojure   1552\n",
       "64         WebframeHaveWorkedWith                       Drupal   1508\n",
       "43         DatabaseHaveWorkedWith                      IBM DB2   1438\n",
       "11         LanguageHaveWorkedWith                       Elixir   1438\n",
       "56         PlatformHaveWorkedWith          IBM Cloud or Watson   1373\n",
       "98        ToolsTechHaveWorkedWith                       Puppet   1313\n",
       "117  NEWCollabToolsHaveWorkedWith                     RubyMine   1219\n",
       "39         DatabaseHaveWorkedWith                    Couchbase   1106\n",
       "22         LanguageHaveWorkedWith                         LISP   1096\n",
       "20         LanguageHaveWorkedWith                        Julia   1068\n",
       "92        ToolsTechHaveWorkedWith                         Deno   1027\n",
       "58         PlatformHaveWorkedWith  Oracle Cloud Infrastructure   1014\n",
       "91        ToolsTechHaveWorkedWith                         Chef    982\n",
       "94        ToolsTechHaveWorkedWith                         Flow    929\n",
       "13         LanguageHaveWorkedWith                           F#    804\n",
       "119  NEWCollabToolsHaveWorkedWith                     TextMate    678\n",
       "12         LanguageHaveWorkedWith                       Erlang    651\n",
       "0          LanguageHaveWorkedWith                          APL    536\n",
       "8          LanguageHaveWorkedWith                      Crystal    466\n",
       "6          LanguageHaveWorkedWith                        COBOL    437\n",
       "97        ToolsTechHaveWorkedWith                       Pulumi    368"
      ]
     },
     "execution_count": 44,
     "metadata": {},
     "output_type": "execute_result"
    }
   ],
   "source": [
    "skills_freq.sort_values(\"freq\",ascending=False)"
   ]
  },
  {
   "cell_type": "code",
   "execution_count": 52,
   "id": "afdfd96f",
   "metadata": {},
   "outputs": [
    {
     "data": {
      "application/vnd.plotly.v1+json": {
       "config": {
        "plotlyServerURL": "https://plot.ly"
       },
       "data": [
        {
         "branchvalues": "total",
         "customdata": [
          [
           15310
          ],
          [
           16620
          ],
          [
           536
          ],
          [
           9918
          ],
          [
           11404
          ],
          [
           29138
          ],
          [
           18141
          ],
          [
           14471
          ],
          [
           7242
          ],
          [
           5607
          ],
          [
           2833
          ],
          [
           4632
          ],
          [
           10564
          ],
          [
           22385
          ],
          [
           17329
          ],
          [
           22984
          ],
          [
           20057
          ],
          [
           437
          ],
          [
           1873
          ],
          [
           982
          ],
          [
           1552
          ],
          [
           3491
          ],
          [
           1106
          ],
          [
           466
          ],
          [
           4965
          ],
          [
           1731
          ],
          [
           1027
          ],
          [
           9495
          ],
          [
           9446
          ],
          [
           35644
          ],
          [
           1508
          ],
          [
           5137
          ],
          [
           12955
          ],
          [
           9331
          ],
          [
           1438
          ],
          [
           4327
          ],
          [
           651
          ],
          [
           15010
          ],
          [
           804
          ],
          [
           2447
          ],
          [
           11373
          ],
          [
           10174
          ],
          [
           929
          ],
          [
           6586
          ],
          [
           2501
          ],
          [
           68171
          ],
          [
           7879
          ],
          [
           16687
          ],
          [
           2479
          ],
          [
           46259
          ],
          [
           2155
          ],
          [
           1749
          ],
          [
           12897
          ],
          [
           1373
          ],
          [
           1438
          ],
          [
           10310
          ],
          [
           23467
          ],
          [
           29162
          ],
          [
           53587
          ],
          [
           1068
          ],
          [
           4930
          ],
          [
           6866
          ],
          [
           12115
          ],
          [
           1096
          ],
          [
           6377
          ],
          [
           12088
          ],
          [
           3846
          ],
          [
           16540
          ],
          [
           18896
          ],
          [
           19479
          ],
          [
           35289
          ],
          [
           4071
          ],
          [
           5839
          ],
          [
           27975
          ],
          [
           24262
          ],
          [
           16445
          ],
          [
           2310
          ],
          [
           8868
          ],
          [
           1014
          ],
          [
           18130
          ],
          [
           6096
          ],
          [
           13664
          ],
          [
           2028
          ],
          [
           28424
          ],
          [
           8871
          ],
          [
           368
          ],
          [
           1313
          ],
          [
           15755
          ],
          [
           39792
          ],
          [
           4812
          ],
          [
           4185
          ],
          [
           3200
          ],
          [
           7051
          ],
          [
           25296
          ],
          [
           14552
          ],
          [
           3255
          ],
          [
           5569
          ],
          [
           4438
          ],
          [
           1219
          ],
          [
           5799
          ],
          [
           38835
          ],
          [
           22634
          ],
          [
           2148
          ],
          [
           9177
          ],
          [
           16714
          ],
          [
           1735
          ],
          [
           4204
          ],
          [
           2427
          ],
          [
           8034
          ],
          [
           5442
          ],
          [
           678
          ],
          [
           4808
          ],
          [
           24909
          ],
          [
           7206
          ],
          [
           2339
          ],
          [
           3847
          ],
          [
           19752
          ],
          [
           26970
          ],
          [
           58026
          ],
          [
           11954
          ],
          [
           6564
          ],
          [
           2844
          ],
          [
           9040
          ],
          [
           12937
          ],
          [
           21693
          ],
          [
           20936.479200789552
          ],
          [
           28957.47648228489
          ],
          [
           11437.568995399994
          ],
          [
           25321.11167653491
          ],
          [
           19054.112411640504
          ],
          [
           40549.566439805254
          ],
          [
           13931.995048379958
          ]
         ],
         "domain": {
          "x": [
           0,
           1
          ],
          "y": [
           0,
           1
          ]
         },
         "hovertemplate": "labels=%{label}<br>freq_sum=%{value}<br>parent=%{parent}<br>id=%{id}<br>freq=%{color}<extra></extra>",
         "ids": [
          "MiscTechHaveWorkedWith/.NET Core / .NET 5",
          "MiscTechHaveWorkedWith/.NET Framework",
          "LanguageHaveWorkedWith/APL",
          "WebframeHaveWorkedWith/ASP.NET",
          "WebframeHaveWorkedWith/ASP.NET Core ",
          "PlatformHaveWorkedWith/AWS",
          "NEWCollabToolsHaveWorkedWith/Android Studio",
          "WebframeHaveWorkedWith/Angular",
          "WebframeHaveWorkedWith/Angular.js",
          "ToolsTechHaveWorkedWith/Ansible",
          "MiscTechHaveWorkedWith/Apache Spark",
          "LanguageHaveWorkedWith/Assembly",
          "NEWCollabToolsHaveWorkedWith/Atom",
          "LanguageHaveWorkedWith/Bash/Shell",
          "LanguageHaveWorkedWith/C",
          "LanguageHaveWorkedWith/C#",
          "LanguageHaveWorkedWith/C++",
          "LanguageHaveWorkedWith/COBOL",
          "DatabaseHaveWorkedWith/Cassandra",
          "ToolsTechHaveWorkedWith/Chef",
          "LanguageHaveWorkedWith/Clojure",
          "MiscTechHaveWorkedWith/Cordova",
          "DatabaseHaveWorkedWith/Couchbase",
          "LanguageHaveWorkedWith/Crystal",
          "LanguageHaveWorkedWith/Dart",
          "LanguageHaveWorkedWith/Delphi",
          "ToolsTechHaveWorkedWith/Deno",
          "PlatformHaveWorkedWith/DigitalOcean",
          "WebframeHaveWorkedWith/Django",
          "ToolsTechHaveWorkedWith/Docker",
          "WebframeHaveWorkedWith/Drupal",
          "DatabaseHaveWorkedWith/DynamoDB",
          "NEWCollabToolsHaveWorkedWith/Eclipse",
          "DatabaseHaveWorkedWith/Elasticsearch",
          "LanguageHaveWorkedWith/Elixir",
          "NEWCollabToolsHaveWorkedWith/Emacs",
          "LanguageHaveWorkedWith/Erlang",
          "WebframeHaveWorkedWith/Express",
          "LanguageHaveWorkedWith/F#",
          "WebframeHaveWorkedWith/FastAPI",
          "DatabaseHaveWorkedWith/Firebase",
          "WebframeHaveWorkedWith/Flask",
          "ToolsTechHaveWorkedWith/Flow",
          "MiscTechHaveWorkedWith/Flutter",
          "WebframeHaveWorkedWith/Gatsby",
          "ToolsTechHaveWorkedWith/Git",
          "LanguageHaveWorkedWith/Go",
          "PlatformHaveWorkedWith/Google Cloud Platform",
          "LanguageHaveWorkedWith/Groovy",
          "LanguageHaveWorkedWith/HTML/CSS",
          "MiscTechHaveWorkedWith/Hadoop",
          "LanguageHaveWorkedWith/Haskell",
          "PlatformHaveWorkedWith/Heroku",
          "PlatformHaveWorkedWith/IBM Cloud or Watson",
          "DatabaseHaveWorkedWith/IBM DB2",
          "NEWCollabToolsHaveWorkedWith/IPython/Jupyter",
          "NEWCollabToolsHaveWorkedWith/IntelliJ",
          "LanguageHaveWorkedWith/Java",
          "LanguageHaveWorkedWith/JavaScript",
          "LanguageHaveWorkedWith/Julia",
          "MiscTechHaveWorkedWith/Keras",
          "LanguageHaveWorkedWith/Kotlin",
          "ToolsTechHaveWorkedWith/Kubernetes",
          "LanguageHaveWorkedWith/LISP",
          "WebframeHaveWorkedWith/Laravel",
          "DatabaseHaveWorkedWith/MariaDB",
          "LanguageHaveWorkedWith/Matlab",
          "PlatformHaveWorkedWith/Microsoft Azure",
          "DatabaseHaveWorkedWith/Microsoft SQL Server",
          "DatabaseHaveWorkedWith/MongoDB",
          "DatabaseHaveWorkedWith/MySQL",
          "NEWCollabToolsHaveWorkedWith/Neovim",
          "NEWCollabToolsHaveWorkedWith/NetBeans",
          "LanguageHaveWorkedWith/Node.js",
          "NEWCollabToolsHaveWorkedWith/Notepad++",
          "MiscTechHaveWorkedWith/NumPy",
          "LanguageHaveWorkedWith/Objective-C",
          "DatabaseHaveWorkedWith/Oracle",
          "PlatformHaveWorkedWith/Oracle Cloud Infrastructure",
          "LanguageHaveWorkedWith/PHP",
          "NEWCollabToolsHaveWorkedWith/PHPStorm",
          "MiscTechHaveWorkedWith/Pandas",
          "LanguageHaveWorkedWith/Perl",
          "DatabaseHaveWorkedWith/PostgreSQL",
          "LanguageHaveWorkedWith/PowerShell",
          "ToolsTechHaveWorkedWith/Pulumi",
          "ToolsTechHaveWorkedWith/Puppet",
          "NEWCollabToolsHaveWorkedWith/PyCharm",
          "LanguageHaveWorkedWith/Python",
          "MiscTechHaveWorkedWith/Qt",
          "LanguageHaveWorkedWith/R",
          "NEWCollabToolsHaveWorkedWith/RStudio",
          "MiscTechHaveWorkedWith/React Native",
          "WebframeHaveWorkedWith/React.js",
          "DatabaseHaveWorkedWith/Redis",
          "NEWCollabToolsHaveWorkedWith/Rider",
          "LanguageHaveWorkedWith/Ruby",
          "WebframeHaveWorkedWith/Ruby on Rails",
          "NEWCollabToolsHaveWorkedWith/RubyMine",
          "LanguageHaveWorkedWith/Rust",
          "LanguageHaveWorkedWith/SQL",
          "DatabaseHaveWorkedWith/SQLite",
          "LanguageHaveWorkedWith/Scala",
          "WebframeHaveWorkedWith/Spring",
          "NEWCollabToolsHaveWorkedWith/Sublime Text",
          "WebframeHaveWorkedWith/Svelte",
          "LanguageHaveWorkedWith/Swift",
          "WebframeHaveWorkedWith/Symfony",
          "MiscTechHaveWorkedWith/TensorFlow",
          "ToolsTechHaveWorkedWith/Terraform",
          "NEWCollabToolsHaveWorkedWith/TextMate",
          "MiscTechHaveWorkedWith/Torch/PyTorch",
          "LanguageHaveWorkedWith/TypeScript",
          "ToolsTechHaveWorkedWith/Unity 3D",
          "ToolsTechHaveWorkedWith/Unreal Engine",
          "LanguageHaveWorkedWith/VBA",
          "NEWCollabToolsHaveWorkedWith/Vim",
          "NEWCollabToolsHaveWorkedWith/Visual Studio",
          "NEWCollabToolsHaveWorkedWith/Visual Studio Code",
          "WebframeHaveWorkedWith/Vue.js",
          "NEWCollabToolsHaveWorkedWith/Webstorm",
          "ToolsTechHaveWorkedWith/Xamarin",
          "NEWCollabToolsHaveWorkedWith/Xcode",
          "ToolsTechHaveWorkedWith/Yarn",
          "WebframeHaveWorkedWith/jQuery",
          "DatabaseHaveWorkedWith",
          "LanguageHaveWorkedWith",
          "MiscTechHaveWorkedWith",
          "NEWCollabToolsHaveWorkedWith",
          "PlatformHaveWorkedWith",
          "ToolsTechHaveWorkedWith",
          "WebframeHaveWorkedWith"
         ],
         "labels": [
          ".NET Core / .NET 5",
          ".NET Framework",
          "APL",
          "ASP.NET",
          "ASP.NET Core ",
          "AWS",
          "Android Studio",
          "Angular",
          "Angular.js",
          "Ansible",
          "Apache Spark",
          "Assembly",
          "Atom",
          "Bash/Shell",
          "C",
          "C#",
          "C++",
          "COBOL",
          "Cassandra",
          "Chef",
          "Clojure",
          "Cordova",
          "Couchbase",
          "Crystal",
          "Dart",
          "Delphi",
          "Deno",
          "DigitalOcean",
          "Django",
          "Docker",
          "Drupal",
          "DynamoDB",
          "Eclipse",
          "Elasticsearch",
          "Elixir",
          "Emacs",
          "Erlang",
          "Express",
          "F#",
          "FastAPI",
          "Firebase",
          "Flask",
          "Flow",
          "Flutter",
          "Gatsby",
          "Git",
          "Go",
          "Google Cloud Platform",
          "Groovy",
          "HTML/CSS",
          "Hadoop",
          "Haskell",
          "Heroku",
          "IBM Cloud or Watson",
          "IBM DB2",
          "IPython/Jupyter",
          "IntelliJ",
          "Java",
          "JavaScript",
          "Julia",
          "Keras",
          "Kotlin",
          "Kubernetes",
          "LISP",
          "Laravel",
          "MariaDB",
          "Matlab",
          "Microsoft Azure",
          "Microsoft SQL Server",
          "MongoDB",
          "MySQL",
          "Neovim",
          "NetBeans",
          "Node.js",
          "Notepad++",
          "NumPy",
          "Objective-C",
          "Oracle",
          "Oracle Cloud Infrastructure",
          "PHP",
          "PHPStorm",
          "Pandas",
          "Perl",
          "PostgreSQL",
          "PowerShell",
          "Pulumi",
          "Puppet",
          "PyCharm",
          "Python",
          "Qt",
          "R",
          "RStudio",
          "React Native",
          "React.js",
          "Redis",
          "Rider",
          "Ruby",
          "Ruby on Rails",
          "RubyMine",
          "Rust",
          "SQL",
          "SQLite",
          "Scala",
          "Spring",
          "Sublime Text",
          "Svelte",
          "Swift",
          "Symfony",
          "TensorFlow",
          "Terraform",
          "TextMate",
          "Torch/PyTorch",
          "TypeScript",
          "Unity 3D",
          "Unreal Engine",
          "VBA",
          "Vim",
          "Visual Studio",
          "Visual Studio Code",
          "Vue.js",
          "Webstorm",
          "Xamarin",
          "Xcode",
          "Yarn",
          "jQuery",
          "DatabaseHaveWorkedWith",
          "LanguageHaveWorkedWith",
          "MiscTechHaveWorkedWith",
          "NEWCollabToolsHaveWorkedWith",
          "PlatformHaveWorkedWith",
          "ToolsTechHaveWorkedWith",
          "WebframeHaveWorkedWith"
         ],
         "marker": {
          "coloraxis": "coloraxis",
          "colors": [
           15310,
           16620,
           536,
           9918,
           11404,
           29138,
           18141,
           14471,
           7242,
           5607,
           2833,
           4632,
           10564,
           22385,
           17329,
           22984,
           20057,
           437,
           1873,
           982,
           1552,
           3491,
           1106,
           466,
           4965,
           1731,
           1027,
           9495,
           9446,
           35644,
           1508,
           5137,
           12955,
           9331,
           1438,
           4327,
           651,
           15010,
           804,
           2447,
           11373,
           10174,
           929,
           6586,
           2501,
           68171,
           7879,
           16687,
           2479,
           46259,
           2155,
           1749,
           12897,
           1373,
           1438,
           10310,
           23467,
           29162,
           53587,
           1068,
           4930,
           6866,
           12115,
           1096,
           6377,
           12088,
           3846,
           16540,
           18896,
           19479,
           35289,
           4071,
           5839,
           27975,
           24262,
           16445,
           2310,
           8868,
           1014,
           18130,
           6096,
           13664,
           2028,
           28424,
           8871,
           368,
           1313,
           15755,
           39792,
           4812,
           4185,
           3200,
           7051,
           25296,
           14552,
           3255,
           5569,
           4438,
           1219,
           5799,
           38835,
           22634,
           2148,
           9177,
           16714,
           1735,
           4204,
           2427,
           8034,
           5442,
           678,
           4808,
           24909,
           7206,
           2339,
           3847,
           19752,
           26970,
           58026,
           11954,
           6564,
           2844,
           9040,
           12937,
           21693,
           20936.479200789552,
           28957.47648228489,
           11437.568995399994,
           25321.11167653491,
           19054.112411640504,
           40549.566439805254,
           13931.995048379958
          ]
         },
         "name": "",
         "parents": [
          "MiscTechHaveWorkedWith",
          "MiscTechHaveWorkedWith",
          "LanguageHaveWorkedWith",
          "WebframeHaveWorkedWith",
          "WebframeHaveWorkedWith",
          "PlatformHaveWorkedWith",
          "NEWCollabToolsHaveWorkedWith",
          "WebframeHaveWorkedWith",
          "WebframeHaveWorkedWith",
          "ToolsTechHaveWorkedWith",
          "MiscTechHaveWorkedWith",
          "LanguageHaveWorkedWith",
          "NEWCollabToolsHaveWorkedWith",
          "LanguageHaveWorkedWith",
          "LanguageHaveWorkedWith",
          "LanguageHaveWorkedWith",
          "LanguageHaveWorkedWith",
          "LanguageHaveWorkedWith",
          "DatabaseHaveWorkedWith",
          "ToolsTechHaveWorkedWith",
          "LanguageHaveWorkedWith",
          "MiscTechHaveWorkedWith",
          "DatabaseHaveWorkedWith",
          "LanguageHaveWorkedWith",
          "LanguageHaveWorkedWith",
          "LanguageHaveWorkedWith",
          "ToolsTechHaveWorkedWith",
          "PlatformHaveWorkedWith",
          "WebframeHaveWorkedWith",
          "ToolsTechHaveWorkedWith",
          "WebframeHaveWorkedWith",
          "DatabaseHaveWorkedWith",
          "NEWCollabToolsHaveWorkedWith",
          "DatabaseHaveWorkedWith",
          "LanguageHaveWorkedWith",
          "NEWCollabToolsHaveWorkedWith",
          "LanguageHaveWorkedWith",
          "WebframeHaveWorkedWith",
          "LanguageHaveWorkedWith",
          "WebframeHaveWorkedWith",
          "DatabaseHaveWorkedWith",
          "WebframeHaveWorkedWith",
          "ToolsTechHaveWorkedWith",
          "MiscTechHaveWorkedWith",
          "WebframeHaveWorkedWith",
          "ToolsTechHaveWorkedWith",
          "LanguageHaveWorkedWith",
          "PlatformHaveWorkedWith",
          "LanguageHaveWorkedWith",
          "LanguageHaveWorkedWith",
          "MiscTechHaveWorkedWith",
          "LanguageHaveWorkedWith",
          "PlatformHaveWorkedWith",
          "PlatformHaveWorkedWith",
          "DatabaseHaveWorkedWith",
          "NEWCollabToolsHaveWorkedWith",
          "NEWCollabToolsHaveWorkedWith",
          "LanguageHaveWorkedWith",
          "LanguageHaveWorkedWith",
          "LanguageHaveWorkedWith",
          "MiscTechHaveWorkedWith",
          "LanguageHaveWorkedWith",
          "ToolsTechHaveWorkedWith",
          "LanguageHaveWorkedWith",
          "WebframeHaveWorkedWith",
          "DatabaseHaveWorkedWith",
          "LanguageHaveWorkedWith",
          "PlatformHaveWorkedWith",
          "DatabaseHaveWorkedWith",
          "DatabaseHaveWorkedWith",
          "DatabaseHaveWorkedWith",
          "NEWCollabToolsHaveWorkedWith",
          "NEWCollabToolsHaveWorkedWith",
          "LanguageHaveWorkedWith",
          "NEWCollabToolsHaveWorkedWith",
          "MiscTechHaveWorkedWith",
          "LanguageHaveWorkedWith",
          "DatabaseHaveWorkedWith",
          "PlatformHaveWorkedWith",
          "LanguageHaveWorkedWith",
          "NEWCollabToolsHaveWorkedWith",
          "MiscTechHaveWorkedWith",
          "LanguageHaveWorkedWith",
          "DatabaseHaveWorkedWith",
          "LanguageHaveWorkedWith",
          "ToolsTechHaveWorkedWith",
          "ToolsTechHaveWorkedWith",
          "NEWCollabToolsHaveWorkedWith",
          "LanguageHaveWorkedWith",
          "MiscTechHaveWorkedWith",
          "LanguageHaveWorkedWith",
          "NEWCollabToolsHaveWorkedWith",
          "MiscTechHaveWorkedWith",
          "WebframeHaveWorkedWith",
          "DatabaseHaveWorkedWith",
          "NEWCollabToolsHaveWorkedWith",
          "LanguageHaveWorkedWith",
          "WebframeHaveWorkedWith",
          "NEWCollabToolsHaveWorkedWith",
          "LanguageHaveWorkedWith",
          "LanguageHaveWorkedWith",
          "DatabaseHaveWorkedWith",
          "LanguageHaveWorkedWith",
          "WebframeHaveWorkedWith",
          "NEWCollabToolsHaveWorkedWith",
          "WebframeHaveWorkedWith",
          "LanguageHaveWorkedWith",
          "WebframeHaveWorkedWith",
          "MiscTechHaveWorkedWith",
          "ToolsTechHaveWorkedWith",
          "NEWCollabToolsHaveWorkedWith",
          "MiscTechHaveWorkedWith",
          "LanguageHaveWorkedWith",
          "ToolsTechHaveWorkedWith",
          "ToolsTechHaveWorkedWith",
          "LanguageHaveWorkedWith",
          "NEWCollabToolsHaveWorkedWith",
          "NEWCollabToolsHaveWorkedWith",
          "NEWCollabToolsHaveWorkedWith",
          "WebframeHaveWorkedWith",
          "NEWCollabToolsHaveWorkedWith",
          "ToolsTechHaveWorkedWith",
          "NEWCollabToolsHaveWorkedWith",
          "ToolsTechHaveWorkedWith",
          "WebframeHaveWorkedWith",
          "",
          "",
          "",
          "",
          "",
          "",
          ""
         ],
         "type": "treemap",
         "values": [
          15310,
          16620,
          536,
          9918,
          11404,
          29138,
          18141,
          14471,
          7242,
          5607,
          2833,
          4632,
          10564,
          22385,
          17329,
          22984,
          20057,
          437,
          1873,
          982,
          1552,
          3491,
          1106,
          466,
          4965,
          1731,
          1027,
          9495,
          9446,
          35644,
          1508,
          5137,
          12955,
          9331,
          1438,
          4327,
          651,
          15010,
          804,
          2447,
          11373,
          10174,
          929,
          6586,
          2501,
          68171,
          7879,
          16687,
          2479,
          46259,
          2155,
          1749,
          12897,
          1373,
          1438,
          10310,
          23467,
          29162,
          53587,
          1068,
          4930,
          6866,
          12115,
          1096,
          6377,
          12088,
          3846,
          16540,
          18896,
          19479,
          35289,
          4071,
          5839,
          27975,
          24262,
          16445,
          2310,
          8868,
          1014,
          18130,
          6096,
          13664,
          2028,
          28424,
          8871,
          368,
          1313,
          15755,
          39792,
          4812,
          4185,
          3200,
          7051,
          25296,
          14552,
          3255,
          5569,
          4438,
          1219,
          5799,
          38835,
          22634,
          2148,
          9177,
          16714,
          1735,
          4204,
          2427,
          8034,
          5442,
          678,
          4808,
          24909,
          7206,
          2339,
          3847,
          19752,
          26970,
          58026,
          11954,
          6564,
          2844,
          9040,
          12937,
          21693,
          190488,
          442560,
          106739,
          281205,
          87144,
          156924,
          167218
         ]
        }
       ],
       "layout": {
        "coloraxis": {
         "colorbar": {
          "title": {
           "text": "freq"
          }
         },
         "colorscale": [
          [
           0,
           "rgb(253, 253, 204)"
          ],
          [
           0.09090909090909091,
           "rgb(206, 236, 179)"
          ],
          [
           0.18181818181818182,
           "rgb(156, 219, 165)"
          ],
          [
           0.2727272727272727,
           "rgb(111, 201, 163)"
          ],
          [
           0.36363636363636365,
           "rgb(86, 177, 163)"
          ],
          [
           0.45454545454545453,
           "rgb(76, 153, 160)"
          ],
          [
           0.5454545454545454,
           "rgb(68, 130, 155)"
          ],
          [
           0.6363636363636364,
           "rgb(62, 108, 150)"
          ],
          [
           0.7272727272727273,
           "rgb(62, 82, 143)"
          ],
          [
           0.8181818181818182,
           "rgb(64, 60, 115)"
          ],
          [
           0.9090909090909091,
           "rgb(54, 43, 77)"
          ],
          [
           1,
           "rgb(39, 26, 44)"
          ]
         ]
        },
        "legend": {
         "tracegroupgap": 0
        },
        "margin": {
         "t": 60
        },
        "template": {
         "data": {
          "bar": [
           {
            "error_x": {
             "color": "#2a3f5f"
            },
            "error_y": {
             "color": "#2a3f5f"
            },
            "marker": {
             "line": {
              "color": "#E5ECF6",
              "width": 0.5
             },
             "pattern": {
              "fillmode": "overlay",
              "size": 10,
              "solidity": 0.2
             }
            },
            "type": "bar"
           }
          ],
          "barpolar": [
           {
            "marker": {
             "line": {
              "color": "#E5ECF6",
              "width": 0.5
             },
             "pattern": {
              "fillmode": "overlay",
              "size": 10,
              "solidity": 0.2
             }
            },
            "type": "barpolar"
           }
          ],
          "carpet": [
           {
            "aaxis": {
             "endlinecolor": "#2a3f5f",
             "gridcolor": "white",
             "linecolor": "white",
             "minorgridcolor": "white",
             "startlinecolor": "#2a3f5f"
            },
            "baxis": {
             "endlinecolor": "#2a3f5f",
             "gridcolor": "white",
             "linecolor": "white",
             "minorgridcolor": "white",
             "startlinecolor": "#2a3f5f"
            },
            "type": "carpet"
           }
          ],
          "choropleth": [
           {
            "colorbar": {
             "outlinewidth": 0,
             "ticks": ""
            },
            "type": "choropleth"
           }
          ],
          "contour": [
           {
            "colorbar": {
             "outlinewidth": 0,
             "ticks": ""
            },
            "colorscale": [
             [
              0,
              "#0d0887"
             ],
             [
              0.1111111111111111,
              "#46039f"
             ],
             [
              0.2222222222222222,
              "#7201a8"
             ],
             [
              0.3333333333333333,
              "#9c179e"
             ],
             [
              0.4444444444444444,
              "#bd3786"
             ],
             [
              0.5555555555555556,
              "#d8576b"
             ],
             [
              0.6666666666666666,
              "#ed7953"
             ],
             [
              0.7777777777777778,
              "#fb9f3a"
             ],
             [
              0.8888888888888888,
              "#fdca26"
             ],
             [
              1,
              "#f0f921"
             ]
            ],
            "type": "contour"
           }
          ],
          "contourcarpet": [
           {
            "colorbar": {
             "outlinewidth": 0,
             "ticks": ""
            },
            "type": "contourcarpet"
           }
          ],
          "heatmap": [
           {
            "colorbar": {
             "outlinewidth": 0,
             "ticks": ""
            },
            "colorscale": [
             [
              0,
              "#0d0887"
             ],
             [
              0.1111111111111111,
              "#46039f"
             ],
             [
              0.2222222222222222,
              "#7201a8"
             ],
             [
              0.3333333333333333,
              "#9c179e"
             ],
             [
              0.4444444444444444,
              "#bd3786"
             ],
             [
              0.5555555555555556,
              "#d8576b"
             ],
             [
              0.6666666666666666,
              "#ed7953"
             ],
             [
              0.7777777777777778,
              "#fb9f3a"
             ],
             [
              0.8888888888888888,
              "#fdca26"
             ],
             [
              1,
              "#f0f921"
             ]
            ],
            "type": "heatmap"
           }
          ],
          "heatmapgl": [
           {
            "colorbar": {
             "outlinewidth": 0,
             "ticks": ""
            },
            "colorscale": [
             [
              0,
              "#0d0887"
             ],
             [
              0.1111111111111111,
              "#46039f"
             ],
             [
              0.2222222222222222,
              "#7201a8"
             ],
             [
              0.3333333333333333,
              "#9c179e"
             ],
             [
              0.4444444444444444,
              "#bd3786"
             ],
             [
              0.5555555555555556,
              "#d8576b"
             ],
             [
              0.6666666666666666,
              "#ed7953"
             ],
             [
              0.7777777777777778,
              "#fb9f3a"
             ],
             [
              0.8888888888888888,
              "#fdca26"
             ],
             [
              1,
              "#f0f921"
             ]
            ],
            "type": "heatmapgl"
           }
          ],
          "histogram": [
           {
            "marker": {
             "pattern": {
              "fillmode": "overlay",
              "size": 10,
              "solidity": 0.2
             }
            },
            "type": "histogram"
           }
          ],
          "histogram2d": [
           {
            "colorbar": {
             "outlinewidth": 0,
             "ticks": ""
            },
            "colorscale": [
             [
              0,
              "#0d0887"
             ],
             [
              0.1111111111111111,
              "#46039f"
             ],
             [
              0.2222222222222222,
              "#7201a8"
             ],
             [
              0.3333333333333333,
              "#9c179e"
             ],
             [
              0.4444444444444444,
              "#bd3786"
             ],
             [
              0.5555555555555556,
              "#d8576b"
             ],
             [
              0.6666666666666666,
              "#ed7953"
             ],
             [
              0.7777777777777778,
              "#fb9f3a"
             ],
             [
              0.8888888888888888,
              "#fdca26"
             ],
             [
              1,
              "#f0f921"
             ]
            ],
            "type": "histogram2d"
           }
          ],
          "histogram2dcontour": [
           {
            "colorbar": {
             "outlinewidth": 0,
             "ticks": ""
            },
            "colorscale": [
             [
              0,
              "#0d0887"
             ],
             [
              0.1111111111111111,
              "#46039f"
             ],
             [
              0.2222222222222222,
              "#7201a8"
             ],
             [
              0.3333333333333333,
              "#9c179e"
             ],
             [
              0.4444444444444444,
              "#bd3786"
             ],
             [
              0.5555555555555556,
              "#d8576b"
             ],
             [
              0.6666666666666666,
              "#ed7953"
             ],
             [
              0.7777777777777778,
              "#fb9f3a"
             ],
             [
              0.8888888888888888,
              "#fdca26"
             ],
             [
              1,
              "#f0f921"
             ]
            ],
            "type": "histogram2dcontour"
           }
          ],
          "mesh3d": [
           {
            "colorbar": {
             "outlinewidth": 0,
             "ticks": ""
            },
            "type": "mesh3d"
           }
          ],
          "parcoords": [
           {
            "line": {
             "colorbar": {
              "outlinewidth": 0,
              "ticks": ""
             }
            },
            "type": "parcoords"
           }
          ],
          "pie": [
           {
            "automargin": true,
            "type": "pie"
           }
          ],
          "scatter": [
           {
            "fillpattern": {
             "fillmode": "overlay",
             "size": 10,
             "solidity": 0.2
            },
            "type": "scatter"
           }
          ],
          "scatter3d": [
           {
            "line": {
             "colorbar": {
              "outlinewidth": 0,
              "ticks": ""
             }
            },
            "marker": {
             "colorbar": {
              "outlinewidth": 0,
              "ticks": ""
             }
            },
            "type": "scatter3d"
           }
          ],
          "scattercarpet": [
           {
            "marker": {
             "colorbar": {
              "outlinewidth": 0,
              "ticks": ""
             }
            },
            "type": "scattercarpet"
           }
          ],
          "scattergeo": [
           {
            "marker": {
             "colorbar": {
              "outlinewidth": 0,
              "ticks": ""
             }
            },
            "type": "scattergeo"
           }
          ],
          "scattergl": [
           {
            "marker": {
             "colorbar": {
              "outlinewidth": 0,
              "ticks": ""
             }
            },
            "type": "scattergl"
           }
          ],
          "scattermapbox": [
           {
            "marker": {
             "colorbar": {
              "outlinewidth": 0,
              "ticks": ""
             }
            },
            "type": "scattermapbox"
           }
          ],
          "scatterpolar": [
           {
            "marker": {
             "colorbar": {
              "outlinewidth": 0,
              "ticks": ""
             }
            },
            "type": "scatterpolar"
           }
          ],
          "scatterpolargl": [
           {
            "marker": {
             "colorbar": {
              "outlinewidth": 0,
              "ticks": ""
             }
            },
            "type": "scatterpolargl"
           }
          ],
          "scatterternary": [
           {
            "marker": {
             "colorbar": {
              "outlinewidth": 0,
              "ticks": ""
             }
            },
            "type": "scatterternary"
           }
          ],
          "surface": [
           {
            "colorbar": {
             "outlinewidth": 0,
             "ticks": ""
            },
            "colorscale": [
             [
              0,
              "#0d0887"
             ],
             [
              0.1111111111111111,
              "#46039f"
             ],
             [
              0.2222222222222222,
              "#7201a8"
             ],
             [
              0.3333333333333333,
              "#9c179e"
             ],
             [
              0.4444444444444444,
              "#bd3786"
             ],
             [
              0.5555555555555556,
              "#d8576b"
             ],
             [
              0.6666666666666666,
              "#ed7953"
             ],
             [
              0.7777777777777778,
              "#fb9f3a"
             ],
             [
              0.8888888888888888,
              "#fdca26"
             ],
             [
              1,
              "#f0f921"
             ]
            ],
            "type": "surface"
           }
          ],
          "table": [
           {
            "cells": {
             "fill": {
              "color": "#EBF0F8"
             },
             "line": {
              "color": "white"
             }
            },
            "header": {
             "fill": {
              "color": "#C8D4E3"
             },
             "line": {
              "color": "white"
             }
            },
            "type": "table"
           }
          ]
         },
         "layout": {
          "annotationdefaults": {
           "arrowcolor": "#2a3f5f",
           "arrowhead": 0,
           "arrowwidth": 1
          },
          "autotypenumbers": "strict",
          "coloraxis": {
           "colorbar": {
            "outlinewidth": 0,
            "ticks": ""
           }
          },
          "colorscale": {
           "diverging": [
            [
             0,
             "#8e0152"
            ],
            [
             0.1,
             "#c51b7d"
            ],
            [
             0.2,
             "#de77ae"
            ],
            [
             0.3,
             "#f1b6da"
            ],
            [
             0.4,
             "#fde0ef"
            ],
            [
             0.5,
             "#f7f7f7"
            ],
            [
             0.6,
             "#e6f5d0"
            ],
            [
             0.7,
             "#b8e186"
            ],
            [
             0.8,
             "#7fbc41"
            ],
            [
             0.9,
             "#4d9221"
            ],
            [
             1,
             "#276419"
            ]
           ],
           "sequential": [
            [
             0,
             "#0d0887"
            ],
            [
             0.1111111111111111,
             "#46039f"
            ],
            [
             0.2222222222222222,
             "#7201a8"
            ],
            [
             0.3333333333333333,
             "#9c179e"
            ],
            [
             0.4444444444444444,
             "#bd3786"
            ],
            [
             0.5555555555555556,
             "#d8576b"
            ],
            [
             0.6666666666666666,
             "#ed7953"
            ],
            [
             0.7777777777777778,
             "#fb9f3a"
            ],
            [
             0.8888888888888888,
             "#fdca26"
            ],
            [
             1,
             "#f0f921"
            ]
           ],
           "sequentialminus": [
            [
             0,
             "#0d0887"
            ],
            [
             0.1111111111111111,
             "#46039f"
            ],
            [
             0.2222222222222222,
             "#7201a8"
            ],
            [
             0.3333333333333333,
             "#9c179e"
            ],
            [
             0.4444444444444444,
             "#bd3786"
            ],
            [
             0.5555555555555556,
             "#d8576b"
            ],
            [
             0.6666666666666666,
             "#ed7953"
            ],
            [
             0.7777777777777778,
             "#fb9f3a"
            ],
            [
             0.8888888888888888,
             "#fdca26"
            ],
            [
             1,
             "#f0f921"
            ]
           ]
          },
          "colorway": [
           "#636efa",
           "#EF553B",
           "#00cc96",
           "#ab63fa",
           "#FFA15A",
           "#19d3f3",
           "#FF6692",
           "#B6E880",
           "#FF97FF",
           "#FECB52"
          ],
          "font": {
           "color": "#2a3f5f"
          },
          "geo": {
           "bgcolor": "white",
           "lakecolor": "white",
           "landcolor": "#E5ECF6",
           "showlakes": true,
           "showland": true,
           "subunitcolor": "white"
          },
          "hoverlabel": {
           "align": "left"
          },
          "hovermode": "closest",
          "mapbox": {
           "style": "light"
          },
          "paper_bgcolor": "white",
          "plot_bgcolor": "#E5ECF6",
          "polar": {
           "angularaxis": {
            "gridcolor": "white",
            "linecolor": "white",
            "ticks": ""
           },
           "bgcolor": "#E5ECF6",
           "radialaxis": {
            "gridcolor": "white",
            "linecolor": "white",
            "ticks": ""
           }
          },
          "scene": {
           "xaxis": {
            "backgroundcolor": "#E5ECF6",
            "gridcolor": "white",
            "gridwidth": 2,
            "linecolor": "white",
            "showbackground": true,
            "ticks": "",
            "zerolinecolor": "white"
           },
           "yaxis": {
            "backgroundcolor": "#E5ECF6",
            "gridcolor": "white",
            "gridwidth": 2,
            "linecolor": "white",
            "showbackground": true,
            "ticks": "",
            "zerolinecolor": "white"
           },
           "zaxis": {
            "backgroundcolor": "#E5ECF6",
            "gridcolor": "white",
            "gridwidth": 2,
            "linecolor": "white",
            "showbackground": true,
            "ticks": "",
            "zerolinecolor": "white"
           }
          },
          "shapedefaults": {
           "line": {
            "color": "#2a3f5f"
           }
          },
          "ternary": {
           "aaxis": {
            "gridcolor": "white",
            "linecolor": "white",
            "ticks": ""
           },
           "baxis": {
            "gridcolor": "white",
            "linecolor": "white",
            "ticks": ""
           },
           "bgcolor": "#E5ECF6",
           "caxis": {
            "gridcolor": "white",
            "linecolor": "white",
            "ticks": ""
           }
          },
          "title": {
           "x": 0.05
          },
          "xaxis": {
           "automargin": true,
           "gridcolor": "white",
           "linecolor": "white",
           "ticks": "",
           "title": {
            "standoff": 15
           },
           "zerolinecolor": "white",
           "zerolinewidth": 2
          },
          "yaxis": {
           "automargin": true,
           "gridcolor": "white",
           "linecolor": "white",
           "ticks": "",
           "title": {
            "standoff": 15
           },
           "zerolinecolor": "white",
           "zerolinewidth": 2
          }
         }
        }
       }
      },
      "text/html": [
       "<div>                            <div id=\"2db23084-a337-4c20-ac44-33c0da4809e4\" class=\"plotly-graph-div\" style=\"height:525px; width:100%;\"></div>            <script type=\"text/javascript\">                require([\"plotly\"], function(Plotly) {                    window.PLOTLYENV=window.PLOTLYENV || {};                                    if (document.getElementById(\"2db23084-a337-4c20-ac44-33c0da4809e4\")) {                    Plotly.newPlot(                        \"2db23084-a337-4c20-ac44-33c0da4809e4\",                        [{\"branchvalues\":\"total\",\"customdata\":[[15310.0],[16620.0],[536.0],[9918.0],[11404.0],[29138.0],[18141.0],[14471.0],[7242.0],[5607.0],[2833.0],[4632.0],[10564.0],[22385.0],[17329.0],[22984.0],[20057.0],[437.0],[1873.0],[982.0],[1552.0],[3491.0],[1106.0],[466.0],[4965.0],[1731.0],[1027.0],[9495.0],[9446.0],[35644.0],[1508.0],[5137.0],[12955.0],[9331.0],[1438.0],[4327.0],[651.0],[15010.0],[804.0],[2447.0],[11373.0],[10174.0],[929.0],[6586.0],[2501.0],[68171.0],[7879.0],[16687.0],[2479.0],[46259.0],[2155.0],[1749.0],[12897.0],[1373.0],[1438.0],[10310.0],[23467.0],[29162.0],[53587.0],[1068.0],[4930.0],[6866.0],[12115.0],[1096.0],[6377.0],[12088.0],[3846.0],[16540.0],[18896.0],[19479.0],[35289.0],[4071.0],[5839.0],[27975.0],[24262.0],[16445.0],[2310.0],[8868.0],[1014.0],[18130.0],[6096.0],[13664.0],[2028.0],[28424.0],[8871.0],[368.0],[1313.0],[15755.0],[39792.0],[4812.0],[4185.0],[3200.0],[7051.0],[25296.0],[14552.0],[3255.0],[5569.0],[4438.0],[1219.0],[5799.0],[38835.0],[22634.0],[2148.0],[9177.0],[16714.0],[1735.0],[4204.0],[2427.0],[8034.0],[5442.0],[678.0],[4808.0],[24909.0],[7206.0],[2339.0],[3847.0],[19752.0],[26970.0],[58026.0],[11954.0],[6564.0],[2844.0],[9040.0],[12937.0],[21693.0],[20936.479200789552],[28957.47648228489],[11437.568995399994],[25321.11167653491],[19054.112411640504],[40549.566439805254],[13931.995048379958]],\"domain\":{\"x\":[0.0,1.0],\"y\":[0.0,1.0]},\"hovertemplate\":\"labels=%{label}<br>freq_sum=%{value}<br>parent=%{parent}<br>id=%{id}<br>freq=%{color}<extra></extra>\",\"ids\":[\"MiscTechHaveWorkedWith/.NET Core / .NET 5\",\"MiscTechHaveWorkedWith/.NET Framework\",\"LanguageHaveWorkedWith/APL\",\"WebframeHaveWorkedWith/ASP.NET\",\"WebframeHaveWorkedWith/ASP.NET Core \",\"PlatformHaveWorkedWith/AWS\",\"NEWCollabToolsHaveWorkedWith/Android Studio\",\"WebframeHaveWorkedWith/Angular\",\"WebframeHaveWorkedWith/Angular.js\",\"ToolsTechHaveWorkedWith/Ansible\",\"MiscTechHaveWorkedWith/Apache Spark\",\"LanguageHaveWorkedWith/Assembly\",\"NEWCollabToolsHaveWorkedWith/Atom\",\"LanguageHaveWorkedWith/Bash/Shell\",\"LanguageHaveWorkedWith/C\",\"LanguageHaveWorkedWith/C#\",\"LanguageHaveWorkedWith/C++\",\"LanguageHaveWorkedWith/COBOL\",\"DatabaseHaveWorkedWith/Cassandra\",\"ToolsTechHaveWorkedWith/Chef\",\"LanguageHaveWorkedWith/Clojure\",\"MiscTechHaveWorkedWith/Cordova\",\"DatabaseHaveWorkedWith/Couchbase\",\"LanguageHaveWorkedWith/Crystal\",\"LanguageHaveWorkedWith/Dart\",\"LanguageHaveWorkedWith/Delphi\",\"ToolsTechHaveWorkedWith/Deno\",\"PlatformHaveWorkedWith/DigitalOcean\",\"WebframeHaveWorkedWith/Django\",\"ToolsTechHaveWorkedWith/Docker\",\"WebframeHaveWorkedWith/Drupal\",\"DatabaseHaveWorkedWith/DynamoDB\",\"NEWCollabToolsHaveWorkedWith/Eclipse\",\"DatabaseHaveWorkedWith/Elasticsearch\",\"LanguageHaveWorkedWith/Elixir\",\"NEWCollabToolsHaveWorkedWith/Emacs\",\"LanguageHaveWorkedWith/Erlang\",\"WebframeHaveWorkedWith/Express\",\"LanguageHaveWorkedWith/F#\",\"WebframeHaveWorkedWith/FastAPI\",\"DatabaseHaveWorkedWith/Firebase\",\"WebframeHaveWorkedWith/Flask\",\"ToolsTechHaveWorkedWith/Flow\",\"MiscTechHaveWorkedWith/Flutter\",\"WebframeHaveWorkedWith/Gatsby\",\"ToolsTechHaveWorkedWith/Git\",\"LanguageHaveWorkedWith/Go\",\"PlatformHaveWorkedWith/Google Cloud Platform\",\"LanguageHaveWorkedWith/Groovy\",\"LanguageHaveWorkedWith/HTML/CSS\",\"MiscTechHaveWorkedWith/Hadoop\",\"LanguageHaveWorkedWith/Haskell\",\"PlatformHaveWorkedWith/Heroku\",\"PlatformHaveWorkedWith/IBM Cloud or Watson\",\"DatabaseHaveWorkedWith/IBM DB2\",\"NEWCollabToolsHaveWorkedWith/IPython/Jupyter\",\"NEWCollabToolsHaveWorkedWith/IntelliJ\",\"LanguageHaveWorkedWith/Java\",\"LanguageHaveWorkedWith/JavaScript\",\"LanguageHaveWorkedWith/Julia\",\"MiscTechHaveWorkedWith/Keras\",\"LanguageHaveWorkedWith/Kotlin\",\"ToolsTechHaveWorkedWith/Kubernetes\",\"LanguageHaveWorkedWith/LISP\",\"WebframeHaveWorkedWith/Laravel\",\"DatabaseHaveWorkedWith/MariaDB\",\"LanguageHaveWorkedWith/Matlab\",\"PlatformHaveWorkedWith/Microsoft Azure\",\"DatabaseHaveWorkedWith/Microsoft SQL Server\",\"DatabaseHaveWorkedWith/MongoDB\",\"DatabaseHaveWorkedWith/MySQL\",\"NEWCollabToolsHaveWorkedWith/Neovim\",\"NEWCollabToolsHaveWorkedWith/NetBeans\",\"LanguageHaveWorkedWith/Node.js\",\"NEWCollabToolsHaveWorkedWith/Notepad++\",\"MiscTechHaveWorkedWith/NumPy\",\"LanguageHaveWorkedWith/Objective-C\",\"DatabaseHaveWorkedWith/Oracle\",\"PlatformHaveWorkedWith/Oracle Cloud Infrastructure\",\"LanguageHaveWorkedWith/PHP\",\"NEWCollabToolsHaveWorkedWith/PHPStorm\",\"MiscTechHaveWorkedWith/Pandas\",\"LanguageHaveWorkedWith/Perl\",\"DatabaseHaveWorkedWith/PostgreSQL\",\"LanguageHaveWorkedWith/PowerShell\",\"ToolsTechHaveWorkedWith/Pulumi\",\"ToolsTechHaveWorkedWith/Puppet\",\"NEWCollabToolsHaveWorkedWith/PyCharm\",\"LanguageHaveWorkedWith/Python\",\"MiscTechHaveWorkedWith/Qt\",\"LanguageHaveWorkedWith/R\",\"NEWCollabToolsHaveWorkedWith/RStudio\",\"MiscTechHaveWorkedWith/React Native\",\"WebframeHaveWorkedWith/React.js\",\"DatabaseHaveWorkedWith/Redis\",\"NEWCollabToolsHaveWorkedWith/Rider\",\"LanguageHaveWorkedWith/Ruby\",\"WebframeHaveWorkedWith/Ruby on Rails\",\"NEWCollabToolsHaveWorkedWith/RubyMine\",\"LanguageHaveWorkedWith/Rust\",\"LanguageHaveWorkedWith/SQL\",\"DatabaseHaveWorkedWith/SQLite\",\"LanguageHaveWorkedWith/Scala\",\"WebframeHaveWorkedWith/Spring\",\"NEWCollabToolsHaveWorkedWith/Sublime Text\",\"WebframeHaveWorkedWith/Svelte\",\"LanguageHaveWorkedWith/Swift\",\"WebframeHaveWorkedWith/Symfony\",\"MiscTechHaveWorkedWith/TensorFlow\",\"ToolsTechHaveWorkedWith/Terraform\",\"NEWCollabToolsHaveWorkedWith/TextMate\",\"MiscTechHaveWorkedWith/Torch/PyTorch\",\"LanguageHaveWorkedWith/TypeScript\",\"ToolsTechHaveWorkedWith/Unity 3D\",\"ToolsTechHaveWorkedWith/Unreal Engine\",\"LanguageHaveWorkedWith/VBA\",\"NEWCollabToolsHaveWorkedWith/Vim\",\"NEWCollabToolsHaveWorkedWith/Visual Studio\",\"NEWCollabToolsHaveWorkedWith/Visual Studio Code\",\"WebframeHaveWorkedWith/Vue.js\",\"NEWCollabToolsHaveWorkedWith/Webstorm\",\"ToolsTechHaveWorkedWith/Xamarin\",\"NEWCollabToolsHaveWorkedWith/Xcode\",\"ToolsTechHaveWorkedWith/Yarn\",\"WebframeHaveWorkedWith/jQuery\",\"DatabaseHaveWorkedWith\",\"LanguageHaveWorkedWith\",\"MiscTechHaveWorkedWith\",\"NEWCollabToolsHaveWorkedWith\",\"PlatformHaveWorkedWith\",\"ToolsTechHaveWorkedWith\",\"WebframeHaveWorkedWith\"],\"labels\":[\".NET Core / .NET 5\",\".NET Framework\",\"APL\",\"ASP.NET\",\"ASP.NET Core \",\"AWS\",\"Android Studio\",\"Angular\",\"Angular.js\",\"Ansible\",\"Apache Spark\",\"Assembly\",\"Atom\",\"Bash/Shell\",\"C\",\"C#\",\"C++\",\"COBOL\",\"Cassandra\",\"Chef\",\"Clojure\",\"Cordova\",\"Couchbase\",\"Crystal\",\"Dart\",\"Delphi\",\"Deno\",\"DigitalOcean\",\"Django\",\"Docker\",\"Drupal\",\"DynamoDB\",\"Eclipse\",\"Elasticsearch\",\"Elixir\",\"Emacs\",\"Erlang\",\"Express\",\"F#\",\"FastAPI\",\"Firebase\",\"Flask\",\"Flow\",\"Flutter\",\"Gatsby\",\"Git\",\"Go\",\"Google Cloud Platform\",\"Groovy\",\"HTML/CSS\",\"Hadoop\",\"Haskell\",\"Heroku\",\"IBM Cloud or Watson\",\"IBM DB2\",\"IPython/Jupyter\",\"IntelliJ\",\"Java\",\"JavaScript\",\"Julia\",\"Keras\",\"Kotlin\",\"Kubernetes\",\"LISP\",\"Laravel\",\"MariaDB\",\"Matlab\",\"Microsoft Azure\",\"Microsoft SQL Server\",\"MongoDB\",\"MySQL\",\"Neovim\",\"NetBeans\",\"Node.js\",\"Notepad++\",\"NumPy\",\"Objective-C\",\"Oracle\",\"Oracle Cloud Infrastructure\",\"PHP\",\"PHPStorm\",\"Pandas\",\"Perl\",\"PostgreSQL\",\"PowerShell\",\"Pulumi\",\"Puppet\",\"PyCharm\",\"Python\",\"Qt\",\"R\",\"RStudio\",\"React Native\",\"React.js\",\"Redis\",\"Rider\",\"Ruby\",\"Ruby on Rails\",\"RubyMine\",\"Rust\",\"SQL\",\"SQLite\",\"Scala\",\"Spring\",\"Sublime Text\",\"Svelte\",\"Swift\",\"Symfony\",\"TensorFlow\",\"Terraform\",\"TextMate\",\"Torch/PyTorch\",\"TypeScript\",\"Unity 3D\",\"Unreal Engine\",\"VBA\",\"Vim\",\"Visual Studio\",\"Visual Studio Code\",\"Vue.js\",\"Webstorm\",\"Xamarin\",\"Xcode\",\"Yarn\",\"jQuery\",\"DatabaseHaveWorkedWith\",\"LanguageHaveWorkedWith\",\"MiscTechHaveWorkedWith\",\"NEWCollabToolsHaveWorkedWith\",\"PlatformHaveWorkedWith\",\"ToolsTechHaveWorkedWith\",\"WebframeHaveWorkedWith\"],\"marker\":{\"coloraxis\":\"coloraxis\",\"colors\":[15310.0,16620.0,536.0,9918.0,11404.0,29138.0,18141.0,14471.0,7242.0,5607.0,2833.0,4632.0,10564.0,22385.0,17329.0,22984.0,20057.0,437.0,1873.0,982.0,1552.0,3491.0,1106.0,466.0,4965.0,1731.0,1027.0,9495.0,9446.0,35644.0,1508.0,5137.0,12955.0,9331.0,1438.0,4327.0,651.0,15010.0,804.0,2447.0,11373.0,10174.0,929.0,6586.0,2501.0,68171.0,7879.0,16687.0,2479.0,46259.0,2155.0,1749.0,12897.0,1373.0,1438.0,10310.0,23467.0,29162.0,53587.0,1068.0,4930.0,6866.0,12115.0,1096.0,6377.0,12088.0,3846.0,16540.0,18896.0,19479.0,35289.0,4071.0,5839.0,27975.0,24262.0,16445.0,2310.0,8868.0,1014.0,18130.0,6096.0,13664.0,2028.0,28424.0,8871.0,368.0,1313.0,15755.0,39792.0,4812.0,4185.0,3200.0,7051.0,25296.0,14552.0,3255.0,5569.0,4438.0,1219.0,5799.0,38835.0,22634.0,2148.0,9177.0,16714.0,1735.0,4204.0,2427.0,8034.0,5442.0,678.0,4808.0,24909.0,7206.0,2339.0,3847.0,19752.0,26970.0,58026.0,11954.0,6564.0,2844.0,9040.0,12937.0,21693.0,20936.479200789552,28957.47648228489,11437.568995399994,25321.11167653491,19054.112411640504,40549.566439805254,13931.995048379958]},\"name\":\"\",\"parents\":[\"MiscTechHaveWorkedWith\",\"MiscTechHaveWorkedWith\",\"LanguageHaveWorkedWith\",\"WebframeHaveWorkedWith\",\"WebframeHaveWorkedWith\",\"PlatformHaveWorkedWith\",\"NEWCollabToolsHaveWorkedWith\",\"WebframeHaveWorkedWith\",\"WebframeHaveWorkedWith\",\"ToolsTechHaveWorkedWith\",\"MiscTechHaveWorkedWith\",\"LanguageHaveWorkedWith\",\"NEWCollabToolsHaveWorkedWith\",\"LanguageHaveWorkedWith\",\"LanguageHaveWorkedWith\",\"LanguageHaveWorkedWith\",\"LanguageHaveWorkedWith\",\"LanguageHaveWorkedWith\",\"DatabaseHaveWorkedWith\",\"ToolsTechHaveWorkedWith\",\"LanguageHaveWorkedWith\",\"MiscTechHaveWorkedWith\",\"DatabaseHaveWorkedWith\",\"LanguageHaveWorkedWith\",\"LanguageHaveWorkedWith\",\"LanguageHaveWorkedWith\",\"ToolsTechHaveWorkedWith\",\"PlatformHaveWorkedWith\",\"WebframeHaveWorkedWith\",\"ToolsTechHaveWorkedWith\",\"WebframeHaveWorkedWith\",\"DatabaseHaveWorkedWith\",\"NEWCollabToolsHaveWorkedWith\",\"DatabaseHaveWorkedWith\",\"LanguageHaveWorkedWith\",\"NEWCollabToolsHaveWorkedWith\",\"LanguageHaveWorkedWith\",\"WebframeHaveWorkedWith\",\"LanguageHaveWorkedWith\",\"WebframeHaveWorkedWith\",\"DatabaseHaveWorkedWith\",\"WebframeHaveWorkedWith\",\"ToolsTechHaveWorkedWith\",\"MiscTechHaveWorkedWith\",\"WebframeHaveWorkedWith\",\"ToolsTechHaveWorkedWith\",\"LanguageHaveWorkedWith\",\"PlatformHaveWorkedWith\",\"LanguageHaveWorkedWith\",\"LanguageHaveWorkedWith\",\"MiscTechHaveWorkedWith\",\"LanguageHaveWorkedWith\",\"PlatformHaveWorkedWith\",\"PlatformHaveWorkedWith\",\"DatabaseHaveWorkedWith\",\"NEWCollabToolsHaveWorkedWith\",\"NEWCollabToolsHaveWorkedWith\",\"LanguageHaveWorkedWith\",\"LanguageHaveWorkedWith\",\"LanguageHaveWorkedWith\",\"MiscTechHaveWorkedWith\",\"LanguageHaveWorkedWith\",\"ToolsTechHaveWorkedWith\",\"LanguageHaveWorkedWith\",\"WebframeHaveWorkedWith\",\"DatabaseHaveWorkedWith\",\"LanguageHaveWorkedWith\",\"PlatformHaveWorkedWith\",\"DatabaseHaveWorkedWith\",\"DatabaseHaveWorkedWith\",\"DatabaseHaveWorkedWith\",\"NEWCollabToolsHaveWorkedWith\",\"NEWCollabToolsHaveWorkedWith\",\"LanguageHaveWorkedWith\",\"NEWCollabToolsHaveWorkedWith\",\"MiscTechHaveWorkedWith\",\"LanguageHaveWorkedWith\",\"DatabaseHaveWorkedWith\",\"PlatformHaveWorkedWith\",\"LanguageHaveWorkedWith\",\"NEWCollabToolsHaveWorkedWith\",\"MiscTechHaveWorkedWith\",\"LanguageHaveWorkedWith\",\"DatabaseHaveWorkedWith\",\"LanguageHaveWorkedWith\",\"ToolsTechHaveWorkedWith\",\"ToolsTechHaveWorkedWith\",\"NEWCollabToolsHaveWorkedWith\",\"LanguageHaveWorkedWith\",\"MiscTechHaveWorkedWith\",\"LanguageHaveWorkedWith\",\"NEWCollabToolsHaveWorkedWith\",\"MiscTechHaveWorkedWith\",\"WebframeHaveWorkedWith\",\"DatabaseHaveWorkedWith\",\"NEWCollabToolsHaveWorkedWith\",\"LanguageHaveWorkedWith\",\"WebframeHaveWorkedWith\",\"NEWCollabToolsHaveWorkedWith\",\"LanguageHaveWorkedWith\",\"LanguageHaveWorkedWith\",\"DatabaseHaveWorkedWith\",\"LanguageHaveWorkedWith\",\"WebframeHaveWorkedWith\",\"NEWCollabToolsHaveWorkedWith\",\"WebframeHaveWorkedWith\",\"LanguageHaveWorkedWith\",\"WebframeHaveWorkedWith\",\"MiscTechHaveWorkedWith\",\"ToolsTechHaveWorkedWith\",\"NEWCollabToolsHaveWorkedWith\",\"MiscTechHaveWorkedWith\",\"LanguageHaveWorkedWith\",\"ToolsTechHaveWorkedWith\",\"ToolsTechHaveWorkedWith\",\"LanguageHaveWorkedWith\",\"NEWCollabToolsHaveWorkedWith\",\"NEWCollabToolsHaveWorkedWith\",\"NEWCollabToolsHaveWorkedWith\",\"WebframeHaveWorkedWith\",\"NEWCollabToolsHaveWorkedWith\",\"ToolsTechHaveWorkedWith\",\"NEWCollabToolsHaveWorkedWith\",\"ToolsTechHaveWorkedWith\",\"WebframeHaveWorkedWith\",\"\",\"\",\"\",\"\",\"\",\"\",\"\"],\"values\":[15310,16620,536,9918,11404,29138,18141,14471,7242,5607,2833,4632,10564,22385,17329,22984,20057,437,1873,982,1552,3491,1106,466,4965,1731,1027,9495,9446,35644,1508,5137,12955,9331,1438,4327,651,15010,804,2447,11373,10174,929,6586,2501,68171,7879,16687,2479,46259,2155,1749,12897,1373,1438,10310,23467,29162,53587,1068,4930,6866,12115,1096,6377,12088,3846,16540,18896,19479,35289,4071,5839,27975,24262,16445,2310,8868,1014,18130,6096,13664,2028,28424,8871,368,1313,15755,39792,4812,4185,3200,7051,25296,14552,3255,5569,4438,1219,5799,38835,22634,2148,9177,16714,1735,4204,2427,8034,5442,678,4808,24909,7206,2339,3847,19752,26970,58026,11954,6564,2844,9040,12937,21693,190488,442560,106739,281205,87144,156924,167218],\"type\":\"treemap\"}],                        {\"template\":{\"data\":{\"histogram2dcontour\":[{\"type\":\"histogram2dcontour\",\"colorbar\":{\"outlinewidth\":0,\"ticks\":\"\"},\"colorscale\":[[0.0,\"#0d0887\"],[0.1111111111111111,\"#46039f\"],[0.2222222222222222,\"#7201a8\"],[0.3333333333333333,\"#9c179e\"],[0.4444444444444444,\"#bd3786\"],[0.5555555555555556,\"#d8576b\"],[0.6666666666666666,\"#ed7953\"],[0.7777777777777778,\"#fb9f3a\"],[0.8888888888888888,\"#fdca26\"],[1.0,\"#f0f921\"]]}],\"choropleth\":[{\"type\":\"choropleth\",\"colorbar\":{\"outlinewidth\":0,\"ticks\":\"\"}}],\"histogram2d\":[{\"type\":\"histogram2d\",\"colorbar\":{\"outlinewidth\":0,\"ticks\":\"\"},\"colorscale\":[[0.0,\"#0d0887\"],[0.1111111111111111,\"#46039f\"],[0.2222222222222222,\"#7201a8\"],[0.3333333333333333,\"#9c179e\"],[0.4444444444444444,\"#bd3786\"],[0.5555555555555556,\"#d8576b\"],[0.6666666666666666,\"#ed7953\"],[0.7777777777777778,\"#fb9f3a\"],[0.8888888888888888,\"#fdca26\"],[1.0,\"#f0f921\"]]}],\"heatmap\":[{\"type\":\"heatmap\",\"colorbar\":{\"outlinewidth\":0,\"ticks\":\"\"},\"colorscale\":[[0.0,\"#0d0887\"],[0.1111111111111111,\"#46039f\"],[0.2222222222222222,\"#7201a8\"],[0.3333333333333333,\"#9c179e\"],[0.4444444444444444,\"#bd3786\"],[0.5555555555555556,\"#d8576b\"],[0.6666666666666666,\"#ed7953\"],[0.7777777777777778,\"#fb9f3a\"],[0.8888888888888888,\"#fdca26\"],[1.0,\"#f0f921\"]]}],\"heatmapgl\":[{\"type\":\"heatmapgl\",\"colorbar\":{\"outlinewidth\":0,\"ticks\":\"\"},\"colorscale\":[[0.0,\"#0d0887\"],[0.1111111111111111,\"#46039f\"],[0.2222222222222222,\"#7201a8\"],[0.3333333333333333,\"#9c179e\"],[0.4444444444444444,\"#bd3786\"],[0.5555555555555556,\"#d8576b\"],[0.6666666666666666,\"#ed7953\"],[0.7777777777777778,\"#fb9f3a\"],[0.8888888888888888,\"#fdca26\"],[1.0,\"#f0f921\"]]}],\"contourcarpet\":[{\"type\":\"contourcarpet\",\"colorbar\":{\"outlinewidth\":0,\"ticks\":\"\"}}],\"contour\":[{\"type\":\"contour\",\"colorbar\":{\"outlinewidth\":0,\"ticks\":\"\"},\"colorscale\":[[0.0,\"#0d0887\"],[0.1111111111111111,\"#46039f\"],[0.2222222222222222,\"#7201a8\"],[0.3333333333333333,\"#9c179e\"],[0.4444444444444444,\"#bd3786\"],[0.5555555555555556,\"#d8576b\"],[0.6666666666666666,\"#ed7953\"],[0.7777777777777778,\"#fb9f3a\"],[0.8888888888888888,\"#fdca26\"],[1.0,\"#f0f921\"]]}],\"surface\":[{\"type\":\"surface\",\"colorbar\":{\"outlinewidth\":0,\"ticks\":\"\"},\"colorscale\":[[0.0,\"#0d0887\"],[0.1111111111111111,\"#46039f\"],[0.2222222222222222,\"#7201a8\"],[0.3333333333333333,\"#9c179e\"],[0.4444444444444444,\"#bd3786\"],[0.5555555555555556,\"#d8576b\"],[0.6666666666666666,\"#ed7953\"],[0.7777777777777778,\"#fb9f3a\"],[0.8888888888888888,\"#fdca26\"],[1.0,\"#f0f921\"]]}],\"mesh3d\":[{\"type\":\"mesh3d\",\"colorbar\":{\"outlinewidth\":0,\"ticks\":\"\"}}],\"scatter\":[{\"fillpattern\":{\"fillmode\":\"overlay\",\"size\":10,\"solidity\":0.2},\"type\":\"scatter\"}],\"parcoords\":[{\"type\":\"parcoords\",\"line\":{\"colorbar\":{\"outlinewidth\":0,\"ticks\":\"\"}}}],\"scatterpolargl\":[{\"type\":\"scatterpolargl\",\"marker\":{\"colorbar\":{\"outlinewidth\":0,\"ticks\":\"\"}}}],\"bar\":[{\"error_x\":{\"color\":\"#2a3f5f\"},\"error_y\":{\"color\":\"#2a3f5f\"},\"marker\":{\"line\":{\"color\":\"#E5ECF6\",\"width\":0.5},\"pattern\":{\"fillmode\":\"overlay\",\"size\":10,\"solidity\":0.2}},\"type\":\"bar\"}],\"scattergeo\":[{\"type\":\"scattergeo\",\"marker\":{\"colorbar\":{\"outlinewidth\":0,\"ticks\":\"\"}}}],\"scatterpolar\":[{\"type\":\"scatterpolar\",\"marker\":{\"colorbar\":{\"outlinewidth\":0,\"ticks\":\"\"}}}],\"histogram\":[{\"marker\":{\"pattern\":{\"fillmode\":\"overlay\",\"size\":10,\"solidity\":0.2}},\"type\":\"histogram\"}],\"scattergl\":[{\"type\":\"scattergl\",\"marker\":{\"colorbar\":{\"outlinewidth\":0,\"ticks\":\"\"}}}],\"scatter3d\":[{\"type\":\"scatter3d\",\"line\":{\"colorbar\":{\"outlinewidth\":0,\"ticks\":\"\"}},\"marker\":{\"colorbar\":{\"outlinewidth\":0,\"ticks\":\"\"}}}],\"scattermapbox\":[{\"type\":\"scattermapbox\",\"marker\":{\"colorbar\":{\"outlinewidth\":0,\"ticks\":\"\"}}}],\"scatterternary\":[{\"type\":\"scatterternary\",\"marker\":{\"colorbar\":{\"outlinewidth\":0,\"ticks\":\"\"}}}],\"scattercarpet\":[{\"type\":\"scattercarpet\",\"marker\":{\"colorbar\":{\"outlinewidth\":0,\"ticks\":\"\"}}}],\"carpet\":[{\"aaxis\":{\"endlinecolor\":\"#2a3f5f\",\"gridcolor\":\"white\",\"linecolor\":\"white\",\"minorgridcolor\":\"white\",\"startlinecolor\":\"#2a3f5f\"},\"baxis\":{\"endlinecolor\":\"#2a3f5f\",\"gridcolor\":\"white\",\"linecolor\":\"white\",\"minorgridcolor\":\"white\",\"startlinecolor\":\"#2a3f5f\"},\"type\":\"carpet\"}],\"table\":[{\"cells\":{\"fill\":{\"color\":\"#EBF0F8\"},\"line\":{\"color\":\"white\"}},\"header\":{\"fill\":{\"color\":\"#C8D4E3\"},\"line\":{\"color\":\"white\"}},\"type\":\"table\"}],\"barpolar\":[{\"marker\":{\"line\":{\"color\":\"#E5ECF6\",\"width\":0.5},\"pattern\":{\"fillmode\":\"overlay\",\"size\":10,\"solidity\":0.2}},\"type\":\"barpolar\"}],\"pie\":[{\"automargin\":true,\"type\":\"pie\"}]},\"layout\":{\"autotypenumbers\":\"strict\",\"colorway\":[\"#636efa\",\"#EF553B\",\"#00cc96\",\"#ab63fa\",\"#FFA15A\",\"#19d3f3\",\"#FF6692\",\"#B6E880\",\"#FF97FF\",\"#FECB52\"],\"font\":{\"color\":\"#2a3f5f\"},\"hovermode\":\"closest\",\"hoverlabel\":{\"align\":\"left\"},\"paper_bgcolor\":\"white\",\"plot_bgcolor\":\"#E5ECF6\",\"polar\":{\"bgcolor\":\"#E5ECF6\",\"angularaxis\":{\"gridcolor\":\"white\",\"linecolor\":\"white\",\"ticks\":\"\"},\"radialaxis\":{\"gridcolor\":\"white\",\"linecolor\":\"white\",\"ticks\":\"\"}},\"ternary\":{\"bgcolor\":\"#E5ECF6\",\"aaxis\":{\"gridcolor\":\"white\",\"linecolor\":\"white\",\"ticks\":\"\"},\"baxis\":{\"gridcolor\":\"white\",\"linecolor\":\"white\",\"ticks\":\"\"},\"caxis\":{\"gridcolor\":\"white\",\"linecolor\":\"white\",\"ticks\":\"\"}},\"coloraxis\":{\"colorbar\":{\"outlinewidth\":0,\"ticks\":\"\"}},\"colorscale\":{\"sequential\":[[0.0,\"#0d0887\"],[0.1111111111111111,\"#46039f\"],[0.2222222222222222,\"#7201a8\"],[0.3333333333333333,\"#9c179e\"],[0.4444444444444444,\"#bd3786\"],[0.5555555555555556,\"#d8576b\"],[0.6666666666666666,\"#ed7953\"],[0.7777777777777778,\"#fb9f3a\"],[0.8888888888888888,\"#fdca26\"],[1.0,\"#f0f921\"]],\"sequentialminus\":[[0.0,\"#0d0887\"],[0.1111111111111111,\"#46039f\"],[0.2222222222222222,\"#7201a8\"],[0.3333333333333333,\"#9c179e\"],[0.4444444444444444,\"#bd3786\"],[0.5555555555555556,\"#d8576b\"],[0.6666666666666666,\"#ed7953\"],[0.7777777777777778,\"#fb9f3a\"],[0.8888888888888888,\"#fdca26\"],[1.0,\"#f0f921\"]],\"diverging\":[[0,\"#8e0152\"],[0.1,\"#c51b7d\"],[0.2,\"#de77ae\"],[0.3,\"#f1b6da\"],[0.4,\"#fde0ef\"],[0.5,\"#f7f7f7\"],[0.6,\"#e6f5d0\"],[0.7,\"#b8e186\"],[0.8,\"#7fbc41\"],[0.9,\"#4d9221\"],[1,\"#276419\"]]},\"xaxis\":{\"gridcolor\":\"white\",\"linecolor\":\"white\",\"ticks\":\"\",\"title\":{\"standoff\":15},\"zerolinecolor\":\"white\",\"automargin\":true,\"zerolinewidth\":2},\"yaxis\":{\"gridcolor\":\"white\",\"linecolor\":\"white\",\"ticks\":\"\",\"title\":{\"standoff\":15},\"zerolinecolor\":\"white\",\"automargin\":true,\"zerolinewidth\":2},\"scene\":{\"xaxis\":{\"backgroundcolor\":\"#E5ECF6\",\"gridcolor\":\"white\",\"linecolor\":\"white\",\"showbackground\":true,\"ticks\":\"\",\"zerolinecolor\":\"white\",\"gridwidth\":2},\"yaxis\":{\"backgroundcolor\":\"#E5ECF6\",\"gridcolor\":\"white\",\"linecolor\":\"white\",\"showbackground\":true,\"ticks\":\"\",\"zerolinecolor\":\"white\",\"gridwidth\":2},\"zaxis\":{\"backgroundcolor\":\"#E5ECF6\",\"gridcolor\":\"white\",\"linecolor\":\"white\",\"showbackground\":true,\"ticks\":\"\",\"zerolinecolor\":\"white\",\"gridwidth\":2}},\"shapedefaults\":{\"line\":{\"color\":\"#2a3f5f\"}},\"annotationdefaults\":{\"arrowcolor\":\"#2a3f5f\",\"arrowhead\":0,\"arrowwidth\":1},\"geo\":{\"bgcolor\":\"white\",\"landcolor\":\"#E5ECF6\",\"subunitcolor\":\"white\",\"showland\":true,\"showlakes\":true,\"lakecolor\":\"white\"},\"title\":{\"x\":0.05},\"mapbox\":{\"style\":\"light\"}}},\"coloraxis\":{\"colorbar\":{\"title\":{\"text\":\"freq\"}},\"colorscale\":[[0.0,\"rgb(253, 253, 204)\"],[0.09090909090909091,\"rgb(206, 236, 179)\"],[0.18181818181818182,\"rgb(156, 219, 165)\"],[0.2727272727272727,\"rgb(111, 201, 163)\"],[0.36363636363636365,\"rgb(86, 177, 163)\"],[0.45454545454545453,\"rgb(76, 153, 160)\"],[0.5454545454545454,\"rgb(68, 130, 155)\"],[0.6363636363636364,\"rgb(62, 108, 150)\"],[0.7272727272727273,\"rgb(62, 82, 143)\"],[0.8181818181818182,\"rgb(64, 60, 115)\"],[0.9090909090909091,\"rgb(54, 43, 77)\"],[1.0,\"rgb(39, 26, 44)\"]]},\"legend\":{\"tracegroupgap\":0},\"margin\":{\"t\":60}},                        {\"responsive\": true}                    ).then(function(){\n",
       "                            \n",
       "var gd = document.getElementById('2db23084-a337-4c20-ac44-33c0da4809e4');\n",
       "var x = new MutationObserver(function (mutations, observer) {{\n",
       "        var display = window.getComputedStyle(gd).display;\n",
       "        if (!display || display === 'none') {{\n",
       "            console.log([gd, 'removed!']);\n",
       "            Plotly.purge(gd);\n",
       "            observer.disconnect();\n",
       "        }}\n",
       "}});\n",
       "\n",
       "// Listen for the removal of the full notebook cells\n",
       "var notebookContainer = gd.closest('#notebook-container');\n",
       "if (notebookContainer) {{\n",
       "    x.observe(notebookContainer, {childList: true});\n",
       "}}\n",
       "\n",
       "// Listen for the clearing of the current output cell\n",
       "var outputEl = gd.closest('.output');\n",
       "if (outputEl) {{\n",
       "    x.observe(outputEl, {childList: true});\n",
       "}}\n",
       "\n",
       "                        })                };                });            </script>        </div>"
      ]
     },
     "metadata": {},
     "output_type": "display_data"
    }
   ],
   "source": [
    "fig = px.treemap(skills_freq, \n",
    "                 path=['group', 'skill'], \n",
    "                 color_continuous_scale='deep',\n",
    "                 values='freq',color='freq')\n",
    "\n",
    "# fig.update_layout(width=1400, height=700)\n",
    "fig.show()\n",
    "\n",
    "# Saving the figure in reports folder with .html for better visual\n",
    "fig.write_html(os.path.join(FIG_DIR, 'treemap_skills_freq.html'))\n"
   ]
  },
  {
   "cell_type": "code",
   "execution_count": 65,
   "id": "8a1c6b3d",
   "metadata": {},
   "outputs": [
    {
     "data": {
      "application/vnd.plotly.v1+json": {
       "config": {
        "plotlyServerURL": "https://plot.ly"
       },
       "data": [
        {
         "branchvalues": "total",
         "customdata": [
          [
           15310
          ],
          [
           16620
          ],
          [
           536
          ],
          [
           9918
          ],
          [
           11404
          ],
          [
           29138
          ],
          [
           18141
          ],
          [
           14471
          ],
          [
           7242
          ],
          [
           5607
          ],
          [
           2833
          ],
          [
           4632
          ],
          [
           10564
          ],
          [
           22385
          ],
          [
           17329
          ],
          [
           22984
          ],
          [
           20057
          ],
          [
           437
          ],
          [
           1873
          ],
          [
           982
          ],
          [
           1552
          ],
          [
           3491
          ],
          [
           1106
          ],
          [
           466
          ],
          [
           4965
          ],
          [
           1731
          ],
          [
           1027
          ],
          [
           9495
          ],
          [
           9446
          ],
          [
           35644
          ],
          [
           1508
          ],
          [
           5137
          ],
          [
           12955
          ],
          [
           9331
          ],
          [
           1438
          ],
          [
           4327
          ],
          [
           651
          ],
          [
           15010
          ],
          [
           804
          ],
          [
           2447
          ],
          [
           11373
          ],
          [
           10174
          ],
          [
           929
          ],
          [
           6586
          ],
          [
           2501
          ],
          [
           68171
          ],
          [
           7879
          ],
          [
           16687
          ],
          [
           2479
          ],
          [
           46259
          ],
          [
           2155
          ],
          [
           1749
          ],
          [
           12897
          ],
          [
           1373
          ],
          [
           1438
          ],
          [
           10310
          ],
          [
           23467
          ],
          [
           29162
          ],
          [
           53587
          ],
          [
           1068
          ],
          [
           4930
          ],
          [
           6866
          ],
          [
           12115
          ],
          [
           1096
          ],
          [
           6377
          ],
          [
           12088
          ],
          [
           3846
          ],
          [
           16540
          ],
          [
           18896
          ],
          [
           19479
          ],
          [
           35289
          ],
          [
           4071
          ],
          [
           5839
          ],
          [
           27975
          ],
          [
           24262
          ],
          [
           16445
          ],
          [
           2310
          ],
          [
           8868
          ],
          [
           1014
          ],
          [
           18130
          ],
          [
           6096
          ],
          [
           13664
          ],
          [
           2028
          ],
          [
           28424
          ],
          [
           8871
          ],
          [
           368
          ],
          [
           1313
          ],
          [
           15755
          ],
          [
           39792
          ],
          [
           4812
          ],
          [
           4185
          ],
          [
           3200
          ],
          [
           7051
          ],
          [
           25296
          ],
          [
           14552
          ],
          [
           3255
          ],
          [
           5569
          ],
          [
           4438
          ],
          [
           1219
          ],
          [
           5799
          ],
          [
           38835
          ],
          [
           22634
          ],
          [
           2148
          ],
          [
           9177
          ],
          [
           16714
          ],
          [
           1735
          ],
          [
           4204
          ],
          [
           2427
          ],
          [
           8034
          ],
          [
           5442
          ],
          [
           678
          ],
          [
           4808
          ],
          [
           24909
          ],
          [
           7206
          ],
          [
           2339
          ],
          [
           3847
          ],
          [
           19752
          ],
          [
           26970
          ],
          [
           58026
          ],
          [
           11954
          ],
          [
           6564
          ],
          [
           2844
          ],
          [
           9040
          ],
          [
           12937
          ],
          [
           21693
          ],
          [
           20936.479200789552
          ],
          [
           28957.47648228489
          ],
          [
           11437.568995399994
          ],
          [
           25321.11167653491
          ],
          [
           19054.112411640504
          ],
          [
           40549.566439805254
          ],
          [
           13931.995048379958
          ]
         ],
         "domain": {
          "x": [
           0,
           1
          ],
          "y": [
           0,
           1
          ]
         },
         "hovertemplate": "labels=%{label}<br>freq_sum=%{value}<br>parent=%{parent}<br>id=%{id}<br>freq=%{color}<extra></extra>",
         "ids": [
          "MiscTechHaveWorkedWith/.NET Core / .NET 5",
          "MiscTechHaveWorkedWith/.NET Framework",
          "LanguageHaveWorkedWith/APL",
          "WebframeHaveWorkedWith/ASP.NET",
          "WebframeHaveWorkedWith/ASP.NET Core ",
          "PlatformHaveWorkedWith/AWS",
          "NEWCollabToolsHaveWorkedWith/Android Studio",
          "WebframeHaveWorkedWith/Angular",
          "WebframeHaveWorkedWith/Angular.js",
          "ToolsTechHaveWorkedWith/Ansible",
          "MiscTechHaveWorkedWith/Apache Spark",
          "LanguageHaveWorkedWith/Assembly",
          "NEWCollabToolsHaveWorkedWith/Atom",
          "LanguageHaveWorkedWith/Bash/Shell",
          "LanguageHaveWorkedWith/C",
          "LanguageHaveWorkedWith/C#",
          "LanguageHaveWorkedWith/C++",
          "LanguageHaveWorkedWith/COBOL",
          "DatabaseHaveWorkedWith/Cassandra",
          "ToolsTechHaveWorkedWith/Chef",
          "LanguageHaveWorkedWith/Clojure",
          "MiscTechHaveWorkedWith/Cordova",
          "DatabaseHaveWorkedWith/Couchbase",
          "LanguageHaveWorkedWith/Crystal",
          "LanguageHaveWorkedWith/Dart",
          "LanguageHaveWorkedWith/Delphi",
          "ToolsTechHaveWorkedWith/Deno",
          "PlatformHaveWorkedWith/DigitalOcean",
          "WebframeHaveWorkedWith/Django",
          "ToolsTechHaveWorkedWith/Docker",
          "WebframeHaveWorkedWith/Drupal",
          "DatabaseHaveWorkedWith/DynamoDB",
          "NEWCollabToolsHaveWorkedWith/Eclipse",
          "DatabaseHaveWorkedWith/Elasticsearch",
          "LanguageHaveWorkedWith/Elixir",
          "NEWCollabToolsHaveWorkedWith/Emacs",
          "LanguageHaveWorkedWith/Erlang",
          "WebframeHaveWorkedWith/Express",
          "LanguageHaveWorkedWith/F#",
          "WebframeHaveWorkedWith/FastAPI",
          "DatabaseHaveWorkedWith/Firebase",
          "WebframeHaveWorkedWith/Flask",
          "ToolsTechHaveWorkedWith/Flow",
          "MiscTechHaveWorkedWith/Flutter",
          "WebframeHaveWorkedWith/Gatsby",
          "ToolsTechHaveWorkedWith/Git",
          "LanguageHaveWorkedWith/Go",
          "PlatformHaveWorkedWith/Google Cloud Platform",
          "LanguageHaveWorkedWith/Groovy",
          "LanguageHaveWorkedWith/HTML/CSS",
          "MiscTechHaveWorkedWith/Hadoop",
          "LanguageHaveWorkedWith/Haskell",
          "PlatformHaveWorkedWith/Heroku",
          "PlatformHaveWorkedWith/IBM Cloud or Watson",
          "DatabaseHaveWorkedWith/IBM DB2",
          "NEWCollabToolsHaveWorkedWith/IPython/Jupyter",
          "NEWCollabToolsHaveWorkedWith/IntelliJ",
          "LanguageHaveWorkedWith/Java",
          "LanguageHaveWorkedWith/JavaScript",
          "LanguageHaveWorkedWith/Julia",
          "MiscTechHaveWorkedWith/Keras",
          "LanguageHaveWorkedWith/Kotlin",
          "ToolsTechHaveWorkedWith/Kubernetes",
          "LanguageHaveWorkedWith/LISP",
          "WebframeHaveWorkedWith/Laravel",
          "DatabaseHaveWorkedWith/MariaDB",
          "LanguageHaveWorkedWith/Matlab",
          "PlatformHaveWorkedWith/Microsoft Azure",
          "DatabaseHaveWorkedWith/Microsoft SQL Server",
          "DatabaseHaveWorkedWith/MongoDB",
          "DatabaseHaveWorkedWith/MySQL",
          "NEWCollabToolsHaveWorkedWith/Neovim",
          "NEWCollabToolsHaveWorkedWith/NetBeans",
          "LanguageHaveWorkedWith/Node.js",
          "NEWCollabToolsHaveWorkedWith/Notepad++",
          "MiscTechHaveWorkedWith/NumPy",
          "LanguageHaveWorkedWith/Objective-C",
          "DatabaseHaveWorkedWith/Oracle",
          "PlatformHaveWorkedWith/Oracle Cloud Infrastructure",
          "LanguageHaveWorkedWith/PHP",
          "NEWCollabToolsHaveWorkedWith/PHPStorm",
          "MiscTechHaveWorkedWith/Pandas",
          "LanguageHaveWorkedWith/Perl",
          "DatabaseHaveWorkedWith/PostgreSQL",
          "LanguageHaveWorkedWith/PowerShell",
          "ToolsTechHaveWorkedWith/Pulumi",
          "ToolsTechHaveWorkedWith/Puppet",
          "NEWCollabToolsHaveWorkedWith/PyCharm",
          "LanguageHaveWorkedWith/Python",
          "MiscTechHaveWorkedWith/Qt",
          "LanguageHaveWorkedWith/R",
          "NEWCollabToolsHaveWorkedWith/RStudio",
          "MiscTechHaveWorkedWith/React Native",
          "WebframeHaveWorkedWith/React.js",
          "DatabaseHaveWorkedWith/Redis",
          "NEWCollabToolsHaveWorkedWith/Rider",
          "LanguageHaveWorkedWith/Ruby",
          "WebframeHaveWorkedWith/Ruby on Rails",
          "NEWCollabToolsHaveWorkedWith/RubyMine",
          "LanguageHaveWorkedWith/Rust",
          "LanguageHaveWorkedWith/SQL",
          "DatabaseHaveWorkedWith/SQLite",
          "LanguageHaveWorkedWith/Scala",
          "WebframeHaveWorkedWith/Spring",
          "NEWCollabToolsHaveWorkedWith/Sublime Text",
          "WebframeHaveWorkedWith/Svelte",
          "LanguageHaveWorkedWith/Swift",
          "WebframeHaveWorkedWith/Symfony",
          "MiscTechHaveWorkedWith/TensorFlow",
          "ToolsTechHaveWorkedWith/Terraform",
          "NEWCollabToolsHaveWorkedWith/TextMate",
          "MiscTechHaveWorkedWith/Torch/PyTorch",
          "LanguageHaveWorkedWith/TypeScript",
          "ToolsTechHaveWorkedWith/Unity 3D",
          "ToolsTechHaveWorkedWith/Unreal Engine",
          "LanguageHaveWorkedWith/VBA",
          "NEWCollabToolsHaveWorkedWith/Vim",
          "NEWCollabToolsHaveWorkedWith/Visual Studio",
          "NEWCollabToolsHaveWorkedWith/Visual Studio Code",
          "WebframeHaveWorkedWith/Vue.js",
          "NEWCollabToolsHaveWorkedWith/Webstorm",
          "ToolsTechHaveWorkedWith/Xamarin",
          "NEWCollabToolsHaveWorkedWith/Xcode",
          "ToolsTechHaveWorkedWith/Yarn",
          "WebframeHaveWorkedWith/jQuery",
          "DatabaseHaveWorkedWith",
          "LanguageHaveWorkedWith",
          "MiscTechHaveWorkedWith",
          "NEWCollabToolsHaveWorkedWith",
          "PlatformHaveWorkedWith",
          "ToolsTechHaveWorkedWith",
          "WebframeHaveWorkedWith"
         ],
         "labels": [
          ".NET Core / .NET 5",
          ".NET Framework",
          "APL",
          "ASP.NET",
          "ASP.NET Core ",
          "AWS",
          "Android Studio",
          "Angular",
          "Angular.js",
          "Ansible",
          "Apache Spark",
          "Assembly",
          "Atom",
          "Bash/Shell",
          "C",
          "C#",
          "C++",
          "COBOL",
          "Cassandra",
          "Chef",
          "Clojure",
          "Cordova",
          "Couchbase",
          "Crystal",
          "Dart",
          "Delphi",
          "Deno",
          "DigitalOcean",
          "Django",
          "Docker",
          "Drupal",
          "DynamoDB",
          "Eclipse",
          "Elasticsearch",
          "Elixir",
          "Emacs",
          "Erlang",
          "Express",
          "F#",
          "FastAPI",
          "Firebase",
          "Flask",
          "Flow",
          "Flutter",
          "Gatsby",
          "Git",
          "Go",
          "Google Cloud Platform",
          "Groovy",
          "HTML/CSS",
          "Hadoop",
          "Haskell",
          "Heroku",
          "IBM Cloud or Watson",
          "IBM DB2",
          "IPython/Jupyter",
          "IntelliJ",
          "Java",
          "JavaScript",
          "Julia",
          "Keras",
          "Kotlin",
          "Kubernetes",
          "LISP",
          "Laravel",
          "MariaDB",
          "Matlab",
          "Microsoft Azure",
          "Microsoft SQL Server",
          "MongoDB",
          "MySQL",
          "Neovim",
          "NetBeans",
          "Node.js",
          "Notepad++",
          "NumPy",
          "Objective-C",
          "Oracle",
          "Oracle Cloud Infrastructure",
          "PHP",
          "PHPStorm",
          "Pandas",
          "Perl",
          "PostgreSQL",
          "PowerShell",
          "Pulumi",
          "Puppet",
          "PyCharm",
          "Python",
          "Qt",
          "R",
          "RStudio",
          "React Native",
          "React.js",
          "Redis",
          "Rider",
          "Ruby",
          "Ruby on Rails",
          "RubyMine",
          "Rust",
          "SQL",
          "SQLite",
          "Scala",
          "Spring",
          "Sublime Text",
          "Svelte",
          "Swift",
          "Symfony",
          "TensorFlow",
          "Terraform",
          "TextMate",
          "Torch/PyTorch",
          "TypeScript",
          "Unity 3D",
          "Unreal Engine",
          "VBA",
          "Vim",
          "Visual Studio",
          "Visual Studio Code",
          "Vue.js",
          "Webstorm",
          "Xamarin",
          "Xcode",
          "Yarn",
          "jQuery",
          "DatabaseHaveWorkedWith",
          "LanguageHaveWorkedWith",
          "MiscTechHaveWorkedWith",
          "NEWCollabToolsHaveWorkedWith",
          "PlatformHaveWorkedWith",
          "ToolsTechHaveWorkedWith",
          "WebframeHaveWorkedWith"
         ],
         "marker": {
          "coloraxis": "coloraxis",
          "colors": [
           15310,
           16620,
           536,
           9918,
           11404,
           29138,
           18141,
           14471,
           7242,
           5607,
           2833,
           4632,
           10564,
           22385,
           17329,
           22984,
           20057,
           437,
           1873,
           982,
           1552,
           3491,
           1106,
           466,
           4965,
           1731,
           1027,
           9495,
           9446,
           35644,
           1508,
           5137,
           12955,
           9331,
           1438,
           4327,
           651,
           15010,
           804,
           2447,
           11373,
           10174,
           929,
           6586,
           2501,
           68171,
           7879,
           16687,
           2479,
           46259,
           2155,
           1749,
           12897,
           1373,
           1438,
           10310,
           23467,
           29162,
           53587,
           1068,
           4930,
           6866,
           12115,
           1096,
           6377,
           12088,
           3846,
           16540,
           18896,
           19479,
           35289,
           4071,
           5839,
           27975,
           24262,
           16445,
           2310,
           8868,
           1014,
           18130,
           6096,
           13664,
           2028,
           28424,
           8871,
           368,
           1313,
           15755,
           39792,
           4812,
           4185,
           3200,
           7051,
           25296,
           14552,
           3255,
           5569,
           4438,
           1219,
           5799,
           38835,
           22634,
           2148,
           9177,
           16714,
           1735,
           4204,
           2427,
           8034,
           5442,
           678,
           4808,
           24909,
           7206,
           2339,
           3847,
           19752,
           26970,
           58026,
           11954,
           6564,
           2844,
           9040,
           12937,
           21693,
           20936.479200789552,
           28957.47648228489,
           11437.568995399994,
           25321.11167653491,
           19054.112411640504,
           40549.566439805254,
           13931.995048379958
          ]
         },
         "name": "",
         "parents": [
          "MiscTechHaveWorkedWith",
          "MiscTechHaveWorkedWith",
          "LanguageHaveWorkedWith",
          "WebframeHaveWorkedWith",
          "WebframeHaveWorkedWith",
          "PlatformHaveWorkedWith",
          "NEWCollabToolsHaveWorkedWith",
          "WebframeHaveWorkedWith",
          "WebframeHaveWorkedWith",
          "ToolsTechHaveWorkedWith",
          "MiscTechHaveWorkedWith",
          "LanguageHaveWorkedWith",
          "NEWCollabToolsHaveWorkedWith",
          "LanguageHaveWorkedWith",
          "LanguageHaveWorkedWith",
          "LanguageHaveWorkedWith",
          "LanguageHaveWorkedWith",
          "LanguageHaveWorkedWith",
          "DatabaseHaveWorkedWith",
          "ToolsTechHaveWorkedWith",
          "LanguageHaveWorkedWith",
          "MiscTechHaveWorkedWith",
          "DatabaseHaveWorkedWith",
          "LanguageHaveWorkedWith",
          "LanguageHaveWorkedWith",
          "LanguageHaveWorkedWith",
          "ToolsTechHaveWorkedWith",
          "PlatformHaveWorkedWith",
          "WebframeHaveWorkedWith",
          "ToolsTechHaveWorkedWith",
          "WebframeHaveWorkedWith",
          "DatabaseHaveWorkedWith",
          "NEWCollabToolsHaveWorkedWith",
          "DatabaseHaveWorkedWith",
          "LanguageHaveWorkedWith",
          "NEWCollabToolsHaveWorkedWith",
          "LanguageHaveWorkedWith",
          "WebframeHaveWorkedWith",
          "LanguageHaveWorkedWith",
          "WebframeHaveWorkedWith",
          "DatabaseHaveWorkedWith",
          "WebframeHaveWorkedWith",
          "ToolsTechHaveWorkedWith",
          "MiscTechHaveWorkedWith",
          "WebframeHaveWorkedWith",
          "ToolsTechHaveWorkedWith",
          "LanguageHaveWorkedWith",
          "PlatformHaveWorkedWith",
          "LanguageHaveWorkedWith",
          "LanguageHaveWorkedWith",
          "MiscTechHaveWorkedWith",
          "LanguageHaveWorkedWith",
          "PlatformHaveWorkedWith",
          "PlatformHaveWorkedWith",
          "DatabaseHaveWorkedWith",
          "NEWCollabToolsHaveWorkedWith",
          "NEWCollabToolsHaveWorkedWith",
          "LanguageHaveWorkedWith",
          "LanguageHaveWorkedWith",
          "LanguageHaveWorkedWith",
          "MiscTechHaveWorkedWith",
          "LanguageHaveWorkedWith",
          "ToolsTechHaveWorkedWith",
          "LanguageHaveWorkedWith",
          "WebframeHaveWorkedWith",
          "DatabaseHaveWorkedWith",
          "LanguageHaveWorkedWith",
          "PlatformHaveWorkedWith",
          "DatabaseHaveWorkedWith",
          "DatabaseHaveWorkedWith",
          "DatabaseHaveWorkedWith",
          "NEWCollabToolsHaveWorkedWith",
          "NEWCollabToolsHaveWorkedWith",
          "LanguageHaveWorkedWith",
          "NEWCollabToolsHaveWorkedWith",
          "MiscTechHaveWorkedWith",
          "LanguageHaveWorkedWith",
          "DatabaseHaveWorkedWith",
          "PlatformHaveWorkedWith",
          "LanguageHaveWorkedWith",
          "NEWCollabToolsHaveWorkedWith",
          "MiscTechHaveWorkedWith",
          "LanguageHaveWorkedWith",
          "DatabaseHaveWorkedWith",
          "LanguageHaveWorkedWith",
          "ToolsTechHaveWorkedWith",
          "ToolsTechHaveWorkedWith",
          "NEWCollabToolsHaveWorkedWith",
          "LanguageHaveWorkedWith",
          "MiscTechHaveWorkedWith",
          "LanguageHaveWorkedWith",
          "NEWCollabToolsHaveWorkedWith",
          "MiscTechHaveWorkedWith",
          "WebframeHaveWorkedWith",
          "DatabaseHaveWorkedWith",
          "NEWCollabToolsHaveWorkedWith",
          "LanguageHaveWorkedWith",
          "WebframeHaveWorkedWith",
          "NEWCollabToolsHaveWorkedWith",
          "LanguageHaveWorkedWith",
          "LanguageHaveWorkedWith",
          "DatabaseHaveWorkedWith",
          "LanguageHaveWorkedWith",
          "WebframeHaveWorkedWith",
          "NEWCollabToolsHaveWorkedWith",
          "WebframeHaveWorkedWith",
          "LanguageHaveWorkedWith",
          "WebframeHaveWorkedWith",
          "MiscTechHaveWorkedWith",
          "ToolsTechHaveWorkedWith",
          "NEWCollabToolsHaveWorkedWith",
          "MiscTechHaveWorkedWith",
          "LanguageHaveWorkedWith",
          "ToolsTechHaveWorkedWith",
          "ToolsTechHaveWorkedWith",
          "LanguageHaveWorkedWith",
          "NEWCollabToolsHaveWorkedWith",
          "NEWCollabToolsHaveWorkedWith",
          "NEWCollabToolsHaveWorkedWith",
          "WebframeHaveWorkedWith",
          "NEWCollabToolsHaveWorkedWith",
          "ToolsTechHaveWorkedWith",
          "NEWCollabToolsHaveWorkedWith",
          "ToolsTechHaveWorkedWith",
          "WebframeHaveWorkedWith",
          "",
          "",
          "",
          "",
          "",
          "",
          ""
         ],
         "type": "treemap",
         "values": [
          15310,
          16620,
          536,
          9918,
          11404,
          29138,
          18141,
          14471,
          7242,
          5607,
          2833,
          4632,
          10564,
          22385,
          17329,
          22984,
          20057,
          437,
          1873,
          982,
          1552,
          3491,
          1106,
          466,
          4965,
          1731,
          1027,
          9495,
          9446,
          35644,
          1508,
          5137,
          12955,
          9331,
          1438,
          4327,
          651,
          15010,
          804,
          2447,
          11373,
          10174,
          929,
          6586,
          2501,
          68171,
          7879,
          16687,
          2479,
          46259,
          2155,
          1749,
          12897,
          1373,
          1438,
          10310,
          23467,
          29162,
          53587,
          1068,
          4930,
          6866,
          12115,
          1096,
          6377,
          12088,
          3846,
          16540,
          18896,
          19479,
          35289,
          4071,
          5839,
          27975,
          24262,
          16445,
          2310,
          8868,
          1014,
          18130,
          6096,
          13664,
          2028,
          28424,
          8871,
          368,
          1313,
          15755,
          39792,
          4812,
          4185,
          3200,
          7051,
          25296,
          14552,
          3255,
          5569,
          4438,
          1219,
          5799,
          38835,
          22634,
          2148,
          9177,
          16714,
          1735,
          4204,
          2427,
          8034,
          5442,
          678,
          4808,
          24909,
          7206,
          2339,
          3847,
          19752,
          26970,
          58026,
          11954,
          6564,
          2844,
          9040,
          12937,
          21693,
          190488,
          442560,
          106739,
          281205,
          87144,
          156924,
          167218
         ]
        }
       ],
       "layout": {
        "coloraxis": {
         "colorbar": {
          "title": {
           "text": "freq"
          }
         },
         "colorscale": [
          [
           0,
           "rgb(253, 253, 204)"
          ],
          [
           0.09090909090909091,
           "rgb(206, 236, 179)"
          ],
          [
           0.18181818181818182,
           "rgb(156, 219, 165)"
          ],
          [
           0.2727272727272727,
           "rgb(111, 201, 163)"
          ],
          [
           0.36363636363636365,
           "rgb(86, 177, 163)"
          ],
          [
           0.45454545454545453,
           "rgb(76, 153, 160)"
          ],
          [
           0.5454545454545454,
           "rgb(68, 130, 155)"
          ],
          [
           0.6363636363636364,
           "rgb(62, 108, 150)"
          ],
          [
           0.7272727272727273,
           "rgb(62, 82, 143)"
          ],
          [
           0.8181818181818182,
           "rgb(64, 60, 115)"
          ],
          [
           0.9090909090909091,
           "rgb(54, 43, 77)"
          ],
          [
           1,
           "rgb(39, 26, 44)"
          ]
         ]
        },
        "legend": {
         "tracegroupgap": 0
        },
        "margin": {
         "t": 60
        },
        "template": {
         "data": {
          "bar": [
           {
            "error_x": {
             "color": "#2a3f5f"
            },
            "error_y": {
             "color": "#2a3f5f"
            },
            "marker": {
             "line": {
              "color": "#E5ECF6",
              "width": 0.5
             },
             "pattern": {
              "fillmode": "overlay",
              "size": 10,
              "solidity": 0.2
             }
            },
            "type": "bar"
           }
          ],
          "barpolar": [
           {
            "marker": {
             "line": {
              "color": "#E5ECF6",
              "width": 0.5
             },
             "pattern": {
              "fillmode": "overlay",
              "size": 10,
              "solidity": 0.2
             }
            },
            "type": "barpolar"
           }
          ],
          "carpet": [
           {
            "aaxis": {
             "endlinecolor": "#2a3f5f",
             "gridcolor": "white",
             "linecolor": "white",
             "minorgridcolor": "white",
             "startlinecolor": "#2a3f5f"
            },
            "baxis": {
             "endlinecolor": "#2a3f5f",
             "gridcolor": "white",
             "linecolor": "white",
             "minorgridcolor": "white",
             "startlinecolor": "#2a3f5f"
            },
            "type": "carpet"
           }
          ],
          "choropleth": [
           {
            "colorbar": {
             "outlinewidth": 0,
             "ticks": ""
            },
            "type": "choropleth"
           }
          ],
          "contour": [
           {
            "colorbar": {
             "outlinewidth": 0,
             "ticks": ""
            },
            "colorscale": [
             [
              0,
              "#0d0887"
             ],
             [
              0.1111111111111111,
              "#46039f"
             ],
             [
              0.2222222222222222,
              "#7201a8"
             ],
             [
              0.3333333333333333,
              "#9c179e"
             ],
             [
              0.4444444444444444,
              "#bd3786"
             ],
             [
              0.5555555555555556,
              "#d8576b"
             ],
             [
              0.6666666666666666,
              "#ed7953"
             ],
             [
              0.7777777777777778,
              "#fb9f3a"
             ],
             [
              0.8888888888888888,
              "#fdca26"
             ],
             [
              1,
              "#f0f921"
             ]
            ],
            "type": "contour"
           }
          ],
          "contourcarpet": [
           {
            "colorbar": {
             "outlinewidth": 0,
             "ticks": ""
            },
            "type": "contourcarpet"
           }
          ],
          "heatmap": [
           {
            "colorbar": {
             "outlinewidth": 0,
             "ticks": ""
            },
            "colorscale": [
             [
              0,
              "#0d0887"
             ],
             [
              0.1111111111111111,
              "#46039f"
             ],
             [
              0.2222222222222222,
              "#7201a8"
             ],
             [
              0.3333333333333333,
              "#9c179e"
             ],
             [
              0.4444444444444444,
              "#bd3786"
             ],
             [
              0.5555555555555556,
              "#d8576b"
             ],
             [
              0.6666666666666666,
              "#ed7953"
             ],
             [
              0.7777777777777778,
              "#fb9f3a"
             ],
             [
              0.8888888888888888,
              "#fdca26"
             ],
             [
              1,
              "#f0f921"
             ]
            ],
            "type": "heatmap"
           }
          ],
          "heatmapgl": [
           {
            "colorbar": {
             "outlinewidth": 0,
             "ticks": ""
            },
            "colorscale": [
             [
              0,
              "#0d0887"
             ],
             [
              0.1111111111111111,
              "#46039f"
             ],
             [
              0.2222222222222222,
              "#7201a8"
             ],
             [
              0.3333333333333333,
              "#9c179e"
             ],
             [
              0.4444444444444444,
              "#bd3786"
             ],
             [
              0.5555555555555556,
              "#d8576b"
             ],
             [
              0.6666666666666666,
              "#ed7953"
             ],
             [
              0.7777777777777778,
              "#fb9f3a"
             ],
             [
              0.8888888888888888,
              "#fdca26"
             ],
             [
              1,
              "#f0f921"
             ]
            ],
            "type": "heatmapgl"
           }
          ],
          "histogram": [
           {
            "marker": {
             "pattern": {
              "fillmode": "overlay",
              "size": 10,
              "solidity": 0.2
             }
            },
            "type": "histogram"
           }
          ],
          "histogram2d": [
           {
            "colorbar": {
             "outlinewidth": 0,
             "ticks": ""
            },
            "colorscale": [
             [
              0,
              "#0d0887"
             ],
             [
              0.1111111111111111,
              "#46039f"
             ],
             [
              0.2222222222222222,
              "#7201a8"
             ],
             [
              0.3333333333333333,
              "#9c179e"
             ],
             [
              0.4444444444444444,
              "#bd3786"
             ],
             [
              0.5555555555555556,
              "#d8576b"
             ],
             [
              0.6666666666666666,
              "#ed7953"
             ],
             [
              0.7777777777777778,
              "#fb9f3a"
             ],
             [
              0.8888888888888888,
              "#fdca26"
             ],
             [
              1,
              "#f0f921"
             ]
            ],
            "type": "histogram2d"
           }
          ],
          "histogram2dcontour": [
           {
            "colorbar": {
             "outlinewidth": 0,
             "ticks": ""
            },
            "colorscale": [
             [
              0,
              "#0d0887"
             ],
             [
              0.1111111111111111,
              "#46039f"
             ],
             [
              0.2222222222222222,
              "#7201a8"
             ],
             [
              0.3333333333333333,
              "#9c179e"
             ],
             [
              0.4444444444444444,
              "#bd3786"
             ],
             [
              0.5555555555555556,
              "#d8576b"
             ],
             [
              0.6666666666666666,
              "#ed7953"
             ],
             [
              0.7777777777777778,
              "#fb9f3a"
             ],
             [
              0.8888888888888888,
              "#fdca26"
             ],
             [
              1,
              "#f0f921"
             ]
            ],
            "type": "histogram2dcontour"
           }
          ],
          "mesh3d": [
           {
            "colorbar": {
             "outlinewidth": 0,
             "ticks": ""
            },
            "type": "mesh3d"
           }
          ],
          "parcoords": [
           {
            "line": {
             "colorbar": {
              "outlinewidth": 0,
              "ticks": ""
             }
            },
            "type": "parcoords"
           }
          ],
          "pie": [
           {
            "automargin": true,
            "type": "pie"
           }
          ],
          "scatter": [
           {
            "fillpattern": {
             "fillmode": "overlay",
             "size": 10,
             "solidity": 0.2
            },
            "type": "scatter"
           }
          ],
          "scatter3d": [
           {
            "line": {
             "colorbar": {
              "outlinewidth": 0,
              "ticks": ""
             }
            },
            "marker": {
             "colorbar": {
              "outlinewidth": 0,
              "ticks": ""
             }
            },
            "type": "scatter3d"
           }
          ],
          "scattercarpet": [
           {
            "marker": {
             "colorbar": {
              "outlinewidth": 0,
              "ticks": ""
             }
            },
            "type": "scattercarpet"
           }
          ],
          "scattergeo": [
           {
            "marker": {
             "colorbar": {
              "outlinewidth": 0,
              "ticks": ""
             }
            },
            "type": "scattergeo"
           }
          ],
          "scattergl": [
           {
            "marker": {
             "colorbar": {
              "outlinewidth": 0,
              "ticks": ""
             }
            },
            "type": "scattergl"
           }
          ],
          "scattermapbox": [
           {
            "marker": {
             "colorbar": {
              "outlinewidth": 0,
              "ticks": ""
             }
            },
            "type": "scattermapbox"
           }
          ],
          "scatterpolar": [
           {
            "marker": {
             "colorbar": {
              "outlinewidth": 0,
              "ticks": ""
             }
            },
            "type": "scatterpolar"
           }
          ],
          "scatterpolargl": [
           {
            "marker": {
             "colorbar": {
              "outlinewidth": 0,
              "ticks": ""
             }
            },
            "type": "scatterpolargl"
           }
          ],
          "scatterternary": [
           {
            "marker": {
             "colorbar": {
              "outlinewidth": 0,
              "ticks": ""
             }
            },
            "type": "scatterternary"
           }
          ],
          "surface": [
           {
            "colorbar": {
             "outlinewidth": 0,
             "ticks": ""
            },
            "colorscale": [
             [
              0,
              "#0d0887"
             ],
             [
              0.1111111111111111,
              "#46039f"
             ],
             [
              0.2222222222222222,
              "#7201a8"
             ],
             [
              0.3333333333333333,
              "#9c179e"
             ],
             [
              0.4444444444444444,
              "#bd3786"
             ],
             [
              0.5555555555555556,
              "#d8576b"
             ],
             [
              0.6666666666666666,
              "#ed7953"
             ],
             [
              0.7777777777777778,
              "#fb9f3a"
             ],
             [
              0.8888888888888888,
              "#fdca26"
             ],
             [
              1,
              "#f0f921"
             ]
            ],
            "type": "surface"
           }
          ],
          "table": [
           {
            "cells": {
             "fill": {
              "color": "#EBF0F8"
             },
             "line": {
              "color": "white"
             }
            },
            "header": {
             "fill": {
              "color": "#C8D4E3"
             },
             "line": {
              "color": "white"
             }
            },
            "type": "table"
           }
          ]
         },
         "layout": {
          "annotationdefaults": {
           "arrowcolor": "#2a3f5f",
           "arrowhead": 0,
           "arrowwidth": 1
          },
          "autotypenumbers": "strict",
          "coloraxis": {
           "colorbar": {
            "outlinewidth": 0,
            "ticks": ""
           }
          },
          "colorscale": {
           "diverging": [
            [
             0,
             "#8e0152"
            ],
            [
             0.1,
             "#c51b7d"
            ],
            [
             0.2,
             "#de77ae"
            ],
            [
             0.3,
             "#f1b6da"
            ],
            [
             0.4,
             "#fde0ef"
            ],
            [
             0.5,
             "#f7f7f7"
            ],
            [
             0.6,
             "#e6f5d0"
            ],
            [
             0.7,
             "#b8e186"
            ],
            [
             0.8,
             "#7fbc41"
            ],
            [
             0.9,
             "#4d9221"
            ],
            [
             1,
             "#276419"
            ]
           ],
           "sequential": [
            [
             0,
             "#0d0887"
            ],
            [
             0.1111111111111111,
             "#46039f"
            ],
            [
             0.2222222222222222,
             "#7201a8"
            ],
            [
             0.3333333333333333,
             "#9c179e"
            ],
            [
             0.4444444444444444,
             "#bd3786"
            ],
            [
             0.5555555555555556,
             "#d8576b"
            ],
            [
             0.6666666666666666,
             "#ed7953"
            ],
            [
             0.7777777777777778,
             "#fb9f3a"
            ],
            [
             0.8888888888888888,
             "#fdca26"
            ],
            [
             1,
             "#f0f921"
            ]
           ],
           "sequentialminus": [
            [
             0,
             "#0d0887"
            ],
            [
             0.1111111111111111,
             "#46039f"
            ],
            [
             0.2222222222222222,
             "#7201a8"
            ],
            [
             0.3333333333333333,
             "#9c179e"
            ],
            [
             0.4444444444444444,
             "#bd3786"
            ],
            [
             0.5555555555555556,
             "#d8576b"
            ],
            [
             0.6666666666666666,
             "#ed7953"
            ],
            [
             0.7777777777777778,
             "#fb9f3a"
            ],
            [
             0.8888888888888888,
             "#fdca26"
            ],
            [
             1,
             "#f0f921"
            ]
           ]
          },
          "colorway": [
           "#636efa",
           "#EF553B",
           "#00cc96",
           "#ab63fa",
           "#FFA15A",
           "#19d3f3",
           "#FF6692",
           "#B6E880",
           "#FF97FF",
           "#FECB52"
          ],
          "font": {
           "color": "#2a3f5f"
          },
          "geo": {
           "bgcolor": "white",
           "lakecolor": "white",
           "landcolor": "#E5ECF6",
           "showlakes": true,
           "showland": true,
           "subunitcolor": "white"
          },
          "hoverlabel": {
           "align": "left"
          },
          "hovermode": "closest",
          "mapbox": {
           "style": "light"
          },
          "paper_bgcolor": "white",
          "plot_bgcolor": "#E5ECF6",
          "polar": {
           "angularaxis": {
            "gridcolor": "white",
            "linecolor": "white",
            "ticks": ""
           },
           "bgcolor": "#E5ECF6",
           "radialaxis": {
            "gridcolor": "white",
            "linecolor": "white",
            "ticks": ""
           }
          },
          "scene": {
           "xaxis": {
            "backgroundcolor": "#E5ECF6",
            "gridcolor": "white",
            "gridwidth": 2,
            "linecolor": "white",
            "showbackground": true,
            "ticks": "",
            "zerolinecolor": "white"
           },
           "yaxis": {
            "backgroundcolor": "#E5ECF6",
            "gridcolor": "white",
            "gridwidth": 2,
            "linecolor": "white",
            "showbackground": true,
            "ticks": "",
            "zerolinecolor": "white"
           },
           "zaxis": {
            "backgroundcolor": "#E5ECF6",
            "gridcolor": "white",
            "gridwidth": 2,
            "linecolor": "white",
            "showbackground": true,
            "ticks": "",
            "zerolinecolor": "white"
           }
          },
          "shapedefaults": {
           "line": {
            "color": "#2a3f5f"
           }
          },
          "ternary": {
           "aaxis": {
            "gridcolor": "white",
            "linecolor": "white",
            "ticks": ""
           },
           "baxis": {
            "gridcolor": "white",
            "linecolor": "white",
            "ticks": ""
           },
           "bgcolor": "#E5ECF6",
           "caxis": {
            "gridcolor": "white",
            "linecolor": "white",
            "ticks": ""
           }
          },
          "title": {
           "x": 0.05
          },
          "xaxis": {
           "automargin": true,
           "gridcolor": "white",
           "linecolor": "white",
           "ticks": "",
           "title": {
            "standoff": 15
           },
           "zerolinecolor": "white",
           "zerolinewidth": 2
          },
          "yaxis": {
           "automargin": true,
           "gridcolor": "white",
           "linecolor": "white",
           "ticks": "",
           "title": {
            "standoff": 15
           },
           "zerolinecolor": "white",
           "zerolinewidth": 2
          }
         }
        }
       }
      },
      "text/html": [
       "<div>                            <div id=\"a34f26ea-055d-49db-803e-a1410c40a259\" class=\"plotly-graph-div\" style=\"height:525px; width:100%;\"></div>            <script type=\"text/javascript\">                require([\"plotly\"], function(Plotly) {                    window.PLOTLYENV=window.PLOTLYENV || {};                                    if (document.getElementById(\"a34f26ea-055d-49db-803e-a1410c40a259\")) {                    Plotly.newPlot(                        \"a34f26ea-055d-49db-803e-a1410c40a259\",                        [{\"branchvalues\":\"total\",\"customdata\":[[15310.0],[16620.0],[536.0],[9918.0],[11404.0],[29138.0],[18141.0],[14471.0],[7242.0],[5607.0],[2833.0],[4632.0],[10564.0],[22385.0],[17329.0],[22984.0],[20057.0],[437.0],[1873.0],[982.0],[1552.0],[3491.0],[1106.0],[466.0],[4965.0],[1731.0],[1027.0],[9495.0],[9446.0],[35644.0],[1508.0],[5137.0],[12955.0],[9331.0],[1438.0],[4327.0],[651.0],[15010.0],[804.0],[2447.0],[11373.0],[10174.0],[929.0],[6586.0],[2501.0],[68171.0],[7879.0],[16687.0],[2479.0],[46259.0],[2155.0],[1749.0],[12897.0],[1373.0],[1438.0],[10310.0],[23467.0],[29162.0],[53587.0],[1068.0],[4930.0],[6866.0],[12115.0],[1096.0],[6377.0],[12088.0],[3846.0],[16540.0],[18896.0],[19479.0],[35289.0],[4071.0],[5839.0],[27975.0],[24262.0],[16445.0],[2310.0],[8868.0],[1014.0],[18130.0],[6096.0],[13664.0],[2028.0],[28424.0],[8871.0],[368.0],[1313.0],[15755.0],[39792.0],[4812.0],[4185.0],[3200.0],[7051.0],[25296.0],[14552.0],[3255.0],[5569.0],[4438.0],[1219.0],[5799.0],[38835.0],[22634.0],[2148.0],[9177.0],[16714.0],[1735.0],[4204.0],[2427.0],[8034.0],[5442.0],[678.0],[4808.0],[24909.0],[7206.0],[2339.0],[3847.0],[19752.0],[26970.0],[58026.0],[11954.0],[6564.0],[2844.0],[9040.0],[12937.0],[21693.0],[20936.479200789552],[28957.47648228489],[11437.568995399994],[25321.11167653491],[19054.112411640504],[40549.566439805254],[13931.995048379958]],\"domain\":{\"x\":[0.0,1.0],\"y\":[0.0,1.0]},\"hovertemplate\":\"labels=%{label}<br>freq_sum=%{value}<br>parent=%{parent}<br>id=%{id}<br>freq=%{color}<extra></extra>\",\"ids\":[\"MiscTechHaveWorkedWith/.NET Core / .NET 5\",\"MiscTechHaveWorkedWith/.NET Framework\",\"LanguageHaveWorkedWith/APL\",\"WebframeHaveWorkedWith/ASP.NET\",\"WebframeHaveWorkedWith/ASP.NET Core \",\"PlatformHaveWorkedWith/AWS\",\"NEWCollabToolsHaveWorkedWith/Android Studio\",\"WebframeHaveWorkedWith/Angular\",\"WebframeHaveWorkedWith/Angular.js\",\"ToolsTechHaveWorkedWith/Ansible\",\"MiscTechHaveWorkedWith/Apache Spark\",\"LanguageHaveWorkedWith/Assembly\",\"NEWCollabToolsHaveWorkedWith/Atom\",\"LanguageHaveWorkedWith/Bash/Shell\",\"LanguageHaveWorkedWith/C\",\"LanguageHaveWorkedWith/C#\",\"LanguageHaveWorkedWith/C++\",\"LanguageHaveWorkedWith/COBOL\",\"DatabaseHaveWorkedWith/Cassandra\",\"ToolsTechHaveWorkedWith/Chef\",\"LanguageHaveWorkedWith/Clojure\",\"MiscTechHaveWorkedWith/Cordova\",\"DatabaseHaveWorkedWith/Couchbase\",\"LanguageHaveWorkedWith/Crystal\",\"LanguageHaveWorkedWith/Dart\",\"LanguageHaveWorkedWith/Delphi\",\"ToolsTechHaveWorkedWith/Deno\",\"PlatformHaveWorkedWith/DigitalOcean\",\"WebframeHaveWorkedWith/Django\",\"ToolsTechHaveWorkedWith/Docker\",\"WebframeHaveWorkedWith/Drupal\",\"DatabaseHaveWorkedWith/DynamoDB\",\"NEWCollabToolsHaveWorkedWith/Eclipse\",\"DatabaseHaveWorkedWith/Elasticsearch\",\"LanguageHaveWorkedWith/Elixir\",\"NEWCollabToolsHaveWorkedWith/Emacs\",\"LanguageHaveWorkedWith/Erlang\",\"WebframeHaveWorkedWith/Express\",\"LanguageHaveWorkedWith/F#\",\"WebframeHaveWorkedWith/FastAPI\",\"DatabaseHaveWorkedWith/Firebase\",\"WebframeHaveWorkedWith/Flask\",\"ToolsTechHaveWorkedWith/Flow\",\"MiscTechHaveWorkedWith/Flutter\",\"WebframeHaveWorkedWith/Gatsby\",\"ToolsTechHaveWorkedWith/Git\",\"LanguageHaveWorkedWith/Go\",\"PlatformHaveWorkedWith/Google Cloud Platform\",\"LanguageHaveWorkedWith/Groovy\",\"LanguageHaveWorkedWith/HTML/CSS\",\"MiscTechHaveWorkedWith/Hadoop\",\"LanguageHaveWorkedWith/Haskell\",\"PlatformHaveWorkedWith/Heroku\",\"PlatformHaveWorkedWith/IBM Cloud or Watson\",\"DatabaseHaveWorkedWith/IBM DB2\",\"NEWCollabToolsHaveWorkedWith/IPython/Jupyter\",\"NEWCollabToolsHaveWorkedWith/IntelliJ\",\"LanguageHaveWorkedWith/Java\",\"LanguageHaveWorkedWith/JavaScript\",\"LanguageHaveWorkedWith/Julia\",\"MiscTechHaveWorkedWith/Keras\",\"LanguageHaveWorkedWith/Kotlin\",\"ToolsTechHaveWorkedWith/Kubernetes\",\"LanguageHaveWorkedWith/LISP\",\"WebframeHaveWorkedWith/Laravel\",\"DatabaseHaveWorkedWith/MariaDB\",\"LanguageHaveWorkedWith/Matlab\",\"PlatformHaveWorkedWith/Microsoft Azure\",\"DatabaseHaveWorkedWith/Microsoft SQL Server\",\"DatabaseHaveWorkedWith/MongoDB\",\"DatabaseHaveWorkedWith/MySQL\",\"NEWCollabToolsHaveWorkedWith/Neovim\",\"NEWCollabToolsHaveWorkedWith/NetBeans\",\"LanguageHaveWorkedWith/Node.js\",\"NEWCollabToolsHaveWorkedWith/Notepad++\",\"MiscTechHaveWorkedWith/NumPy\",\"LanguageHaveWorkedWith/Objective-C\",\"DatabaseHaveWorkedWith/Oracle\",\"PlatformHaveWorkedWith/Oracle Cloud Infrastructure\",\"LanguageHaveWorkedWith/PHP\",\"NEWCollabToolsHaveWorkedWith/PHPStorm\",\"MiscTechHaveWorkedWith/Pandas\",\"LanguageHaveWorkedWith/Perl\",\"DatabaseHaveWorkedWith/PostgreSQL\",\"LanguageHaveWorkedWith/PowerShell\",\"ToolsTechHaveWorkedWith/Pulumi\",\"ToolsTechHaveWorkedWith/Puppet\",\"NEWCollabToolsHaveWorkedWith/PyCharm\",\"LanguageHaveWorkedWith/Python\",\"MiscTechHaveWorkedWith/Qt\",\"LanguageHaveWorkedWith/R\",\"NEWCollabToolsHaveWorkedWith/RStudio\",\"MiscTechHaveWorkedWith/React Native\",\"WebframeHaveWorkedWith/React.js\",\"DatabaseHaveWorkedWith/Redis\",\"NEWCollabToolsHaveWorkedWith/Rider\",\"LanguageHaveWorkedWith/Ruby\",\"WebframeHaveWorkedWith/Ruby on Rails\",\"NEWCollabToolsHaveWorkedWith/RubyMine\",\"LanguageHaveWorkedWith/Rust\",\"LanguageHaveWorkedWith/SQL\",\"DatabaseHaveWorkedWith/SQLite\",\"LanguageHaveWorkedWith/Scala\",\"WebframeHaveWorkedWith/Spring\",\"NEWCollabToolsHaveWorkedWith/Sublime Text\",\"WebframeHaveWorkedWith/Svelte\",\"LanguageHaveWorkedWith/Swift\",\"WebframeHaveWorkedWith/Symfony\",\"MiscTechHaveWorkedWith/TensorFlow\",\"ToolsTechHaveWorkedWith/Terraform\",\"NEWCollabToolsHaveWorkedWith/TextMate\",\"MiscTechHaveWorkedWith/Torch/PyTorch\",\"LanguageHaveWorkedWith/TypeScript\",\"ToolsTechHaveWorkedWith/Unity 3D\",\"ToolsTechHaveWorkedWith/Unreal Engine\",\"LanguageHaveWorkedWith/VBA\",\"NEWCollabToolsHaveWorkedWith/Vim\",\"NEWCollabToolsHaveWorkedWith/Visual Studio\",\"NEWCollabToolsHaveWorkedWith/Visual Studio Code\",\"WebframeHaveWorkedWith/Vue.js\",\"NEWCollabToolsHaveWorkedWith/Webstorm\",\"ToolsTechHaveWorkedWith/Xamarin\",\"NEWCollabToolsHaveWorkedWith/Xcode\",\"ToolsTechHaveWorkedWith/Yarn\",\"WebframeHaveWorkedWith/jQuery\",\"DatabaseHaveWorkedWith\",\"LanguageHaveWorkedWith\",\"MiscTechHaveWorkedWith\",\"NEWCollabToolsHaveWorkedWith\",\"PlatformHaveWorkedWith\",\"ToolsTechHaveWorkedWith\",\"WebframeHaveWorkedWith\"],\"labels\":[\".NET Core / .NET 5\",\".NET Framework\",\"APL\",\"ASP.NET\",\"ASP.NET Core \",\"AWS\",\"Android Studio\",\"Angular\",\"Angular.js\",\"Ansible\",\"Apache Spark\",\"Assembly\",\"Atom\",\"Bash/Shell\",\"C\",\"C#\",\"C++\",\"COBOL\",\"Cassandra\",\"Chef\",\"Clojure\",\"Cordova\",\"Couchbase\",\"Crystal\",\"Dart\",\"Delphi\",\"Deno\",\"DigitalOcean\",\"Django\",\"Docker\",\"Drupal\",\"DynamoDB\",\"Eclipse\",\"Elasticsearch\",\"Elixir\",\"Emacs\",\"Erlang\",\"Express\",\"F#\",\"FastAPI\",\"Firebase\",\"Flask\",\"Flow\",\"Flutter\",\"Gatsby\",\"Git\",\"Go\",\"Google Cloud Platform\",\"Groovy\",\"HTML/CSS\",\"Hadoop\",\"Haskell\",\"Heroku\",\"IBM Cloud or Watson\",\"IBM DB2\",\"IPython/Jupyter\",\"IntelliJ\",\"Java\",\"JavaScript\",\"Julia\",\"Keras\",\"Kotlin\",\"Kubernetes\",\"LISP\",\"Laravel\",\"MariaDB\",\"Matlab\",\"Microsoft Azure\",\"Microsoft SQL Server\",\"MongoDB\",\"MySQL\",\"Neovim\",\"NetBeans\",\"Node.js\",\"Notepad++\",\"NumPy\",\"Objective-C\",\"Oracle\",\"Oracle Cloud Infrastructure\",\"PHP\",\"PHPStorm\",\"Pandas\",\"Perl\",\"PostgreSQL\",\"PowerShell\",\"Pulumi\",\"Puppet\",\"PyCharm\",\"Python\",\"Qt\",\"R\",\"RStudio\",\"React Native\",\"React.js\",\"Redis\",\"Rider\",\"Ruby\",\"Ruby on Rails\",\"RubyMine\",\"Rust\",\"SQL\",\"SQLite\",\"Scala\",\"Spring\",\"Sublime Text\",\"Svelte\",\"Swift\",\"Symfony\",\"TensorFlow\",\"Terraform\",\"TextMate\",\"Torch/PyTorch\",\"TypeScript\",\"Unity 3D\",\"Unreal Engine\",\"VBA\",\"Vim\",\"Visual Studio\",\"Visual Studio Code\",\"Vue.js\",\"Webstorm\",\"Xamarin\",\"Xcode\",\"Yarn\",\"jQuery\",\"DatabaseHaveWorkedWith\",\"LanguageHaveWorkedWith\",\"MiscTechHaveWorkedWith\",\"NEWCollabToolsHaveWorkedWith\",\"PlatformHaveWorkedWith\",\"ToolsTechHaveWorkedWith\",\"WebframeHaveWorkedWith\"],\"marker\":{\"coloraxis\":\"coloraxis\",\"colors\":[15310.0,16620.0,536.0,9918.0,11404.0,29138.0,18141.0,14471.0,7242.0,5607.0,2833.0,4632.0,10564.0,22385.0,17329.0,22984.0,20057.0,437.0,1873.0,982.0,1552.0,3491.0,1106.0,466.0,4965.0,1731.0,1027.0,9495.0,9446.0,35644.0,1508.0,5137.0,12955.0,9331.0,1438.0,4327.0,651.0,15010.0,804.0,2447.0,11373.0,10174.0,929.0,6586.0,2501.0,68171.0,7879.0,16687.0,2479.0,46259.0,2155.0,1749.0,12897.0,1373.0,1438.0,10310.0,23467.0,29162.0,53587.0,1068.0,4930.0,6866.0,12115.0,1096.0,6377.0,12088.0,3846.0,16540.0,18896.0,19479.0,35289.0,4071.0,5839.0,27975.0,24262.0,16445.0,2310.0,8868.0,1014.0,18130.0,6096.0,13664.0,2028.0,28424.0,8871.0,368.0,1313.0,15755.0,39792.0,4812.0,4185.0,3200.0,7051.0,25296.0,14552.0,3255.0,5569.0,4438.0,1219.0,5799.0,38835.0,22634.0,2148.0,9177.0,16714.0,1735.0,4204.0,2427.0,8034.0,5442.0,678.0,4808.0,24909.0,7206.0,2339.0,3847.0,19752.0,26970.0,58026.0,11954.0,6564.0,2844.0,9040.0,12937.0,21693.0,20936.479200789552,28957.47648228489,11437.568995399994,25321.11167653491,19054.112411640504,40549.566439805254,13931.995048379958]},\"name\":\"\",\"parents\":[\"MiscTechHaveWorkedWith\",\"MiscTechHaveWorkedWith\",\"LanguageHaveWorkedWith\",\"WebframeHaveWorkedWith\",\"WebframeHaveWorkedWith\",\"PlatformHaveWorkedWith\",\"NEWCollabToolsHaveWorkedWith\",\"WebframeHaveWorkedWith\",\"WebframeHaveWorkedWith\",\"ToolsTechHaveWorkedWith\",\"MiscTechHaveWorkedWith\",\"LanguageHaveWorkedWith\",\"NEWCollabToolsHaveWorkedWith\",\"LanguageHaveWorkedWith\",\"LanguageHaveWorkedWith\",\"LanguageHaveWorkedWith\",\"LanguageHaveWorkedWith\",\"LanguageHaveWorkedWith\",\"DatabaseHaveWorkedWith\",\"ToolsTechHaveWorkedWith\",\"LanguageHaveWorkedWith\",\"MiscTechHaveWorkedWith\",\"DatabaseHaveWorkedWith\",\"LanguageHaveWorkedWith\",\"LanguageHaveWorkedWith\",\"LanguageHaveWorkedWith\",\"ToolsTechHaveWorkedWith\",\"PlatformHaveWorkedWith\",\"WebframeHaveWorkedWith\",\"ToolsTechHaveWorkedWith\",\"WebframeHaveWorkedWith\",\"DatabaseHaveWorkedWith\",\"NEWCollabToolsHaveWorkedWith\",\"DatabaseHaveWorkedWith\",\"LanguageHaveWorkedWith\",\"NEWCollabToolsHaveWorkedWith\",\"LanguageHaveWorkedWith\",\"WebframeHaveWorkedWith\",\"LanguageHaveWorkedWith\",\"WebframeHaveWorkedWith\",\"DatabaseHaveWorkedWith\",\"WebframeHaveWorkedWith\",\"ToolsTechHaveWorkedWith\",\"MiscTechHaveWorkedWith\",\"WebframeHaveWorkedWith\",\"ToolsTechHaveWorkedWith\",\"LanguageHaveWorkedWith\",\"PlatformHaveWorkedWith\",\"LanguageHaveWorkedWith\",\"LanguageHaveWorkedWith\",\"MiscTechHaveWorkedWith\",\"LanguageHaveWorkedWith\",\"PlatformHaveWorkedWith\",\"PlatformHaveWorkedWith\",\"DatabaseHaveWorkedWith\",\"NEWCollabToolsHaveWorkedWith\",\"NEWCollabToolsHaveWorkedWith\",\"LanguageHaveWorkedWith\",\"LanguageHaveWorkedWith\",\"LanguageHaveWorkedWith\",\"MiscTechHaveWorkedWith\",\"LanguageHaveWorkedWith\",\"ToolsTechHaveWorkedWith\",\"LanguageHaveWorkedWith\",\"WebframeHaveWorkedWith\",\"DatabaseHaveWorkedWith\",\"LanguageHaveWorkedWith\",\"PlatformHaveWorkedWith\",\"DatabaseHaveWorkedWith\",\"DatabaseHaveWorkedWith\",\"DatabaseHaveWorkedWith\",\"NEWCollabToolsHaveWorkedWith\",\"NEWCollabToolsHaveWorkedWith\",\"LanguageHaveWorkedWith\",\"NEWCollabToolsHaveWorkedWith\",\"MiscTechHaveWorkedWith\",\"LanguageHaveWorkedWith\",\"DatabaseHaveWorkedWith\",\"PlatformHaveWorkedWith\",\"LanguageHaveWorkedWith\",\"NEWCollabToolsHaveWorkedWith\",\"MiscTechHaveWorkedWith\",\"LanguageHaveWorkedWith\",\"DatabaseHaveWorkedWith\",\"LanguageHaveWorkedWith\",\"ToolsTechHaveWorkedWith\",\"ToolsTechHaveWorkedWith\",\"NEWCollabToolsHaveWorkedWith\",\"LanguageHaveWorkedWith\",\"MiscTechHaveWorkedWith\",\"LanguageHaveWorkedWith\",\"NEWCollabToolsHaveWorkedWith\",\"MiscTechHaveWorkedWith\",\"WebframeHaveWorkedWith\",\"DatabaseHaveWorkedWith\",\"NEWCollabToolsHaveWorkedWith\",\"LanguageHaveWorkedWith\",\"WebframeHaveWorkedWith\",\"NEWCollabToolsHaveWorkedWith\",\"LanguageHaveWorkedWith\",\"LanguageHaveWorkedWith\",\"DatabaseHaveWorkedWith\",\"LanguageHaveWorkedWith\",\"WebframeHaveWorkedWith\",\"NEWCollabToolsHaveWorkedWith\",\"WebframeHaveWorkedWith\",\"LanguageHaveWorkedWith\",\"WebframeHaveWorkedWith\",\"MiscTechHaveWorkedWith\",\"ToolsTechHaveWorkedWith\",\"NEWCollabToolsHaveWorkedWith\",\"MiscTechHaveWorkedWith\",\"LanguageHaveWorkedWith\",\"ToolsTechHaveWorkedWith\",\"ToolsTechHaveWorkedWith\",\"LanguageHaveWorkedWith\",\"NEWCollabToolsHaveWorkedWith\",\"NEWCollabToolsHaveWorkedWith\",\"NEWCollabToolsHaveWorkedWith\",\"WebframeHaveWorkedWith\",\"NEWCollabToolsHaveWorkedWith\",\"ToolsTechHaveWorkedWith\",\"NEWCollabToolsHaveWorkedWith\",\"ToolsTechHaveWorkedWith\",\"WebframeHaveWorkedWith\",\"\",\"\",\"\",\"\",\"\",\"\",\"\"],\"values\":[15310,16620,536,9918,11404,29138,18141,14471,7242,5607,2833,4632,10564,22385,17329,22984,20057,437,1873,982,1552,3491,1106,466,4965,1731,1027,9495,9446,35644,1508,5137,12955,9331,1438,4327,651,15010,804,2447,11373,10174,929,6586,2501,68171,7879,16687,2479,46259,2155,1749,12897,1373,1438,10310,23467,29162,53587,1068,4930,6866,12115,1096,6377,12088,3846,16540,18896,19479,35289,4071,5839,27975,24262,16445,2310,8868,1014,18130,6096,13664,2028,28424,8871,368,1313,15755,39792,4812,4185,3200,7051,25296,14552,3255,5569,4438,1219,5799,38835,22634,2148,9177,16714,1735,4204,2427,8034,5442,678,4808,24909,7206,2339,3847,19752,26970,58026,11954,6564,2844,9040,12937,21693,190488,442560,106739,281205,87144,156924,167218],\"type\":\"treemap\"}],                        {\"template\":{\"data\":{\"histogram2dcontour\":[{\"type\":\"histogram2dcontour\",\"colorbar\":{\"outlinewidth\":0,\"ticks\":\"\"},\"colorscale\":[[0.0,\"#0d0887\"],[0.1111111111111111,\"#46039f\"],[0.2222222222222222,\"#7201a8\"],[0.3333333333333333,\"#9c179e\"],[0.4444444444444444,\"#bd3786\"],[0.5555555555555556,\"#d8576b\"],[0.6666666666666666,\"#ed7953\"],[0.7777777777777778,\"#fb9f3a\"],[0.8888888888888888,\"#fdca26\"],[1.0,\"#f0f921\"]]}],\"choropleth\":[{\"type\":\"choropleth\",\"colorbar\":{\"outlinewidth\":0,\"ticks\":\"\"}}],\"histogram2d\":[{\"type\":\"histogram2d\",\"colorbar\":{\"outlinewidth\":0,\"ticks\":\"\"},\"colorscale\":[[0.0,\"#0d0887\"],[0.1111111111111111,\"#46039f\"],[0.2222222222222222,\"#7201a8\"],[0.3333333333333333,\"#9c179e\"],[0.4444444444444444,\"#bd3786\"],[0.5555555555555556,\"#d8576b\"],[0.6666666666666666,\"#ed7953\"],[0.7777777777777778,\"#fb9f3a\"],[0.8888888888888888,\"#fdca26\"],[1.0,\"#f0f921\"]]}],\"heatmap\":[{\"type\":\"heatmap\",\"colorbar\":{\"outlinewidth\":0,\"ticks\":\"\"},\"colorscale\":[[0.0,\"#0d0887\"],[0.1111111111111111,\"#46039f\"],[0.2222222222222222,\"#7201a8\"],[0.3333333333333333,\"#9c179e\"],[0.4444444444444444,\"#bd3786\"],[0.5555555555555556,\"#d8576b\"],[0.6666666666666666,\"#ed7953\"],[0.7777777777777778,\"#fb9f3a\"],[0.8888888888888888,\"#fdca26\"],[1.0,\"#f0f921\"]]}],\"heatmapgl\":[{\"type\":\"heatmapgl\",\"colorbar\":{\"outlinewidth\":0,\"ticks\":\"\"},\"colorscale\":[[0.0,\"#0d0887\"],[0.1111111111111111,\"#46039f\"],[0.2222222222222222,\"#7201a8\"],[0.3333333333333333,\"#9c179e\"],[0.4444444444444444,\"#bd3786\"],[0.5555555555555556,\"#d8576b\"],[0.6666666666666666,\"#ed7953\"],[0.7777777777777778,\"#fb9f3a\"],[0.8888888888888888,\"#fdca26\"],[1.0,\"#f0f921\"]]}],\"contourcarpet\":[{\"type\":\"contourcarpet\",\"colorbar\":{\"outlinewidth\":0,\"ticks\":\"\"}}],\"contour\":[{\"type\":\"contour\",\"colorbar\":{\"outlinewidth\":0,\"ticks\":\"\"},\"colorscale\":[[0.0,\"#0d0887\"],[0.1111111111111111,\"#46039f\"],[0.2222222222222222,\"#7201a8\"],[0.3333333333333333,\"#9c179e\"],[0.4444444444444444,\"#bd3786\"],[0.5555555555555556,\"#d8576b\"],[0.6666666666666666,\"#ed7953\"],[0.7777777777777778,\"#fb9f3a\"],[0.8888888888888888,\"#fdca26\"],[1.0,\"#f0f921\"]]}],\"surface\":[{\"type\":\"surface\",\"colorbar\":{\"outlinewidth\":0,\"ticks\":\"\"},\"colorscale\":[[0.0,\"#0d0887\"],[0.1111111111111111,\"#46039f\"],[0.2222222222222222,\"#7201a8\"],[0.3333333333333333,\"#9c179e\"],[0.4444444444444444,\"#bd3786\"],[0.5555555555555556,\"#d8576b\"],[0.6666666666666666,\"#ed7953\"],[0.7777777777777778,\"#fb9f3a\"],[0.8888888888888888,\"#fdca26\"],[1.0,\"#f0f921\"]]}],\"mesh3d\":[{\"type\":\"mesh3d\",\"colorbar\":{\"outlinewidth\":0,\"ticks\":\"\"}}],\"scatter\":[{\"fillpattern\":{\"fillmode\":\"overlay\",\"size\":10,\"solidity\":0.2},\"type\":\"scatter\"}],\"parcoords\":[{\"type\":\"parcoords\",\"line\":{\"colorbar\":{\"outlinewidth\":0,\"ticks\":\"\"}}}],\"scatterpolargl\":[{\"type\":\"scatterpolargl\",\"marker\":{\"colorbar\":{\"outlinewidth\":0,\"ticks\":\"\"}}}],\"bar\":[{\"error_x\":{\"color\":\"#2a3f5f\"},\"error_y\":{\"color\":\"#2a3f5f\"},\"marker\":{\"line\":{\"color\":\"#E5ECF6\",\"width\":0.5},\"pattern\":{\"fillmode\":\"overlay\",\"size\":10,\"solidity\":0.2}},\"type\":\"bar\"}],\"scattergeo\":[{\"type\":\"scattergeo\",\"marker\":{\"colorbar\":{\"outlinewidth\":0,\"ticks\":\"\"}}}],\"scatterpolar\":[{\"type\":\"scatterpolar\",\"marker\":{\"colorbar\":{\"outlinewidth\":0,\"ticks\":\"\"}}}],\"histogram\":[{\"marker\":{\"pattern\":{\"fillmode\":\"overlay\",\"size\":10,\"solidity\":0.2}},\"type\":\"histogram\"}],\"scattergl\":[{\"type\":\"scattergl\",\"marker\":{\"colorbar\":{\"outlinewidth\":0,\"ticks\":\"\"}}}],\"scatter3d\":[{\"type\":\"scatter3d\",\"line\":{\"colorbar\":{\"outlinewidth\":0,\"ticks\":\"\"}},\"marker\":{\"colorbar\":{\"outlinewidth\":0,\"ticks\":\"\"}}}],\"scattermapbox\":[{\"type\":\"scattermapbox\",\"marker\":{\"colorbar\":{\"outlinewidth\":0,\"ticks\":\"\"}}}],\"scatterternary\":[{\"type\":\"scatterternary\",\"marker\":{\"colorbar\":{\"outlinewidth\":0,\"ticks\":\"\"}}}],\"scattercarpet\":[{\"type\":\"scattercarpet\",\"marker\":{\"colorbar\":{\"outlinewidth\":0,\"ticks\":\"\"}}}],\"carpet\":[{\"aaxis\":{\"endlinecolor\":\"#2a3f5f\",\"gridcolor\":\"white\",\"linecolor\":\"white\",\"minorgridcolor\":\"white\",\"startlinecolor\":\"#2a3f5f\"},\"baxis\":{\"endlinecolor\":\"#2a3f5f\",\"gridcolor\":\"white\",\"linecolor\":\"white\",\"minorgridcolor\":\"white\",\"startlinecolor\":\"#2a3f5f\"},\"type\":\"carpet\"}],\"table\":[{\"cells\":{\"fill\":{\"color\":\"#EBF0F8\"},\"line\":{\"color\":\"white\"}},\"header\":{\"fill\":{\"color\":\"#C8D4E3\"},\"line\":{\"color\":\"white\"}},\"type\":\"table\"}],\"barpolar\":[{\"marker\":{\"line\":{\"color\":\"#E5ECF6\",\"width\":0.5},\"pattern\":{\"fillmode\":\"overlay\",\"size\":10,\"solidity\":0.2}},\"type\":\"barpolar\"}],\"pie\":[{\"automargin\":true,\"type\":\"pie\"}]},\"layout\":{\"autotypenumbers\":\"strict\",\"colorway\":[\"#636efa\",\"#EF553B\",\"#00cc96\",\"#ab63fa\",\"#FFA15A\",\"#19d3f3\",\"#FF6692\",\"#B6E880\",\"#FF97FF\",\"#FECB52\"],\"font\":{\"color\":\"#2a3f5f\"},\"hovermode\":\"closest\",\"hoverlabel\":{\"align\":\"left\"},\"paper_bgcolor\":\"white\",\"plot_bgcolor\":\"#E5ECF6\",\"polar\":{\"bgcolor\":\"#E5ECF6\",\"angularaxis\":{\"gridcolor\":\"white\",\"linecolor\":\"white\",\"ticks\":\"\"},\"radialaxis\":{\"gridcolor\":\"white\",\"linecolor\":\"white\",\"ticks\":\"\"}},\"ternary\":{\"bgcolor\":\"#E5ECF6\",\"aaxis\":{\"gridcolor\":\"white\",\"linecolor\":\"white\",\"ticks\":\"\"},\"baxis\":{\"gridcolor\":\"white\",\"linecolor\":\"white\",\"ticks\":\"\"},\"caxis\":{\"gridcolor\":\"white\",\"linecolor\":\"white\",\"ticks\":\"\"}},\"coloraxis\":{\"colorbar\":{\"outlinewidth\":0,\"ticks\":\"\"}},\"colorscale\":{\"sequential\":[[0.0,\"#0d0887\"],[0.1111111111111111,\"#46039f\"],[0.2222222222222222,\"#7201a8\"],[0.3333333333333333,\"#9c179e\"],[0.4444444444444444,\"#bd3786\"],[0.5555555555555556,\"#d8576b\"],[0.6666666666666666,\"#ed7953\"],[0.7777777777777778,\"#fb9f3a\"],[0.8888888888888888,\"#fdca26\"],[1.0,\"#f0f921\"]],\"sequentialminus\":[[0.0,\"#0d0887\"],[0.1111111111111111,\"#46039f\"],[0.2222222222222222,\"#7201a8\"],[0.3333333333333333,\"#9c179e\"],[0.4444444444444444,\"#bd3786\"],[0.5555555555555556,\"#d8576b\"],[0.6666666666666666,\"#ed7953\"],[0.7777777777777778,\"#fb9f3a\"],[0.8888888888888888,\"#fdca26\"],[1.0,\"#f0f921\"]],\"diverging\":[[0,\"#8e0152\"],[0.1,\"#c51b7d\"],[0.2,\"#de77ae\"],[0.3,\"#f1b6da\"],[0.4,\"#fde0ef\"],[0.5,\"#f7f7f7\"],[0.6,\"#e6f5d0\"],[0.7,\"#b8e186\"],[0.8,\"#7fbc41\"],[0.9,\"#4d9221\"],[1,\"#276419\"]]},\"xaxis\":{\"gridcolor\":\"white\",\"linecolor\":\"white\",\"ticks\":\"\",\"title\":{\"standoff\":15},\"zerolinecolor\":\"white\",\"automargin\":true,\"zerolinewidth\":2},\"yaxis\":{\"gridcolor\":\"white\",\"linecolor\":\"white\",\"ticks\":\"\",\"title\":{\"standoff\":15},\"zerolinecolor\":\"white\",\"automargin\":true,\"zerolinewidth\":2},\"scene\":{\"xaxis\":{\"backgroundcolor\":\"#E5ECF6\",\"gridcolor\":\"white\",\"linecolor\":\"white\",\"showbackground\":true,\"ticks\":\"\",\"zerolinecolor\":\"white\",\"gridwidth\":2},\"yaxis\":{\"backgroundcolor\":\"#E5ECF6\",\"gridcolor\":\"white\",\"linecolor\":\"white\",\"showbackground\":true,\"ticks\":\"\",\"zerolinecolor\":\"white\",\"gridwidth\":2},\"zaxis\":{\"backgroundcolor\":\"#E5ECF6\",\"gridcolor\":\"white\",\"linecolor\":\"white\",\"showbackground\":true,\"ticks\":\"\",\"zerolinecolor\":\"white\",\"gridwidth\":2}},\"shapedefaults\":{\"line\":{\"color\":\"#2a3f5f\"}},\"annotationdefaults\":{\"arrowcolor\":\"#2a3f5f\",\"arrowhead\":0,\"arrowwidth\":1},\"geo\":{\"bgcolor\":\"white\",\"landcolor\":\"#E5ECF6\",\"subunitcolor\":\"white\",\"showland\":true,\"showlakes\":true,\"lakecolor\":\"white\"},\"title\":{\"x\":0.05},\"mapbox\":{\"style\":\"light\"}}},\"coloraxis\":{\"colorbar\":{\"title\":{\"text\":\"freq\"}},\"colorscale\":[[0.0,\"rgb(253, 253, 204)\"],[0.09090909090909091,\"rgb(206, 236, 179)\"],[0.18181818181818182,\"rgb(156, 219, 165)\"],[0.2727272727272727,\"rgb(111, 201, 163)\"],[0.36363636363636365,\"rgb(86, 177, 163)\"],[0.45454545454545453,\"rgb(76, 153, 160)\"],[0.5454545454545454,\"rgb(68, 130, 155)\"],[0.6363636363636364,\"rgb(62, 108, 150)\"],[0.7272727272727273,\"rgb(62, 82, 143)\"],[0.8181818181818182,\"rgb(64, 60, 115)\"],[0.9090909090909091,\"rgb(54, 43, 77)\"],[1.0,\"rgb(39, 26, 44)\"]]},\"legend\":{\"tracegroupgap\":0},\"margin\":{\"t\":60}},                        {\"responsive\": true}                    ).then(function(){\n",
       "                            \n",
       "var gd = document.getElementById('a34f26ea-055d-49db-803e-a1410c40a259');\n",
       "var x = new MutationObserver(function (mutations, observer) {{\n",
       "        var display = window.getComputedStyle(gd).display;\n",
       "        if (!display || display === 'none') {{\n",
       "            console.log([gd, 'removed!']);\n",
       "            Plotly.purge(gd);\n",
       "            observer.disconnect();\n",
       "        }}\n",
       "}});\n",
       "\n",
       "// Listen for the removal of the full notebook cells\n",
       "var notebookContainer = gd.closest('#notebook-container');\n",
       "if (notebookContainer) {{\n",
       "    x.observe(notebookContainer, {childList: true});\n",
       "}}\n",
       "\n",
       "// Listen for the clearing of the current output cell\n",
       "var outputEl = gd.closest('.output');\n",
       "if (outputEl) {{\n",
       "    x.observe(outputEl, {childList: true});\n",
       "}}\n",
       "\n",
       "                        })                };                });            </script>        </div>"
      ]
     },
     "metadata": {},
     "output_type": "display_data"
    }
   ],
   "source": [
    "fing = px.treemap(skills_freq,\n",
    "                 path = [\"group\", \"skill\"], \n",
    "                 color_continuous_scale='deep',\n",
    "                 values='freq',color='freq')\n",
    "fing.show()"
   ]
  },
  {
   "cell_type": "code",
   "execution_count": null,
   "id": "3ccfd338",
   "metadata": {},
   "outputs": [],
   "source": []
  },
  {
   "cell_type": "code",
   "execution_count": null,
   "id": "12d6d268",
   "metadata": {},
   "outputs": [],
   "source": []
  },
  {
   "cell_type": "code",
   "execution_count": null,
   "id": "24f0e6d6",
   "metadata": {},
   "outputs": [],
   "source": []
  },
  {
   "cell_type": "code",
   "execution_count": 9,
   "id": "f90d7701",
   "metadata": {},
   "outputs": [
    {
     "name": "stdout",
     "output_type": "stream",
     "text": [
      "<class 'pandas.core.frame.DataFrame'>\n",
      "RangeIndex: 83439 entries, 0 to 83438\n",
      "Data columns (total 48 columns):\n",
      " #   Column                        Non-Null Count  Dtype  \n",
      "---  ------                        --------------  -----  \n",
      " 0   ResponseId                    83439 non-null  int64  \n",
      " 1   MainBranch                    83439 non-null  object \n",
      " 2   Employment                    83323 non-null  object \n",
      " 3   Country                       83439 non-null  object \n",
      " 4   US_State                      14920 non-null  object \n",
      " 5   UK_Country                    4418 non-null   object \n",
      " 6   EdLevel                       83126 non-null  object \n",
      " 7   Age1stCode                    83243 non-null  object \n",
      " 8   LearnCode                     83439 non-null  object \n",
      " 9   YearsCode                     81641 non-null  float32\n",
      " 10  YearsCodePro                  61216 non-null  float32\n",
      " 11  DevType                       83439 non-null  object \n",
      " 12  OrgSize                       60726 non-null  object \n",
      " 13  Currency                      61080 non-null  object \n",
      " 14  CompTotal                     47183 non-null  float64\n",
      " 15  CompFreq                      52150 non-null  object \n",
      " 16  LanguageHaveWorkedWith        83439 non-null  object \n",
      " 17  LanguageWantToWorkWith        83439 non-null  object \n",
      " 18  DatabaseHaveWorkedWith        83439 non-null  object \n",
      " 19  DatabaseWantToWorkWith        83439 non-null  object \n",
      " 20  PlatformHaveWorkedWith        83439 non-null  object \n",
      " 21  PlatformWantToWorkWith        83439 non-null  object \n",
      " 22  WebframeHaveWorkedWith        83439 non-null  object \n",
      " 23  WebframeWantToWorkWith        83439 non-null  object \n",
      " 24  MiscTechHaveWorkedWith        83439 non-null  object \n",
      " 25  MiscTechWantToWorkWith        83439 non-null  object \n",
      " 26  ToolsTechHaveWorkedWith       83439 non-null  object \n",
      " 27  ToolsTechWantToWorkWith       83439 non-null  object \n",
      " 28  NEWCollabToolsHaveWorkedWith  83439 non-null  object \n",
      " 29  NEWCollabToolsWantToWorkWith  83439 non-null  object \n",
      " 30  OpSys                         83294 non-null  object \n",
      " 31  NEWStuck                      83439 non-null  object \n",
      " 32  NEWSOSites                    83439 non-null  object \n",
      " 33  SOVisitFreq                   82413 non-null  object \n",
      " 34  SOAccount                     82525 non-null  object \n",
      " 35  SOPartFreq                    67553 non-null  object \n",
      " 36  SOComm                        82319 non-null  object \n",
      " 37  NEWOtherComms                 82828 non-null  object \n",
      " 38  Age                           82407 non-null  object \n",
      " 39  Gender                        83439 non-null  object \n",
      " 40  Trans                         80678 non-null  object \n",
      " 41  Sexuality                     83439 non-null  object \n",
      " 42  Ethnicity                     83439 non-null  object \n",
      " 43  Accessibility                 83439 non-null  object \n",
      " 44  MentalHealth                  83439 non-null  object \n",
      " 45  SurveyLength                  81711 non-null  object \n",
      " 46  SurveyEase                    81948 non-null  object \n",
      " 47  ConvertedCompYearly           46844 non-null  float64\n",
      "dtypes: float32(2), float64(2), int64(1), object(43)\n",
      "memory usage: 29.9+ MB\n"
     ]
    }
   ],
   "source": [
    "raw_df.info()"
   ]
  },
  {
   "cell_type": "code",
   "execution_count": 10,
   "id": "e857edb7",
   "metadata": {},
   "outputs": [
    {
     "data": {
      "text/plain": [
       "ResponseId                                                                  81632\n",
       "MainBranch                                 I am a student who is learning to code\n",
       "Employment                                                     Student, full-time\n",
       "Country                                                                     India\n",
       "US_State                                                                      NaN\n",
       "UK_Country                                                                    NaN\n",
       "EdLevel                              Bachelor’s degree (B.A., B.S., B.Eng., etc.)\n",
       "Age1stCode                                                          11 - 17 years\n",
       "LearnCode                                                                [School]\n",
       "YearsCode                                                                     6.0\n",
       "YearsCodePro                                                                  NaN\n",
       "DevType                                                                        []\n",
       "OrgSize                                                                       NaN\n",
       "Currency                                                                      NaN\n",
       "CompTotal                                                                     NaN\n",
       "CompFreq                                                                      NaN\n",
       "LanguageHaveWorkedWith                    [C++, HTML/CSS, Java, PHP, Python, SQL]\n",
       "LanguageWantToWorkWith                                 [C++, Java, Python, Swift]\n",
       "DatabaseHaveWorkedWith                           [MongoDB, MySQL, Oracle, SQLite]\n",
       "DatabaseWantToWorkWith                                                 [DynamoDB]\n",
       "PlatformHaveWorkedWith                                                         []\n",
       "PlatformWantToWorkWith                                                         []\n",
       "WebframeHaveWorkedWith                                                 [React.js]\n",
       "WebframeWantToWorkWith                                                 [React.js]\n",
       "MiscTechHaveWorkedWith          [Hadoop, NumPy, Pandas, React Native, TensorFlow]\n",
       "MiscTechWantToWorkWith                  [NumPy, Pandas, React Native, TensorFlow]\n",
       "ToolsTechHaveWorkedWith                                                        []\n",
       "ToolsTechWantToWorkWith                                                        []\n",
       "NEWCollabToolsHaveWorkedWith    [Android Studio, Eclipse, IntelliJ, IPython/Ju...\n",
       "NEWCollabToolsWantToWorkWith                                 [Visual Studio Code]\n",
       "OpSys                                                                     Windows\n",
       "NEWStuck                                        [Visit Stack Overflow, Google it]\n",
       "NEWSOSites                                                       [Stack Overflow]\n",
       "SOVisitFreq                                                Multiple times per day\n",
       "SOAccount                                                                     Yes\n",
       "SOPartFreq                                    Less than once per month or monthly\n",
       "SOComm                                                            Yes, definitely\n",
       "NEWOtherComms                                                                  No\n",
       "Age                                                               18-24 years old\n",
       "Gender                                                                    [Woman]\n",
       "Trans                                                                          No\n",
       "Sexuality                                               [Straight / Heterosexual]\n",
       "Ethnicity                                                           [South Asian]\n",
       "Accessibility                                                 [None of the above]\n",
       "MentalHealth                                                  [None of the above]\n",
       "SurveyLength                                                             Too long\n",
       "SurveyEase                                                                   Easy\n",
       "ConvertedCompYearly                                                           NaN\n",
       "Name: 81631, dtype: object"
      ]
     },
     "execution_count": 10,
     "metadata": {},
     "output_type": "execute_result"
    }
   ],
   "source": [
    "raw_df.sample().iloc[0]"
   ]
  },
  {
   "cell_type": "code",
   "execution_count": 11,
   "id": "84914f79",
   "metadata": {},
   "outputs": [
    {
     "data": {
      "text/plain": [
       "array(['I am a developer by profession',\n",
       "       'I am a student who is learning to code',\n",
       "       'I am not primarily a developer, but I write code sometimes as part of my work',\n",
       "       'I code primarily as a hobby',\n",
       "       'I used to be a developer by profession, but no longer am',\n",
       "       'None of these'], dtype=object)"
      ]
     },
     "execution_count": 11,
     "metadata": {},
     "output_type": "execute_result"
    }
   ],
   "source": [
    "raw_df.MainBranch.unique()\n"
   ]
  },
  {
   "cell_type": "code",
   "execution_count": 12,
   "id": "be615829",
   "metadata": {},
   "outputs": [
    {
     "data": {
      "text/html": [
       "<div>\n",
       "<style scoped>\n",
       "    .dataframe tbody tr th:only-of-type {\n",
       "        vertical-align: middle;\n",
       "    }\n",
       "\n",
       "    .dataframe tbody tr th {\n",
       "        vertical-align: top;\n",
       "    }\n",
       "\n",
       "    .dataframe thead th {\n",
       "        text-align: right;\n",
       "    }\n",
       "</style>\n",
       "<table border=\"1\" class=\"dataframe\">\n",
       "  <thead>\n",
       "    <tr style=\"text-align: right;\">\n",
       "      <th></th>\n",
       "      <th>ResponseId</th>\n",
       "      <th>MainBranch</th>\n",
       "      <th>Employment</th>\n",
       "      <th>Country</th>\n",
       "      <th>US_State</th>\n",
       "      <th>UK_Country</th>\n",
       "      <th>EdLevel</th>\n",
       "      <th>Age1stCode</th>\n",
       "      <th>LearnCode</th>\n",
       "      <th>YearsCode</th>\n",
       "      <th>YearsCodePro</th>\n",
       "      <th>DevType</th>\n",
       "      <th>OrgSize</th>\n",
       "      <th>Currency</th>\n",
       "      <th>CompTotal</th>\n",
       "      <th>CompFreq</th>\n",
       "      <th>LanguageHaveWorkedWith</th>\n",
       "      <th>LanguageWantToWorkWith</th>\n",
       "      <th>DatabaseHaveWorkedWith</th>\n",
       "      <th>DatabaseWantToWorkWith</th>\n",
       "      <th>PlatformHaveWorkedWith</th>\n",
       "      <th>PlatformWantToWorkWith</th>\n",
       "      <th>WebframeHaveWorkedWith</th>\n",
       "      <th>WebframeWantToWorkWith</th>\n",
       "      <th>MiscTechHaveWorkedWith</th>\n",
       "      <th>MiscTechWantToWorkWith</th>\n",
       "      <th>ToolsTechHaveWorkedWith</th>\n",
       "      <th>ToolsTechWantToWorkWith</th>\n",
       "      <th>NEWCollabToolsHaveWorkedWith</th>\n",
       "      <th>NEWCollabToolsWantToWorkWith</th>\n",
       "      <th>OpSys</th>\n",
       "      <th>NEWStuck</th>\n",
       "      <th>NEWSOSites</th>\n",
       "      <th>SOVisitFreq</th>\n",
       "      <th>SOAccount</th>\n",
       "      <th>SOPartFreq</th>\n",
       "      <th>SOComm</th>\n",
       "      <th>NEWOtherComms</th>\n",
       "      <th>Age</th>\n",
       "      <th>Gender</th>\n",
       "      <th>Trans</th>\n",
       "      <th>Sexuality</th>\n",
       "      <th>Ethnicity</th>\n",
       "      <th>Accessibility</th>\n",
       "      <th>MentalHealth</th>\n",
       "      <th>SurveyLength</th>\n",
       "      <th>SurveyEase</th>\n",
       "      <th>ConvertedCompYearly</th>\n",
       "    </tr>\n",
       "  </thead>\n",
       "  <tbody>\n",
       "    <tr>\n",
       "      <th>0</th>\n",
       "      <td>1</td>\n",
       "      <td>I am a developer by profession</td>\n",
       "      <td>Independent contractor, freelancer, or self-em...</td>\n",
       "      <td>Slovakia</td>\n",
       "      <td>NaN</td>\n",
       "      <td>NaN</td>\n",
       "      <td>Secondary school (e.g. American high school, G...</td>\n",
       "      <td>18 - 24 years</td>\n",
       "      <td>[Coding Bootcamp, Other online resources (ex: ...</td>\n",
       "      <td>NaN</td>\n",
       "      <td>NaN</td>\n",
       "      <td>[Developer, mobile]</td>\n",
       "      <td>20 to 99 employees</td>\n",
       "      <td>EUR European Euro</td>\n",
       "      <td>4800.0</td>\n",
       "      <td>Monthly</td>\n",
       "      <td>[C++, HTML/CSS, JavaScript, Objective-C, PHP, ...</td>\n",
       "      <td>[Swift]</td>\n",
       "      <td>[PostgreSQL, SQLite]</td>\n",
       "      <td>[SQLite]</td>\n",
       "      <td>[]</td>\n",
       "      <td>[]</td>\n",
       "      <td>[Laravel, Symfony]</td>\n",
       "      <td>[]</td>\n",
       "      <td>[]</td>\n",
       "      <td>[]</td>\n",
       "      <td>[]</td>\n",
       "      <td>[]</td>\n",
       "      <td>[PHPStorm, Xcode]</td>\n",
       "      <td>[Atom, Xcode]</td>\n",
       "      <td>MacOS</td>\n",
       "      <td>[Call a coworker or friend, Visit Stack Overfl...</td>\n",
       "      <td>[Stack Overflow]</td>\n",
       "      <td>Multiple times per day</td>\n",
       "      <td>Yes</td>\n",
       "      <td>A few times per month or weekly</td>\n",
       "      <td>Yes, definitely</td>\n",
       "      <td>No</td>\n",
       "      <td>25-34 years old</td>\n",
       "      <td>[Man]</td>\n",
       "      <td>No</td>\n",
       "      <td>[Straight / Heterosexual]</td>\n",
       "      <td>[White or of European descent]</td>\n",
       "      <td>[None of the above]</td>\n",
       "      <td>[None of the above]</td>\n",
       "      <td>Appropriate in length</td>\n",
       "      <td>Easy</td>\n",
       "      <td>62268.0</td>\n",
       "    </tr>\n",
       "    <tr>\n",
       "      <th>3</th>\n",
       "      <td>4</td>\n",
       "      <td>I am a developer by profession</td>\n",
       "      <td>Employed full-time</td>\n",
       "      <td>Austria</td>\n",
       "      <td>NaN</td>\n",
       "      <td>NaN</td>\n",
       "      <td>Master’s degree (M.A., M.S., M.Eng., MBA, etc.)</td>\n",
       "      <td>11 - 17 years</td>\n",
       "      <td>[]</td>\n",
       "      <td>NaN</td>\n",
       "      <td>NaN</td>\n",
       "      <td>[Developer, front-end]</td>\n",
       "      <td>100 to 499 employees</td>\n",
       "      <td>EUR European Euro</td>\n",
       "      <td>NaN</td>\n",
       "      <td>Monthly</td>\n",
       "      <td>[JavaScript, TypeScript]</td>\n",
       "      <td>[JavaScript, TypeScript]</td>\n",
       "      <td>[]</td>\n",
       "      <td>[]</td>\n",
       "      <td>[]</td>\n",
       "      <td>[]</td>\n",
       "      <td>[Angular, jQuery]</td>\n",
       "      <td>[Angular, jQuery]</td>\n",
       "      <td>[]</td>\n",
       "      <td>[]</td>\n",
       "      <td>[]</td>\n",
       "      <td>[]</td>\n",
       "      <td>[]</td>\n",
       "      <td>[]</td>\n",
       "      <td>Windows</td>\n",
       "      <td>[Call a coworker or friend, Visit Stack Overfl...</td>\n",
       "      <td>[Stack Overflow]</td>\n",
       "      <td>Daily or almost daily</td>\n",
       "      <td>Yes</td>\n",
       "      <td>Daily or almost daily</td>\n",
       "      <td>Neutral</td>\n",
       "      <td>No</td>\n",
       "      <td>35-44 years old</td>\n",
       "      <td>[Man]</td>\n",
       "      <td>No</td>\n",
       "      <td>[Straight / Heterosexual]</td>\n",
       "      <td>[White or of European descent]</td>\n",
       "      <td>[I am deaf / hard of hearing]</td>\n",
       "      <td>[]</td>\n",
       "      <td>Appropriate in length</td>\n",
       "      <td>Neither easy nor difficult</td>\n",
       "      <td>NaN</td>\n",
       "    </tr>\n",
       "    <tr>\n",
       "      <th>4</th>\n",
       "      <td>5</td>\n",
       "      <td>I am a developer by profession</td>\n",
       "      <td>Independent contractor, freelancer, or self-em...</td>\n",
       "      <td>United Kingdom of Great Britain and Northern I...</td>\n",
       "      <td>NaN</td>\n",
       "      <td>England</td>\n",
       "      <td>Master’s degree (M.A., M.S., M.Eng., MBA, etc.)</td>\n",
       "      <td>5 - 10 years</td>\n",
       "      <td>[Friend or family member]</td>\n",
       "      <td>17.0</td>\n",
       "      <td>10.0</td>\n",
       "      <td>[Developer, desktop or enterprise applications...</td>\n",
       "      <td>Just me - I am a freelancer, sole proprietor, ...</td>\n",
       "      <td>GBP\\tPound sterling</td>\n",
       "      <td>NaN</td>\n",
       "      <td>NaN</td>\n",
       "      <td>[Bash/Shell, HTML/CSS, Python, SQL]</td>\n",
       "      <td>[Bash/Shell, HTML/CSS, Python, SQL]</td>\n",
       "      <td>[Elasticsearch, PostgreSQL, Redis]</td>\n",
       "      <td>[Cassandra, Elasticsearch, PostgreSQL, Redis]</td>\n",
       "      <td>[]</td>\n",
       "      <td>[]</td>\n",
       "      <td>[Flask]</td>\n",
       "      <td>[Flask]</td>\n",
       "      <td>[Apache Spark, Hadoop, NumPy, Pandas]</td>\n",
       "      <td>[Hadoop, NumPy, Pandas]</td>\n",
       "      <td>[Docker, Git, Kubernetes, Yarn]</td>\n",
       "      <td>[Docker, Git, Kubernetes, Yarn]</td>\n",
       "      <td>[Atom, IPython/Jupyter, Notepad++, PyCharm, Vim]</td>\n",
       "      <td>[Atom, IPython/Jupyter, Notepad++, PyCharm, Vi...</td>\n",
       "      <td>Linux-based</td>\n",
       "      <td>[Visit Stack Overflow, Go for a walk or other ...</td>\n",
       "      <td>[Stack Overflow, Stack Exchange]</td>\n",
       "      <td>Daily or almost daily</td>\n",
       "      <td>Yes</td>\n",
       "      <td>A few times per week</td>\n",
       "      <td>Yes, somewhat</td>\n",
       "      <td>No</td>\n",
       "      <td>25-34 years old</td>\n",
       "      <td>[Man]</td>\n",
       "      <td>No</td>\n",
       "      <td>[]</td>\n",
       "      <td>[White or of European descent]</td>\n",
       "      <td>[None of the above]</td>\n",
       "      <td>[]</td>\n",
       "      <td>Appropriate in length</td>\n",
       "      <td>Easy</td>\n",
       "      <td>NaN</td>\n",
       "    </tr>\n",
       "    <tr>\n",
       "      <th>8</th>\n",
       "      <td>9</td>\n",
       "      <td>I am a developer by profession</td>\n",
       "      <td>Employed part-time</td>\n",
       "      <td>India</td>\n",
       "      <td>NaN</td>\n",
       "      <td>NaN</td>\n",
       "      <td>Bachelor’s degree (B.A., B.S., B.Eng., etc.)</td>\n",
       "      <td>18 - 24 years</td>\n",
       "      <td>[Coding Bootcamp]</td>\n",
       "      <td>6.0</td>\n",
       "      <td>4.0</td>\n",
       "      <td>[Developer, front-end]</td>\n",
       "      <td>10,000 or more employees</td>\n",
       "      <td>INR\\tIndian rupee</td>\n",
       "      <td>NaN</td>\n",
       "      <td>Monthly</td>\n",
       "      <td>[HTML/CSS, JavaScript]</td>\n",
       "      <td>[HTML/CSS, JavaScript]</td>\n",
       "      <td>[PostgreSQL]</td>\n",
       "      <td>[PostgreSQL]</td>\n",
       "      <td>[AWS]</td>\n",
       "      <td>[]</td>\n",
       "      <td>[Django, FastAPI]</td>\n",
       "      <td>[Django, FastAPI]</td>\n",
       "      <td>[]</td>\n",
       "      <td>[]</td>\n",
       "      <td>[Docker, Git]</td>\n",
       "      <td>[Docker, Git, Kubernetes]</td>\n",
       "      <td>[PyCharm, Sublime Text]</td>\n",
       "      <td>[PyCharm, Sublime Text]</td>\n",
       "      <td>Windows</td>\n",
       "      <td>[Visit Stack Overflow, Google it, Panic]</td>\n",
       "      <td>[Stack Overflow, Stack Exchange]</td>\n",
       "      <td>A few times per week</td>\n",
       "      <td>Yes</td>\n",
       "      <td>Less than once per month or monthly</td>\n",
       "      <td>Yes, definitely</td>\n",
       "      <td>No</td>\n",
       "      <td>25-34 years old</td>\n",
       "      <td>[Man]</td>\n",
       "      <td>No</td>\n",
       "      <td>[]</td>\n",
       "      <td>[South Asian]</td>\n",
       "      <td>[]</td>\n",
       "      <td>[I have a concentration and/or memory disorder...</td>\n",
       "      <td>Appropriate in length</td>\n",
       "      <td>Easy</td>\n",
       "      <td>NaN</td>\n",
       "    </tr>\n",
       "    <tr>\n",
       "      <th>9</th>\n",
       "      <td>10</td>\n",
       "      <td>I am a developer by profession</td>\n",
       "      <td>Employed full-time</td>\n",
       "      <td>Sweden</td>\n",
       "      <td>NaN</td>\n",
       "      <td>NaN</td>\n",
       "      <td>Master’s degree (M.A., M.S., M.Eng., MBA, etc.)</td>\n",
       "      <td>11 - 17 years</td>\n",
       "      <td>[School]</td>\n",
       "      <td>7.0</td>\n",
       "      <td>4.0</td>\n",
       "      <td>[Data scientist or machine learning specialist]</td>\n",
       "      <td>10 to 19 employees</td>\n",
       "      <td>SEK\\tSwedish krona</td>\n",
       "      <td>42000.0</td>\n",
       "      <td>Monthly</td>\n",
       "      <td>[C++, Python]</td>\n",
       "      <td>[Haskell, Python]</td>\n",
       "      <td>[PostgreSQL]</td>\n",
       "      <td>[]</td>\n",
       "      <td>[]</td>\n",
       "      <td>[]</td>\n",
       "      <td>[]</td>\n",
       "      <td>[]</td>\n",
       "      <td>[Keras, NumPy, Pandas, TensorFlow, Torch/PyTorch]</td>\n",
       "      <td>[Keras, NumPy, TensorFlow, Torch/PyTorch]</td>\n",
       "      <td>[Git]</td>\n",
       "      <td>[Git]</td>\n",
       "      <td>[IPython/Jupyter, Vim, Visual Studio Code]</td>\n",
       "      <td>[Emacs, IPython/Jupyter, Vim, Visual Studio Code]</td>\n",
       "      <td>Linux-based</td>\n",
       "      <td>[Call a coworker or friend, Visit Stack Overfl...</td>\n",
       "      <td>[Stack Overflow, Stack Exchange]</td>\n",
       "      <td>Multiple times per day</td>\n",
       "      <td>Yes</td>\n",
       "      <td>Daily or almost daily</td>\n",
       "      <td>Yes, somewhat</td>\n",
       "      <td>No</td>\n",
       "      <td>25-34 years old</td>\n",
       "      <td>[Man]</td>\n",
       "      <td>No</td>\n",
       "      <td>[Straight / Heterosexual]</td>\n",
       "      <td>[White or of European descent]</td>\n",
       "      <td>[None of the above]</td>\n",
       "      <td>[None of the above]</td>\n",
       "      <td>Appropriate in length</td>\n",
       "      <td>Neither easy nor difficult</td>\n",
       "      <td>51552.0</td>\n",
       "    </tr>\n",
       "    <tr>\n",
       "      <th>...</th>\n",
       "      <td>...</td>\n",
       "      <td>...</td>\n",
       "      <td>...</td>\n",
       "      <td>...</td>\n",
       "      <td>...</td>\n",
       "      <td>...</td>\n",
       "      <td>...</td>\n",
       "      <td>...</td>\n",
       "      <td>...</td>\n",
       "      <td>...</td>\n",
       "      <td>...</td>\n",
       "      <td>...</td>\n",
       "      <td>...</td>\n",
       "      <td>...</td>\n",
       "      <td>...</td>\n",
       "      <td>...</td>\n",
       "      <td>...</td>\n",
       "      <td>...</td>\n",
       "      <td>...</td>\n",
       "      <td>...</td>\n",
       "      <td>...</td>\n",
       "      <td>...</td>\n",
       "      <td>...</td>\n",
       "      <td>...</td>\n",
       "      <td>...</td>\n",
       "      <td>...</td>\n",
       "      <td>...</td>\n",
       "      <td>...</td>\n",
       "      <td>...</td>\n",
       "      <td>...</td>\n",
       "      <td>...</td>\n",
       "      <td>...</td>\n",
       "      <td>...</td>\n",
       "      <td>...</td>\n",
       "      <td>...</td>\n",
       "      <td>...</td>\n",
       "      <td>...</td>\n",
       "      <td>...</td>\n",
       "      <td>...</td>\n",
       "      <td>...</td>\n",
       "      <td>...</td>\n",
       "      <td>...</td>\n",
       "      <td>...</td>\n",
       "      <td>...</td>\n",
       "      <td>...</td>\n",
       "      <td>...</td>\n",
       "      <td>...</td>\n",
       "      <td>...</td>\n",
       "    </tr>\n",
       "    <tr>\n",
       "      <th>83434</th>\n",
       "      <td>83435</td>\n",
       "      <td>I am a developer by profession</td>\n",
       "      <td>Employed full-time</td>\n",
       "      <td>United States of America</td>\n",
       "      <td>Texas</td>\n",
       "      <td>NaN</td>\n",
       "      <td>Bachelor’s degree (B.A., B.S., B.Eng., etc.)</td>\n",
       "      <td>11 - 17 years</td>\n",
       "      <td>[Other online resources (ex: videos, blogs, et...</td>\n",
       "      <td>6.0</td>\n",
       "      <td>5.0</td>\n",
       "      <td>[Developer, back-end]</td>\n",
       "      <td>20 to 99 employees</td>\n",
       "      <td>USD\\tUnited States dollar</td>\n",
       "      <td>160500.0</td>\n",
       "      <td>Yearly</td>\n",
       "      <td>[Clojure, Kotlin, SQL]</td>\n",
       "      <td>[Clojure]</td>\n",
       "      <td>[Oracle, SQLite]</td>\n",
       "      <td>[SQLite]</td>\n",
       "      <td>[AWS]</td>\n",
       "      <td>[AWS]</td>\n",
       "      <td>[]</td>\n",
       "      <td>[]</td>\n",
       "      <td>[]</td>\n",
       "      <td>[]</td>\n",
       "      <td>[Docker, Git]</td>\n",
       "      <td>[Git, Kubernetes]</td>\n",
       "      <td>[IntelliJ, Sublime Text, Vim, Visual Studio Code]</td>\n",
       "      <td>[Sublime Text, Vim]</td>\n",
       "      <td>MacOS</td>\n",
       "      <td>[Call a coworker or friend, Google it]</td>\n",
       "      <td>[Stack Overflow, Stack Exchange]</td>\n",
       "      <td>A few times per week</td>\n",
       "      <td>No</td>\n",
       "      <td>NaN</td>\n",
       "      <td>No, not at all</td>\n",
       "      <td>No</td>\n",
       "      <td>25-34 years old</td>\n",
       "      <td>[Man]</td>\n",
       "      <td>No</td>\n",
       "      <td>[Straight / Heterosexual]</td>\n",
       "      <td>[White or of European descent]</td>\n",
       "      <td>[None of the above]</td>\n",
       "      <td>[I have a concentration and/or memory disorder...</td>\n",
       "      <td>Appropriate in length</td>\n",
       "      <td>Easy</td>\n",
       "      <td>160500.0</td>\n",
       "    </tr>\n",
       "    <tr>\n",
       "      <th>83435</th>\n",
       "      <td>83436</td>\n",
       "      <td>I am a developer by profession</td>\n",
       "      <td>Independent contractor, freelancer, or self-em...</td>\n",
       "      <td>Benin</td>\n",
       "      <td>NaN</td>\n",
       "      <td>NaN</td>\n",
       "      <td>Bachelor’s degree (B.A., B.S., B.Eng., etc.)</td>\n",
       "      <td>11 - 17 years</td>\n",
       "      <td>[Other online resources (ex: videos, blogs, et...</td>\n",
       "      <td>4.0</td>\n",
       "      <td>2.0</td>\n",
       "      <td>[Developer, full-stack]</td>\n",
       "      <td>Just me - I am a freelancer, sole proprietor, ...</td>\n",
       "      <td>XOF\\tWest African CFA franc</td>\n",
       "      <td>200000.0</td>\n",
       "      <td>Monthly</td>\n",
       "      <td>[]</td>\n",
       "      <td>[]</td>\n",
       "      <td>[Firebase, MariaDB, MySQL, PostgreSQL, Redis, ...</td>\n",
       "      <td>[Firebase, MariaDB, MongoDB, MySQL, PostgreSQL...</td>\n",
       "      <td>[]</td>\n",
       "      <td>[]</td>\n",
       "      <td>[Django, jQuery, Laravel, React.js, Ruby on Ra...</td>\n",
       "      <td>[Django, Express, jQuery, Laravel, React.js, R...</td>\n",
       "      <td>[Flutter, Qt]</td>\n",
       "      <td>[]</td>\n",
       "      <td>[Git, Unity 3D, Unreal Engine]</td>\n",
       "      <td>[Docker, Git, Kubernetes]</td>\n",
       "      <td>[Android Studio, Eclipse, Emacs, IntelliJ, Net...</td>\n",
       "      <td>[Emacs, IntelliJ, PHPStorm, PyCharm, RStudio, ...</td>\n",
       "      <td>Linux-based</td>\n",
       "      <td>[Call a coworker or friend, Visit Stack Overfl...</td>\n",
       "      <td>[Stack Overflow, Stack Exchange]</td>\n",
       "      <td>Multiple times per day</td>\n",
       "      <td>Yes</td>\n",
       "      <td>I have never participated in Q&amp;A on Stack Over...</td>\n",
       "      <td>Yes, somewhat</td>\n",
       "      <td>No</td>\n",
       "      <td>18-24 years old</td>\n",
       "      <td>[Man]</td>\n",
       "      <td>No</td>\n",
       "      <td>[Straight / Heterosexual]</td>\n",
       "      <td>[Black or of African descent]</td>\n",
       "      <td>[None of the above]</td>\n",
       "      <td>[None of the above]</td>\n",
       "      <td>Appropriate in length</td>\n",
       "      <td>Easy</td>\n",
       "      <td>3960.0</td>\n",
       "    </tr>\n",
       "    <tr>\n",
       "      <th>83436</th>\n",
       "      <td>83437</td>\n",
       "      <td>I am a developer by profession</td>\n",
       "      <td>Employed full-time</td>\n",
       "      <td>United States of America</td>\n",
       "      <td>New Jersey</td>\n",
       "      <td>NaN</td>\n",
       "      <td>Secondary school (e.g. American high school, G...</td>\n",
       "      <td>11 - 17 years</td>\n",
       "      <td>[School]</td>\n",
       "      <td>10.0</td>\n",
       "      <td>4.0</td>\n",
       "      <td>[Data scientist or machine learning specialist...</td>\n",
       "      <td>10,000 or more employees</td>\n",
       "      <td>USD\\tUnited States dollar</td>\n",
       "      <td>1800.0</td>\n",
       "      <td>Weekly</td>\n",
       "      <td>[Groovy, Java, Python]</td>\n",
       "      <td>[Java, Python]</td>\n",
       "      <td>[DynamoDB, Elasticsearch, MongoDB, PostgreSQL,...</td>\n",
       "      <td>[DynamoDB, Redis]</td>\n",
       "      <td>[AWS, Google Cloud Platform]</td>\n",
       "      <td>[AWS]</td>\n",
       "      <td>[FastAPI, Flask]</td>\n",
       "      <td>[FastAPI, Flask]</td>\n",
       "      <td>[Hadoop, Keras, NumPy, Pandas]</td>\n",
       "      <td>[Apache Spark, Hadoop, Keras, NumPy, Pandas, T...</td>\n",
       "      <td>[Ansible, Docker, Git, Terraform]</td>\n",
       "      <td>[Docker, Git, Kubernetes, Terraform]</td>\n",
       "      <td>[Android Studio, Eclipse, IntelliJ, IPython/Ju...</td>\n",
       "      <td>[IntelliJ, IPython/Jupyter, Notepad++, Vim]</td>\n",
       "      <td>Windows</td>\n",
       "      <td>[Call a coworker or friend, Visit Stack Overfl...</td>\n",
       "      <td>[Stack Overflow, Stack Exchange]</td>\n",
       "      <td>A few times per week</td>\n",
       "      <td>Yes</td>\n",
       "      <td>I have never participated in Q&amp;A on Stack Over...</td>\n",
       "      <td>No, not really</td>\n",
       "      <td>No</td>\n",
       "      <td>25-34 years old</td>\n",
       "      <td>[Man]</td>\n",
       "      <td>No</td>\n",
       "      <td>[]</td>\n",
       "      <td>[White or of European descent]</td>\n",
       "      <td>[None of the above]</td>\n",
       "      <td>[None of the above]</td>\n",
       "      <td>Appropriate in length</td>\n",
       "      <td>Neither easy nor difficult</td>\n",
       "      <td>90000.0</td>\n",
       "    </tr>\n",
       "    <tr>\n",
       "      <th>83437</th>\n",
       "      <td>83438</td>\n",
       "      <td>I am a developer by profession</td>\n",
       "      <td>Employed full-time</td>\n",
       "      <td>Canada</td>\n",
       "      <td>NaN</td>\n",
       "      <td>NaN</td>\n",
       "      <td>Bachelor’s degree (B.A., B.S., B.Eng., etc.)</td>\n",
       "      <td>11 - 17 years</td>\n",
       "      <td>[Online Courses or Certification, Books / Phys...</td>\n",
       "      <td>5.0</td>\n",
       "      <td>3.0</td>\n",
       "      <td>[Developer, back-end]</td>\n",
       "      <td>20 to 99 employees</td>\n",
       "      <td>CAD\\tCanadian dollar</td>\n",
       "      <td>90000.0</td>\n",
       "      <td>Monthly</td>\n",
       "      <td>[Bash/Shell, JavaScript, Node.js, Python]</td>\n",
       "      <td>[Go, Rust]</td>\n",
       "      <td>[Cassandra, Elasticsearch, MongoDB, PostgreSQL...</td>\n",
       "      <td>[]</td>\n",
       "      <td>[Heroku]</td>\n",
       "      <td>[AWS, DigitalOcean]</td>\n",
       "      <td>[Django, Express, Flask, React.js]</td>\n",
       "      <td>[]</td>\n",
       "      <td>[NumPy, Pandas, TensorFlow, Torch/PyTorch]</td>\n",
       "      <td>[NumPy, Pandas, TensorFlow, Torch/PyTorch]</td>\n",
       "      <td>[Ansible, Docker, Git, Terraform]</td>\n",
       "      <td>[Kubernetes, Terraform]</td>\n",
       "      <td>[PyCharm, Sublime Text]</td>\n",
       "      <td>[]</td>\n",
       "      <td>MacOS</td>\n",
       "      <td>[Call a coworker or friend, Visit Stack Overfl...</td>\n",
       "      <td>[Stack Overflow]</td>\n",
       "      <td>A few times per month or weekly</td>\n",
       "      <td>Yes</td>\n",
       "      <td>Less than once per month or monthly</td>\n",
       "      <td>No, not really</td>\n",
       "      <td>No</td>\n",
       "      <td>25-34 years old</td>\n",
       "      <td>[Man]</td>\n",
       "      <td>No</td>\n",
       "      <td>[Straight / Heterosexual]</td>\n",
       "      <td>[White or of European descent]</td>\n",
       "      <td>[None of the above]</td>\n",
       "      <td>[I have a mood or emotional disorder (e.g. dep...</td>\n",
       "      <td>Appropriate in length</td>\n",
       "      <td>Neither easy nor difficult</td>\n",
       "      <td>816816.0</td>\n",
       "    </tr>\n",
       "    <tr>\n",
       "      <th>83438</th>\n",
       "      <td>83439</td>\n",
       "      <td>I am a developer by profession</td>\n",
       "      <td>Employed full-time</td>\n",
       "      <td>Brazil</td>\n",
       "      <td>NaN</td>\n",
       "      <td>NaN</td>\n",
       "      <td>Professional degree (JD, MD, etc.)</td>\n",
       "      <td>11 - 17 years</td>\n",
       "      <td>[School]</td>\n",
       "      <td>14.0</td>\n",
       "      <td>4.0</td>\n",
       "      <td>[Developer, front-end, Developer, full-stack, ...</td>\n",
       "      <td>I don’t know</td>\n",
       "      <td>BRL\\tBrazilian real</td>\n",
       "      <td>7700.0</td>\n",
       "      <td>Monthly</td>\n",
       "      <td>[Delphi, Elixir, HTML/CSS, Java, JavaScript]</td>\n",
       "      <td>[Elixir, HTML/CSS, Java, JavaScript, Node.js, ...</td>\n",
       "      <td>[Oracle, PostgreSQL]</td>\n",
       "      <td>[Elasticsearch, MongoDB, MySQL, Oracle, Postgr...</td>\n",
       "      <td>[Microsoft Azure]</td>\n",
       "      <td>[AWS]</td>\n",
       "      <td>[Angular, Spring]</td>\n",
       "      <td>[Express, Laravel, Spring, Symfony]</td>\n",
       "      <td>[]</td>\n",
       "      <td>[]</td>\n",
       "      <td>[Docker, Git]</td>\n",
       "      <td>[Docker, Git, Kubernetes]</td>\n",
       "      <td>[IntelliJ, Visual Studio Code]</td>\n",
       "      <td>[IntelliJ, PHPStorm, Visual Studio Code]</td>\n",
       "      <td>Linux-based</td>\n",
       "      <td>[Call a coworker or friend, Visit Stack Overfl...</td>\n",
       "      <td>[Stack Overflow, Stack Exchange, Stack Overflo...</td>\n",
       "      <td>A few times per week</td>\n",
       "      <td>Yes</td>\n",
       "      <td>A few times per week</td>\n",
       "      <td>Yes, somewhat</td>\n",
       "      <td>No</td>\n",
       "      <td>18-24 years old</td>\n",
       "      <td>[Man]</td>\n",
       "      <td>No</td>\n",
       "      <td>[Straight / Heterosexual]</td>\n",
       "      <td>[Hispanic or Latino/a/x]</td>\n",
       "      <td>[None of the above]</td>\n",
       "      <td>[None of the above]</td>\n",
       "      <td>Appropriate in length</td>\n",
       "      <td>Easy</td>\n",
       "      <td>21168.0</td>\n",
       "    </tr>\n",
       "  </tbody>\n",
       "</table>\n",
       "<p>58153 rows × 48 columns</p>\n",
       "</div>"
      ],
      "text/plain": [
       "       ResponseId                      MainBranch  \\\n",
       "0               1  I am a developer by profession   \n",
       "3               4  I am a developer by profession   \n",
       "4               5  I am a developer by profession   \n",
       "8               9  I am a developer by profession   \n",
       "9              10  I am a developer by profession   \n",
       "...           ...                             ...   \n",
       "83434       83435  I am a developer by profession   \n",
       "83435       83436  I am a developer by profession   \n",
       "83436       83437  I am a developer by profession   \n",
       "83437       83438  I am a developer by profession   \n",
       "83438       83439  I am a developer by profession   \n",
       "\n",
       "                                              Employment  \\\n",
       "0      Independent contractor, freelancer, or self-em...   \n",
       "3                                     Employed full-time   \n",
       "4      Independent contractor, freelancer, or self-em...   \n",
       "8                                     Employed part-time   \n",
       "9                                     Employed full-time   \n",
       "...                                                  ...   \n",
       "83434                                 Employed full-time   \n",
       "83435  Independent contractor, freelancer, or self-em...   \n",
       "83436                                 Employed full-time   \n",
       "83437                                 Employed full-time   \n",
       "83438                                 Employed full-time   \n",
       "\n",
       "                                                 Country    US_State  \\\n",
       "0                                               Slovakia         NaN   \n",
       "3                                                Austria         NaN   \n",
       "4      United Kingdom of Great Britain and Northern I...         NaN   \n",
       "8                                                  India         NaN   \n",
       "9                                                 Sweden         NaN   \n",
       "...                                                  ...         ...   \n",
       "83434                           United States of America       Texas   \n",
       "83435                                              Benin         NaN   \n",
       "83436                           United States of America  New Jersey   \n",
       "83437                                             Canada         NaN   \n",
       "83438                                             Brazil         NaN   \n",
       "\n",
       "      UK_Country                                            EdLevel  \\\n",
       "0            NaN  Secondary school (e.g. American high school, G...   \n",
       "3            NaN    Master’s degree (M.A., M.S., M.Eng., MBA, etc.)   \n",
       "4        England    Master’s degree (M.A., M.S., M.Eng., MBA, etc.)   \n",
       "8            NaN       Bachelor’s degree (B.A., B.S., B.Eng., etc.)   \n",
       "9            NaN    Master’s degree (M.A., M.S., M.Eng., MBA, etc.)   \n",
       "...          ...                                                ...   \n",
       "83434        NaN       Bachelor’s degree (B.A., B.S., B.Eng., etc.)   \n",
       "83435        NaN       Bachelor’s degree (B.A., B.S., B.Eng., etc.)   \n",
       "83436        NaN  Secondary school (e.g. American high school, G...   \n",
       "83437        NaN       Bachelor’s degree (B.A., B.S., B.Eng., etc.)   \n",
       "83438        NaN                 Professional degree (JD, MD, etc.)   \n",
       "\n",
       "          Age1stCode                                          LearnCode  \\\n",
       "0      18 - 24 years  [Coding Bootcamp, Other online resources (ex: ...   \n",
       "3      11 - 17 years                                                 []   \n",
       "4       5 - 10 years                          [Friend or family member]   \n",
       "8      18 - 24 years                                  [Coding Bootcamp]   \n",
       "9      11 - 17 years                                           [School]   \n",
       "...              ...                                                ...   \n",
       "83434  11 - 17 years  [Other online resources (ex: videos, blogs, et...   \n",
       "83435  11 - 17 years  [Other online resources (ex: videos, blogs, et...   \n",
       "83436  11 - 17 years                                           [School]   \n",
       "83437  11 - 17 years  [Online Courses or Certification, Books / Phys...   \n",
       "83438  11 - 17 years                                           [School]   \n",
       "\n",
       "       YearsCode  YearsCodePro  \\\n",
       "0            NaN           NaN   \n",
       "3            NaN           NaN   \n",
       "4           17.0          10.0   \n",
       "8            6.0           4.0   \n",
       "9            7.0           4.0   \n",
       "...          ...           ...   \n",
       "83434        6.0           5.0   \n",
       "83435        4.0           2.0   \n",
       "83436       10.0           4.0   \n",
       "83437        5.0           3.0   \n",
       "83438       14.0           4.0   \n",
       "\n",
       "                                                 DevType  \\\n",
       "0                                    [Developer, mobile]   \n",
       "3                                 [Developer, front-end]   \n",
       "4      [Developer, desktop or enterprise applications...   \n",
       "8                                 [Developer, front-end]   \n",
       "9        [Data scientist or machine learning specialist]   \n",
       "...                                                  ...   \n",
       "83434                              [Developer, back-end]   \n",
       "83435                            [Developer, full-stack]   \n",
       "83436  [Data scientist or machine learning specialist...   \n",
       "83437                              [Developer, back-end]   \n",
       "83438  [Developer, front-end, Developer, full-stack, ...   \n",
       "\n",
       "                                                 OrgSize  \\\n",
       "0                                     20 to 99 employees   \n",
       "3                                   100 to 499 employees   \n",
       "4      Just me - I am a freelancer, sole proprietor, ...   \n",
       "8                               10,000 or more employees   \n",
       "9                                     10 to 19 employees   \n",
       "...                                                  ...   \n",
       "83434                                 20 to 99 employees   \n",
       "83435  Just me - I am a freelancer, sole proprietor, ...   \n",
       "83436                           10,000 or more employees   \n",
       "83437                                 20 to 99 employees   \n",
       "83438                                       I don’t know   \n",
       "\n",
       "                          Currency  CompTotal CompFreq  \\\n",
       "0                EUR European Euro     4800.0  Monthly   \n",
       "3                EUR European Euro        NaN  Monthly   \n",
       "4              GBP\\tPound sterling        NaN      NaN   \n",
       "8                INR\\tIndian rupee        NaN  Monthly   \n",
       "9               SEK\\tSwedish krona    42000.0  Monthly   \n",
       "...                            ...        ...      ...   \n",
       "83434    USD\\tUnited States dollar   160500.0   Yearly   \n",
       "83435  XOF\\tWest African CFA franc   200000.0  Monthly   \n",
       "83436    USD\\tUnited States dollar     1800.0   Weekly   \n",
       "83437         CAD\\tCanadian dollar    90000.0  Monthly   \n",
       "83438          BRL\\tBrazilian real     7700.0  Monthly   \n",
       "\n",
       "                                  LanguageHaveWorkedWith  \\\n",
       "0      [C++, HTML/CSS, JavaScript, Objective-C, PHP, ...   \n",
       "3                               [JavaScript, TypeScript]   \n",
       "4                    [Bash/Shell, HTML/CSS, Python, SQL]   \n",
       "8                                 [HTML/CSS, JavaScript]   \n",
       "9                                          [C++, Python]   \n",
       "...                                                  ...   \n",
       "83434                             [Clojure, Kotlin, SQL]   \n",
       "83435                                                 []   \n",
       "83436                             [Groovy, Java, Python]   \n",
       "83437          [Bash/Shell, JavaScript, Node.js, Python]   \n",
       "83438       [Delphi, Elixir, HTML/CSS, Java, JavaScript]   \n",
       "\n",
       "                                  LanguageWantToWorkWith  \\\n",
       "0                                                [Swift]   \n",
       "3                               [JavaScript, TypeScript]   \n",
       "4                    [Bash/Shell, HTML/CSS, Python, SQL]   \n",
       "8                                 [HTML/CSS, JavaScript]   \n",
       "9                                      [Haskell, Python]   \n",
       "...                                                  ...   \n",
       "83434                                          [Clojure]   \n",
       "83435                                                 []   \n",
       "83436                                     [Java, Python]   \n",
       "83437                                         [Go, Rust]   \n",
       "83438  [Elixir, HTML/CSS, Java, JavaScript, Node.js, ...   \n",
       "\n",
       "                                  DatabaseHaveWorkedWith  \\\n",
       "0                                   [PostgreSQL, SQLite]   \n",
       "3                                                     []   \n",
       "4                     [Elasticsearch, PostgreSQL, Redis]   \n",
       "8                                           [PostgreSQL]   \n",
       "9                                           [PostgreSQL]   \n",
       "...                                                  ...   \n",
       "83434                                   [Oracle, SQLite]   \n",
       "83435  [Firebase, MariaDB, MySQL, PostgreSQL, Redis, ...   \n",
       "83436  [DynamoDB, Elasticsearch, MongoDB, PostgreSQL,...   \n",
       "83437  [Cassandra, Elasticsearch, MongoDB, PostgreSQL...   \n",
       "83438                               [Oracle, PostgreSQL]   \n",
       "\n",
       "                                  DatabaseWantToWorkWith  \\\n",
       "0                                               [SQLite]   \n",
       "3                                                     []   \n",
       "4          [Cassandra, Elasticsearch, PostgreSQL, Redis]   \n",
       "8                                           [PostgreSQL]   \n",
       "9                                                     []   \n",
       "...                                                  ...   \n",
       "83434                                           [SQLite]   \n",
       "83435  [Firebase, MariaDB, MongoDB, MySQL, PostgreSQL...   \n",
       "83436                                  [DynamoDB, Redis]   \n",
       "83437                                                 []   \n",
       "83438  [Elasticsearch, MongoDB, MySQL, Oracle, Postgr...   \n",
       "\n",
       "             PlatformHaveWorkedWith PlatformWantToWorkWith  \\\n",
       "0                                []                     []   \n",
       "3                                []                     []   \n",
       "4                                []                     []   \n",
       "8                             [AWS]                     []   \n",
       "9                                []                     []   \n",
       "...                             ...                    ...   \n",
       "83434                         [AWS]                  [AWS]   \n",
       "83435                            []                     []   \n",
       "83436  [AWS, Google Cloud Platform]                  [AWS]   \n",
       "83437                      [Heroku]    [AWS, DigitalOcean]   \n",
       "83438             [Microsoft Azure]                  [AWS]   \n",
       "\n",
       "                                  WebframeHaveWorkedWith  \\\n",
       "0                                     [Laravel, Symfony]   \n",
       "3                                      [Angular, jQuery]   \n",
       "4                                                [Flask]   \n",
       "8                                      [Django, FastAPI]   \n",
       "9                                                     []   \n",
       "...                                                  ...   \n",
       "83434                                                 []   \n",
       "83435  [Django, jQuery, Laravel, React.js, Ruby on Ra...   \n",
       "83436                                   [FastAPI, Flask]   \n",
       "83437                 [Django, Express, Flask, React.js]   \n",
       "83438                                  [Angular, Spring]   \n",
       "\n",
       "                                  WebframeWantToWorkWith  \\\n",
       "0                                                     []   \n",
       "3                                      [Angular, jQuery]   \n",
       "4                                                [Flask]   \n",
       "8                                      [Django, FastAPI]   \n",
       "9                                                     []   \n",
       "...                                                  ...   \n",
       "83434                                                 []   \n",
       "83435  [Django, Express, jQuery, Laravel, React.js, R...   \n",
       "83436                                   [FastAPI, Flask]   \n",
       "83437                                                 []   \n",
       "83438                [Express, Laravel, Spring, Symfony]   \n",
       "\n",
       "                                  MiscTechHaveWorkedWith  \\\n",
       "0                                                     []   \n",
       "3                                                     []   \n",
       "4                  [Apache Spark, Hadoop, NumPy, Pandas]   \n",
       "8                                                     []   \n",
       "9      [Keras, NumPy, Pandas, TensorFlow, Torch/PyTorch]   \n",
       "...                                                  ...   \n",
       "83434                                                 []   \n",
       "83435                                      [Flutter, Qt]   \n",
       "83436                     [Hadoop, Keras, NumPy, Pandas]   \n",
       "83437         [NumPy, Pandas, TensorFlow, Torch/PyTorch]   \n",
       "83438                                                 []   \n",
       "\n",
       "                                  MiscTechWantToWorkWith  \\\n",
       "0                                                     []   \n",
       "3                                                     []   \n",
       "4                                [Hadoop, NumPy, Pandas]   \n",
       "8                                                     []   \n",
       "9              [Keras, NumPy, TensorFlow, Torch/PyTorch]   \n",
       "...                                                  ...   \n",
       "83434                                                 []   \n",
       "83435                                                 []   \n",
       "83436  [Apache Spark, Hadoop, Keras, NumPy, Pandas, T...   \n",
       "83437         [NumPy, Pandas, TensorFlow, Torch/PyTorch]   \n",
       "83438                                                 []   \n",
       "\n",
       "                 ToolsTechHaveWorkedWith  \\\n",
       "0                                     []   \n",
       "3                                     []   \n",
       "4        [Docker, Git, Kubernetes, Yarn]   \n",
       "8                          [Docker, Git]   \n",
       "9                                  [Git]   \n",
       "...                                  ...   \n",
       "83434                      [Docker, Git]   \n",
       "83435     [Git, Unity 3D, Unreal Engine]   \n",
       "83436  [Ansible, Docker, Git, Terraform]   \n",
       "83437  [Ansible, Docker, Git, Terraform]   \n",
       "83438                      [Docker, Git]   \n",
       "\n",
       "                    ToolsTechWantToWorkWith  \\\n",
       "0                                        []   \n",
       "3                                        []   \n",
       "4           [Docker, Git, Kubernetes, Yarn]   \n",
       "8                 [Docker, Git, Kubernetes]   \n",
       "9                                     [Git]   \n",
       "...                                     ...   \n",
       "83434                     [Git, Kubernetes]   \n",
       "83435             [Docker, Git, Kubernetes]   \n",
       "83436  [Docker, Git, Kubernetes, Terraform]   \n",
       "83437               [Kubernetes, Terraform]   \n",
       "83438             [Docker, Git, Kubernetes]   \n",
       "\n",
       "                            NEWCollabToolsHaveWorkedWith  \\\n",
       "0                                      [PHPStorm, Xcode]   \n",
       "3                                                     []   \n",
       "4       [Atom, IPython/Jupyter, Notepad++, PyCharm, Vim]   \n",
       "8                                [PyCharm, Sublime Text]   \n",
       "9             [IPython/Jupyter, Vim, Visual Studio Code]   \n",
       "...                                                  ...   \n",
       "83434  [IntelliJ, Sublime Text, Vim, Visual Studio Code]   \n",
       "83435  [Android Studio, Eclipse, Emacs, IntelliJ, Net...   \n",
       "83436  [Android Studio, Eclipse, IntelliJ, IPython/Ju...   \n",
       "83437                            [PyCharm, Sublime Text]   \n",
       "83438                     [IntelliJ, Visual Studio Code]   \n",
       "\n",
       "                            NEWCollabToolsWantToWorkWith        OpSys  \\\n",
       "0                                          [Atom, Xcode]        MacOS   \n",
       "3                                                     []      Windows   \n",
       "4      [Atom, IPython/Jupyter, Notepad++, PyCharm, Vi...  Linux-based   \n",
       "8                                [PyCharm, Sublime Text]      Windows   \n",
       "9      [Emacs, IPython/Jupyter, Vim, Visual Studio Code]  Linux-based   \n",
       "...                                                  ...          ...   \n",
       "83434                                [Sublime Text, Vim]        MacOS   \n",
       "83435  [Emacs, IntelliJ, PHPStorm, PyCharm, RStudio, ...  Linux-based   \n",
       "83436        [IntelliJ, IPython/Jupyter, Notepad++, Vim]      Windows   \n",
       "83437                                                 []        MacOS   \n",
       "83438           [IntelliJ, PHPStorm, Visual Studio Code]  Linux-based   \n",
       "\n",
       "                                                NEWStuck  \\\n",
       "0      [Call a coworker or friend, Visit Stack Overfl...   \n",
       "3      [Call a coworker or friend, Visit Stack Overfl...   \n",
       "4      [Visit Stack Overflow, Go for a walk or other ...   \n",
       "8               [Visit Stack Overflow, Google it, Panic]   \n",
       "9      [Call a coworker or friend, Visit Stack Overfl...   \n",
       "...                                                  ...   \n",
       "83434             [Call a coworker or friend, Google it]   \n",
       "83435  [Call a coworker or friend, Visit Stack Overfl...   \n",
       "83436  [Call a coworker or friend, Visit Stack Overfl...   \n",
       "83437  [Call a coworker or friend, Visit Stack Overfl...   \n",
       "83438  [Call a coworker or friend, Visit Stack Overfl...   \n",
       "\n",
       "                                              NEWSOSites  \\\n",
       "0                                       [Stack Overflow]   \n",
       "3                                       [Stack Overflow]   \n",
       "4                       [Stack Overflow, Stack Exchange]   \n",
       "8                       [Stack Overflow, Stack Exchange]   \n",
       "9                       [Stack Overflow, Stack Exchange]   \n",
       "...                                                  ...   \n",
       "83434                   [Stack Overflow, Stack Exchange]   \n",
       "83435                   [Stack Overflow, Stack Exchange]   \n",
       "83436                   [Stack Overflow, Stack Exchange]   \n",
       "83437                                   [Stack Overflow]   \n",
       "83438  [Stack Overflow, Stack Exchange, Stack Overflo...   \n",
       "\n",
       "                           SOVisitFreq SOAccount  \\\n",
       "0               Multiple times per day       Yes   \n",
       "3                Daily or almost daily       Yes   \n",
       "4                Daily or almost daily       Yes   \n",
       "8                 A few times per week       Yes   \n",
       "9               Multiple times per day       Yes   \n",
       "...                                ...       ...   \n",
       "83434             A few times per week        No   \n",
       "83435           Multiple times per day       Yes   \n",
       "83436             A few times per week       Yes   \n",
       "83437  A few times per month or weekly       Yes   \n",
       "83438             A few times per week       Yes   \n",
       "\n",
       "                                              SOPartFreq           SOComm  \\\n",
       "0                        A few times per month or weekly  Yes, definitely   \n",
       "3                                  Daily or almost daily          Neutral   \n",
       "4                                   A few times per week    Yes, somewhat   \n",
       "8                    Less than once per month or monthly  Yes, definitely   \n",
       "9                                  Daily or almost daily    Yes, somewhat   \n",
       "...                                                  ...              ...   \n",
       "83434                                                NaN   No, not at all   \n",
       "83435  I have never participated in Q&A on Stack Over...    Yes, somewhat   \n",
       "83436  I have never participated in Q&A on Stack Over...   No, not really   \n",
       "83437                Less than once per month or monthly   No, not really   \n",
       "83438                               A few times per week    Yes, somewhat   \n",
       "\n",
       "      NEWOtherComms              Age Gender Trans                  Sexuality  \\\n",
       "0                No  25-34 years old  [Man]    No  [Straight / Heterosexual]   \n",
       "3                No  35-44 years old  [Man]    No  [Straight / Heterosexual]   \n",
       "4                No  25-34 years old  [Man]    No                         []   \n",
       "8                No  25-34 years old  [Man]    No                         []   \n",
       "9                No  25-34 years old  [Man]    No  [Straight / Heterosexual]   \n",
       "...             ...              ...    ...   ...                        ...   \n",
       "83434            No  25-34 years old  [Man]    No  [Straight / Heterosexual]   \n",
       "83435            No  18-24 years old  [Man]    No  [Straight / Heterosexual]   \n",
       "83436            No  25-34 years old  [Man]    No                         []   \n",
       "83437            No  25-34 years old  [Man]    No  [Straight / Heterosexual]   \n",
       "83438            No  18-24 years old  [Man]    No  [Straight / Heterosexual]   \n",
       "\n",
       "                            Ethnicity                  Accessibility  \\\n",
       "0      [White or of European descent]            [None of the above]   \n",
       "3      [White or of European descent]  [I am deaf / hard of hearing]   \n",
       "4      [White or of European descent]            [None of the above]   \n",
       "8                       [South Asian]                             []   \n",
       "9      [White or of European descent]            [None of the above]   \n",
       "...                               ...                            ...   \n",
       "83434  [White or of European descent]            [None of the above]   \n",
       "83435   [Black or of African descent]            [None of the above]   \n",
       "83436  [White or of European descent]            [None of the above]   \n",
       "83437  [White or of European descent]            [None of the above]   \n",
       "83438        [Hispanic or Latino/a/x]            [None of the above]   \n",
       "\n",
       "                                            MentalHealth  \\\n",
       "0                                    [None of the above]   \n",
       "3                                                     []   \n",
       "4                                                     []   \n",
       "8      [I have a concentration and/or memory disorder...   \n",
       "9                                    [None of the above]   \n",
       "...                                                  ...   \n",
       "83434  [I have a concentration and/or memory disorder...   \n",
       "83435                                [None of the above]   \n",
       "83436                                [None of the above]   \n",
       "83437  [I have a mood or emotional disorder (e.g. dep...   \n",
       "83438                                [None of the above]   \n",
       "\n",
       "                SurveyLength                  SurveyEase  ConvertedCompYearly  \n",
       "0      Appropriate in length                        Easy              62268.0  \n",
       "3      Appropriate in length  Neither easy nor difficult                  NaN  \n",
       "4      Appropriate in length                        Easy                  NaN  \n",
       "8      Appropriate in length                        Easy                  NaN  \n",
       "9      Appropriate in length  Neither easy nor difficult              51552.0  \n",
       "...                      ...                         ...                  ...  \n",
       "83434  Appropriate in length                        Easy             160500.0  \n",
       "83435  Appropriate in length                        Easy               3960.0  \n",
       "83436  Appropriate in length  Neither easy nor difficult              90000.0  \n",
       "83437  Appropriate in length  Neither easy nor difficult             816816.0  \n",
       "83438  Appropriate in length                        Easy              21168.0  \n",
       "\n",
       "[58153 rows x 48 columns]"
      ]
     },
     "execution_count": 12,
     "metadata": {},
     "output_type": "execute_result"
    }
   ],
   "source": [
    "raw_df[raw_df[\"MainBranch\"] == \"I am a developer by profession\"]"
   ]
  },
  {
   "cell_type": "code",
   "execution_count": null,
   "id": "bba74744",
   "metadata": {},
   "outputs": [],
   "source": []
  }
 ],
 "metadata": {
  "kernelspec": {
   "display_name": "Python 3 (ipykernel)",
   "language": "python",
   "name": "python3"
  },
  "language_info": {
   "codemirror_mode": {
    "name": "ipython",
    "version": 3
   },
   "file_extension": ".py",
   "mimetype": "text/x-python",
   "name": "python",
   "nbconvert_exporter": "python",
   "pygments_lexer": "ipython3",
   "version": "3.9.7"
  }
 },
 "nbformat": 4,
 "nbformat_minor": 5
}
